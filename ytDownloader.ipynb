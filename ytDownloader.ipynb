{
 "cells": [
  {
   "cell_type": "code",
   "execution_count": 30,
   "metadata": {},
   "outputs": [],
   "source": [
    "from moviepy.editor import *\n",
    "import asyncio\n",
    "import nest_asyncio\n",
    "from queue import Queue\n",
    "from threading import Thread\n",
    "nest_asyncio.apply()"
   ]
  },
  {
   "attachments": {},
   "cell_type": "markdown",
   "metadata": {},
   "source": [
    "# 1. Loading appropriate json files\n",
    "\n",
    "- Change the dir inside the open() to read different json datasets\n",
    "- Change the 'limit' var to limit number of data downloaded (default: 99999)\n",
    "\n"
   ]
  },
  {
   "cell_type": "code",
   "execution_count": 42,
   "metadata": {},
   "outputs": [
    {
     "name": "stderr",
     "output_type": "stream",
     "text": [
      "                                                                     "
     ]
    },
    {
     "name": "stdout",
     "output_type": "stream",
     "text": [
      "{'org_text': 'match [light-a-MATCH]', 'clean_text': 'match', 'start_time': 0.0, 'signer_id': 0, 'signer': 0, 'start': 0, 'end': 83, 'file': 'match light-a-MATCH', 'label': 830, 'height': 360.0, 'fps': 30.0, 'end_time': 2.767, 'url': 'https://www.youtube.com/watch?v=C37R_Ix8-qs', 'text': 'match', 'box': [0.05754461884498596, 0.21637457609176636, 1.0, 0.7300844192504883], 'width': 640.0}\n",
      "{'org_text': 'FAIL', 'clean_text': 'fail', 'start_time': 0.0, 'signer_id': 0, 'signer': -1, 'start': 0, 'end': 74, 'file': 'FAIL', 'label': 542, 'height': 360.0, 'fps': 25.0, 'end_time': 2.96, 'url': 'https://www.youtube.com/watch?v=PIsUJl8BN_I', 'text': 'fail', 'box': [0.0657794177532196, 0.16717177629470825, 0.9392627477645874, 0.9187960028648376], 'width': 480.0}\n",
      "{'org_text': 'laugh', 'clean_text': 'laugh', 'start_time': 0.0, 'signer_id': 4, 'signer': 26, 'start': 0, 'end': 31, 'file': 'SignSchool Laugh with Legs 2', 'label': 312, 'height': 360.0, 'fps': 29.97, 'end_time': 1.034, 'url': 'www.youtube.com/watch?v=9FdHlMOnVjg', 'text': 'laugh', 'box': [0.13188594579696655, 0.32334136962890625, 1.0, 0.831863522529602], 'width': 640.0}\n",
      "{'org_text': 'BOOK', 'clean_text': 'book', 'start_time': 0.0, 'signer_id': 0, 'signer': -1, 'start': 0, 'end': 66, 'file': 'BOOK(3)', 'label': 38, 'height': 360.0, 'fps': 25.0, 'end_time': 2.64, 'url': 'https://www.youtube.com/watch?v=J7tP98oDxqE', 'text': 'book', 'box': [0.05569887161254883, 0.25173279643058777, 0.9968159794807434, 0.9009996652603149], 'width': 480.0}\n",
      "{'org_text': 'sign-language', 'clean_text': 'sign language', 'start_time': 0.0, 'signer_id': 0, 'signer': -1, 'start': 0, 'end': 75, 'file': 'SIGN-LANGUAGE-S-CLAW-F', 'label': 848, 'height': 360.0, 'fps': 29.97, 'end_time': 2.502, 'url': 'www.youtube.com/watch?v=N2mG9ZKjrGA', 'text': 'sign language', 'box': [0.03904399275779724, 0.24198183417320251, 1.0, 0.8586810827255249], 'width': 640.0}\n",
      "{'org_text': 'school', 'clean_text': 'school', 'start_time': 1.101, 'signer_id': 1, 'signer': 44, 'start': 33, 'end': 110, 'file': 'ASL Vocabulary school', 'label': 10, 'height': 360.0, 'fps': 29.97, 'end_time': 3.67, 'url': 'https://www.youtube.com/watch?v=1AyT77LqJzQ', 'review': 1, 'text': 'school', 'box': [0.0, 0.07651948928833008, 1.0, 1.0], 'width': 640.0}\n",
      "{'org_text': 'school', 'clean_text': 'school', 'start_time': 4.671, 'signer_id': 1, 'signer': 44, 'start': 140, 'end': 206, 'file': 'ASL Vocabulary school', 'label': 10, 'height': 360.0, 'fps': 29.97, 'end_time': 6.874, 'url': 'https://www.youtube.com/watch?v=1AyT77LqJzQ', 'review': 1, 'text': 'school', 'box': [0.0, 0.07651948928833008, 1.0, 1.0], 'width': 640.0}\n",
      "{'org_text': 'easter', 'clean_text': 'easter', 'start_time': 0.0, 'signer_id': 2, 'signer': 58, 'start': 0, 'end': 116, 'file': 'Easter', 'label': 794, 'height': 360.0, 'fps': 29.595, 'end_time': 3.92, 'url': 'https://www.youtube.com/watch?v=SVWABYmFdhs', 'text': 'easter', 'box': [0.0, 0.12271708250045776, 1.0, 0.8596268892288208], 'width': 640.0}\n",
      "{'org_text': 'Boring ', 'clean_text': 'boring', 'start_time': 0.0, 'signer_id': 13, 'signer': -1, 'start': 0, 'end': 71, 'file': 'ASL Boring ', 'label': 46, 'height': 360.0, 'fps': 25.0, 'end_time': 2.84, 'url': 'https://www.youtube.com/watch?v=CYx7qm62Zwo', 'text': 'bored', 'box': [0.056927233934402466, 0.26684892177581787, 0.9996088743209839, 0.6117504239082336], 'width': 640.0}\n",
      "{'org_text': 'PAST', 'clean_text': 'past', 'start_time': 0.0, 'signer_id': 191, 'signer': 13, 'start': 0, 'end': 32, 'file': 'PAST', 'label': 510, 'height': 720.0, 'fps': 29.97, 'end_time': 1.068, 'url': 'https://www.youtube.com/watch?v=cJOyCgIKyeA', 'text': 'past', 'box': [0.06102180480957031, 0.2915322780609131, 0.9981908798217773, 0.7298327684402466], 'width': 1280.0}\n",
      "{'org_text': 'telephone', 'clean_text': 'phone', 'start_time': 0.0, 'signer_id': 2, 'signer': 81, 'start': 0, 'end': 56, 'file': 'Telephone', 'label': 120, 'height': 360.0, 'fps': 29.651, 'end_time': 1.889, 'url': 'https://www.youtube.com/watch?v=HPz_C5XM4o4', 'review': 1, 'text': 'phone', 'box': [0.0, 0.13323259353637695, 1.0, 0.8751190900802612], 'width': 640.0}\n",
      "{'org_text': 'telephone', 'clean_text': 'phone', 'start_time': 2.462, 'signer_id': 2, 'signer': 81, 'start': 73, 'end': 123, 'file': 'Telephone', 'label': 120, 'height': 360.0, 'fps': 29.651, 'end_time': 4.148, 'url': 'https://www.youtube.com/watch?v=HPz_C5XM4o4', 'review': 1, 'text': 'phone', 'box': [0.0, 0.13323259353637695, 1.0, 0.8751190900802612], 'width': 640.0}\n",
      "{'org_text': 'telephone', 'clean_text': 'phone', 'start_time': 4.991, 'signer_id': 2, 'signer': 81, 'start': 148, 'end': 196, 'file': 'Telephone', 'label': 120, 'height': 360.0, 'fps': 29.651, 'end_time': 6.61, 'url': 'https://www.youtube.com/watch?v=HPz_C5XM4o4', 'review': 1, 'text': 'phone', 'box': [0.0, 0.13323259353637695, 1.0, 0.8751190900802612], 'width': 640.0}\n",
      "{'org_text': 'LIBRARY', 'clean_text': 'library', 'start_time': 0.0, 'signer_id': 0, 'signer': -1, 'start': 0, 'end': 73, 'file': 'LIBRARY(2)', 'label': 168, 'height': 360.0, 'fps': 25.0, 'end_time': 2.92, 'url': 'https://www.youtube.com/watch?v=S2cqitZ0qes', 'text': 'library', 'box': [0.021932870149612427, 0.17817333340644836, 0.995293378829956, 0.8944110870361328], 'width': 480.0}\n",
      "{'org_text': 'germany', 'clean_text': 'germany', 'start_time': 0.0, 'signer_id': 4, 'signer': 46, 'start': 0, 'end': 36, 'file': 'SignSchool Germany 3', 'label': 193, 'height': 360.0, 'fps': 29.97, 'end_time': 1.201, 'url': 'www.youtube.com/watch?v=zqfcp6NRKpA', 'text': 'germany', 'box': [0.10457548499107361, 0.23188011348247528, 1.0, 0.7407175898551941], 'width': 640.0}\n",
      "{'org_text': 'like', 'clean_text': 'like', 'start_time': 0.0, 'signer_id': 269, 'signer': 53, 'start': 0, 'end': 52, 'file': 'SignSchool really like', 'label': 6, 'height': 360.0, 'fps': 29.97, 'end_time': 1.735, 'url': 'www.youtube.com/watch?v=7y5Ye-2-ZBs', 'text': 'like', 'box': [0.04046148061752319, 0.3353118896484375, 0.998772382736206, 0.886972963809967], 'width': 640.0}\n",
      "{'org_text': 'COCHLEAR IMPLANT-[bent V version]', 'clean_text': 'cochlear implant', 'start_time': 0.0, 'signer_id': 0, 'signer': 0, 'start': 0, 'end': 112, 'file': 'COCHLEAR IMPLANT-bent V version', 'label': 916, 'height': 720.0, 'fps': 29.97, 'end_time': 3.737, 'url': 'https://www.youtube.com/watch?v=I_QDeKcyvns', 'text': 'cochlear implant', 'box': [0.01584610342979431, 0.24385881423950195, 1.0, 0.7607566118240356], 'width': 1280.0}\n",
      "{'org_text': 'rainbow ', 'clean_text': 'rainbow', 'start_time': 1.804, 'signer_id': 144, 'signer': -1, 'start': 54, 'end': 165, 'file': 'rainbow - ASL sign for rainbow', 'label': 669, 'height': 360.0, 'fps': 29.934, 'end_time': 5.512, 'url': 'https://www.youtube.com/watch?v=WeAFuzYTdtU', 'review': 1, 'text': 'rainbow', 'box': [0.004803866147994995, 0.0, 1.0, 0.9657534956932068], 'width': 480.0}\n",
      "{'org_text': 'rainbow ', 'clean_text': 'rainbow', 'start_time': 5.813, 'signer_id': 144, 'signer': -1, 'start': 174, 'end': 269, 'file': 'rainbow - ASL sign for rainbow', 'label': 669, 'height': 360.0, 'fps': 29.934, 'end_time': 8.986, 'url': 'https://www.youtube.com/watch?v=WeAFuzYTdtU', 'review': 1, 'text': 'rainbow', 'box': [0.004803866147994995, 0.0, 1.0, 0.9657534956932068], 'width': 480.0}\n",
      "{'org_text': 'rainbow ', 'clean_text': 'rainbow', 'start_time': 9.354, 'signer_id': 144, 'signer': -1, 'start': 280, 'end': 435, 'file': 'rainbow - ASL sign for rainbow', 'label': 669, 'height': 360.0, 'fps': 29.934, 'end_time': 14.532, 'url': 'https://www.youtube.com/watch?v=WeAFuzYTdtU', 'review': 1, 'text': 'rainbow', 'box': [0.004803866147994995, 0.0, 1.0, 0.9657534956932068], 'width': 480.0}\n",
      "{'org_text': 'LETTER', 'clean_text': 'letter', 'start_time': 0.0, 'signer_id': 0, 'signer': -1, 'start': 0, 'end': 73, 'file': 'LETTER(3)', 'label': 579, 'height': 360.0, 'fps': 25.0, 'end_time': 2.92, 'url': 'https://www.youtube.com/watch?v=sKbKzPIaFNA', 'text': 'letter', 'box': [0.07240766286849976, 0.1571163535118103, 0.9481772184371948, 0.8969380855560303], 'width': 480.0}\n",
      "{'org_text': 'FROM', 'clean_text': 'from', 'start_time': 0.0, 'signer_id': 0, 'signer': -1, 'start': 0, 'end': 68, 'file': 'FROM(1)', 'label': 298, 'height': 240.0, 'fps': 30.0, 'end_time': 2.267, 'url': 'https://www.youtube.com/watch?v=fQ58eciJmCY', 'text': 'from', 'box': [0.034245312213897705, 0.17717868089675903, 0.9956982731819153, 0.8752913475036621], 'width': 320.0}\n",
      "{'org_text': 'its/his/her', 'clean_text': 'his', 'start_time': 0.0, 'signer_id': 62, 'signer': -1, 'start': 0, 'end': 108, 'file': 'Sign ITSHISHER', 'label': 771, 'height': 360.0, 'fps': 30.0, 'end_time': 3.6, 'url': 'https://www.youtube.com/watch?v=GYWm0gdybFA', 'text': 'his', 'box': [0.0, 0.1818615198135376, 1.0, 0.8756287097930908], 'width': 640.0}\n",
      "{'org_text': 'HONG KONG-[fingerspelled-version]', 'clean_text': 'hong kong', 'start_time': 0.0, 'signer_id': 0, 'signer': 0, 'start': 0, 'end': 72, 'file': 'HONG KONG-fingerspelled-version', 'label': 906, 'height': 360.0, 'fps': 29.97, 'end_time': 2.402, 'url': 'https://www.youtube.com/watch?v=PIfDfi4Qx60', 'text': 'hong kong', 'box': [0.06418925523757935, 0.26669347286224365, 1.0, 0.7477506399154663], 'width': 640.0}\n",
      "{'org_text': 'EVERY MORNING', 'clean_text': 'every morning', 'start_time': 0.0, 'signer_id': 0, 'signer': -1, 'start': 0, 'end': 48, 'file': 'EVERY MORNING', 'label': 606, 'height': 360.0, 'fps': 25.0, 'end_time': 1.92, 'url': 'https://www.youtube.com/watch?v=fv1nQoXRlsI', 'text': 'every morning', 'box': [0.06080403923988342, 0.19459614157676697, 0.998343825340271, 0.9219321012496948], 'width': 480.0}\n",
      "{'org_text': 'french', 'clean_text': 'france', 'start_time': 0.0, 'signer_id': 2, 'signer': 42, 'start': 0, 'end': 108, 'file': 'French', 'label': 95, 'height': 360.0, 'fps': 29.669, 'end_time': 3.64, 'url': 'https://www.youtube.com/watch?v=iJuIO4n0-VU', 'text': 'france', 'box': [0.0, 0.13540801405906677, 1.0, 0.8297390937805176], 'width': 640.0}\n",
      "{'org_text': 'GIVE (alternative)', 'clean_text': 'give', 'start_time': 0.0, 'signer_id': 0, 'signer': -1, 'start': 0, 'end': 49, 'file': 'GIVE (alternative)', 'label': 288, 'height': 360.0, 'fps': 25.0, 'end_time': 1.96, 'url': 'https://www.youtube.com/watch?v=7G6B6kaMjb4', 'text': 'give', 'box': [0.01520085334777832, 0.20926496386528015, 0.9955700039863586, 0.8501784801483154], 'width': 480.0}\n",
      "{'org_text': 'shock-[BRAIN-FREEZE]', 'clean_text': 'shock', 'start_time': 0.0, 'signer_id': 0, 'signer': -1, 'start': 0, 'end': 75, 'file': 'shock-BRAIN-FREEZE', 'label': 589, 'height': 360.0, 'fps': 29.98, 'end_time': 2.502, 'url': 'https://www.youtube.com/watch?v=XCiFsGrb_Nk', 'text': 'shock', 'box': [0.07998833060264587, 0.22411012649536133, 1.0, 0.8156325817108154], 'width': 640.0}\n",
      "{'org_text': 'PUERTO-RICO', 'clean_text': 'puerto rico', 'start_time': 0.0, 'signer_id': 0, 'signer': 0, 'start': 0, 'end': 86, 'file': 'PUERTO-RICO', 'label': 982, 'height': 360.0, 'fps': 29.97, 'end_time': 2.87, 'url': 'https://www.youtube.com/watch?v=NNZD9RAgL4w', 'text': 'puerto rico', 'box': [0.06498023867607117, 0.22959160804748535, 1.0, 0.8081696033477783], 'width': 640.0}\n",
      "{'org_text': 'portugal', 'clean_text': 'portugal', 'start_time': 0.0, 'signer_id': 4, 'signer': -1, 'start': 0, 'end': 44, 'file': 'SignSchool Portugal Portuguese', 'label': 841, 'height': 360.0, 'fps': 29.97, 'end_time': 1.468, 'url': 'www.youtube.com/watch?v=rYW7VFPi9_w', 'text': 'portugal', 'box': [0.0997249186038971, 0.22059836983680725, 1.0, 0.791817307472229], 'width': 640.0}\n",
      "{'org_text': 'Breakfast  ', 'clean_text': 'breakfast', 'start_time': 0.0, 'signer_id': 5, 'signer': -1, 'start': 0, 'end': 73, 'file': 'ASL Breakfast  ', 'label': 329, 'height': 360.0, 'fps': 25.0, 'end_time': 2.92, 'url': 'https://www.youtube.com/watch?v=bUezx9Zp16E', 'text': 'breakfast', 'box': [0.18118950724601746, 0.24938979744911194, 1.0, 0.7990826368331909], 'width': 640.0}\n",
      "{'org_text': 'Day', 'clean_text': 'day', 'start_time': 26.015, 'signer_id': 6, 'signer': -1, 'start': 647, 'end': 676, 'file': 'LASL - Ch 6 Vocab', 'label': 72, 'height': 358.0, 'fps': 24.87, 'end_time': 27.181, 'url': 'https://www.youtube.com/watch?v=jQb9NL9_S6U', 'review': 1, 'text': 'day', 'box': [0.003047078847885132, 0.16077789664268494, 0.8473350405693054, 0.7222738265991211], 'width': 640.0}\n",
      "{'org_text': 'Day', 'clean_text': 'day', 'start_time': 27.181, 'signer_id': 6, 'signer': -1, 'start': 676, 'end': 731, 'file': 'LASL - Ch 6 Vocab', 'label': 72, 'height': 358.0, 'fps': 24.87, 'end_time': 29.393, 'url': 'https://www.youtube.com/watch?v=jQb9NL9_S6U', 'review': 1, 'text': 'day', 'box': [0.003047078847885132, 0.16077789664268494, 0.8473350405693054, 0.7222738265991211], 'width': 640.0}\n",
      "{'org_text': 'Day', 'clean_text': 'day', 'start_time': 31.765, 'signer_id': 6, 'signer': -1, 'start': 790, 'end': 817, 'file': 'LASL - Ch 6 Vocab', 'label': 72, 'height': 358.0, 'fps': 24.87, 'end_time': 32.851, 'url': 'https://www.youtube.com/watch?v=jQb9NL9_S6U', 'review': 1, 'text': 'day', 'box': [0.003047078847885132, 0.16077789664268494, 0.8473350405693054, 0.7222738265991211], 'width': 640.0}\n",
      "{'org_text': 'Day', 'clean_text': 'day', 'start_time': 59.268, 'signer_id': 6, 'signer': -1, 'start': 1474, 'end': 1501, 'file': 'LASL - Ch 6 Vocab', 'label': 72, 'height': 358.0, 'fps': 24.87, 'end_time': 60.354, 'url': 'https://www.youtube.com/watch?v=jQb9NL9_S6U', 'text': 'day', 'box': [0.01384812593460083, 0.19079384207725525, 0.8634046316146851, 0.728234052658081], 'width': 640.0}\n",
      "{'org_text': 'Afternoon', 'clean_text': 'afternoon', 'start_time': 85.042, 'signer_id': 6, 'signer': -1, 'start': 2115, 'end': 2149, 'file': 'LASL - Ch 6 Vocab', 'label': 220, 'height': 358.0, 'fps': 24.87, 'end_time': 86.409, 'url': 'https://www.youtube.com/watch?v=jQb9NL9_S6U', 'text': 'afternoon', 'box': [0.0051187872886657715, 0.15169969201087952, 0.8437644243240356, 0.6587377786636353], 'width': 640.0}\n",
      "{'org_text': 'Afternoon', 'clean_text': 'afternoon', 'start_time': 87.897, 'signer_id': 6, 'signer': -1, 'start': 2186, 'end': 2269, 'file': 'LASL - Ch 6 Vocab', 'label': 220, 'height': 358.0, 'fps': 24.87, 'end_time': 91.234, 'url': 'https://www.youtube.com/watch?v=jQb9NL9_S6U', 'text': 'afternoon', 'box': [0.008230000734329224, 0.08219581842422485, 0.8310046195983887, 0.7094879150390625], 'width': 640.0}\n",
      "{'org_text': 'Afternoon', 'clean_text': 'afternoon', 'start_time': 92.199, 'signer_id': 6, 'signer': -1, 'start': 2293, 'end': 2327, 'file': 'LASL - Ch 6 Vocab', 'label': 220, 'height': 358.0, 'fps': 24.87, 'end_time': 93.566, 'url': 'https://www.youtube.com/watch?v=jQb9NL9_S6U', 'text': 'afternoon', 'box': [0.0003540217876434326, 0.17943048477172852, 0.8313794136047363, 0.78972327709198], 'width': 640.0}\n",
      "{'org_text': 'Happy (1 handed)', 'clean_text': 'happy', 'start_time': 179.01, 'signer_id': 6, 'signer': -1, 'start': 4452, 'end': 4527, 'file': 'LASL - Ch 6 Vocab', 'label': 5, 'height': 358.0, 'fps': 24.87, 'end_time': 182.026, 'url': 'https://www.youtube.com/watch?v=jQb9NL9_S6U', 'text': 'happy', 'box': [0.0, 0.15337830781936646, 0.8391363024711609, 0.754059374332428], 'width': 640.0}\n",
      "{'org_text': 'Sad', 'clean_text': 'sad', 'start_time': 192.882, 'signer_id': 6, 'signer': -1, 'start': 4797, 'end': 4907, 'file': 'LASL - Ch 6 Vocab', 'label': 27, 'height': 358.0, 'fps': 24.87, 'end_time': 197.305, 'url': 'https://www.youtube.com/watch?v=jQb9NL9_S6U', 'review': 1, 'text': 'sad', 'box': [0.004947155714035034, 0.1667385995388031, 0.8396331071853638, 0.7053645849227905], 'width': 640.0}\n",
      "{'org_text': 'Sad', 'clean_text': 'sad', 'start_time': 199.919, 'signer_id': 6, 'signer': -1, 'start': 4972, 'end': 5010, 'file': 'LASL - Ch 6 Vocab', 'label': 27, 'height': 358.0, 'fps': 24.87, 'end_time': 201.447, 'url': 'https://www.youtube.com/watch?v=jQb9NL9_S6U', 'review': 1, 'text': 'sad', 'box': [0.004947155714035034, 0.1667385995388031, 0.8396331071853638, 0.7053645849227905], 'width': 640.0}\n",
      "{'org_text': 'Nervous (2 ways)', 'clean_text': 'nervous', 'start_time': 232.85, 'signer_id': 6, 'signer': -1, 'start': 5791, 'end': 5836, 'file': 'LASL - Ch 6 Vocab', 'label': 307, 'height': 358.0, 'fps': 24.87, 'end_time': 234.659, 'url': 'https://www.youtube.com/watch?v=jQb9NL9_S6U', 'review': 1, 'text': 'nervous', 'box': [0.0, 0.10074132680892944, 0.8756613731384277, 0.756272554397583], 'width': 640.0}\n",
      "{'org_text': 'Nervous (2 ways)', 'clean_text': 'nervous', 'start_time': 238.761, 'signer_id': 6, 'signer': -1, 'start': 5938, 'end': 5973, 'file': 'LASL - Ch 6 Vocab', 'label': 307, 'height': 358.0, 'fps': 24.87, 'end_time': 240.168, 'url': 'https://www.youtube.com/watch?v=jQb9NL9_S6U', 'review': 1, 'text': 'nervous', 'box': [0.0, 0.10074132680892944, 0.8756613731384277, 0.756272554397583], 'width': 640.0}\n",
      "{'org_text': 'Upset', 'clean_text': 'upset', 'start_time': 242.902, 'signer_id': 6, 'signer': -1, 'start': 6041, 'end': 6208, 'file': 'LASL - Ch 6 Vocab', 'label': 876, 'height': 358.0, 'fps': 24.87, 'end_time': 249.617, 'url': 'https://www.youtube.com/watch?v=jQb9NL9_S6U', 'text': 'upset', 'box': [0.005143254995346069, 0.12840525805950165, 0.8523186445236206, 0.6992084383964539], 'width': 640.0}\n",
      "{'org_text': 'Want (mouth “WA“)', 'clean_text': 'want', 'start_time': 385.765, 'signer_id': 6, 'signer': -1, 'start': 9594, 'end': 9751, 'file': 'LASL - Ch 6 Vocab', 'label': 8, 'height': 358.0, 'fps': 24.87, 'end_time': 392.077, 'url': 'https://www.youtube.com/watch?v=jQb9NL9_S6U', 'text': 'want', 'box': [0.008866041898727417, 0.11897420883178711, 0.843058705329895, 0.7124172449111938], 'width': 640.0}\n",
      "{'org_text': 'Know', 'clean_text': 'know', 'start_time': 403.738, 'signer_id': 6, 'signer': -1, 'start': 10041, 'end': 10111, 'file': 'LASL - Ch 6 Vocab', 'label': 97, 'height': 358.0, 'fps': 24.87, 'end_time': 406.553, 'url': 'https://www.youtube.com/watch?v=jQb9NL9_S6U', 'text': 'know', 'box': [0.0033957362174987793, 0.12913557887077332, 0.8349494934082031, 0.7033343315124512], 'width': 640.0}\n",
      "{'org_text': 'Know', 'clean_text': 'know', 'start_time': 407.92, 'signer_id': 6, 'signer': -1, 'start': 10145, 'end': 10175, 'file': 'LASL - Ch 6 Vocab', 'label': 97, 'height': 358.0, 'fps': 24.87, 'end_time': 409.126, 'url': 'https://www.youtube.com/watch?v=jQb9NL9_S6U', 'text': 'know', 'box': [0.04342085123062134, 0.13719120621681213, 0.8318990468978882, 0.7059469223022461], 'width': 640.0}\n",
      "{'org_text': 'Must', 'clean_text': 'must', 'start_time': 433.452, 'signer_id': 6, 'signer': -1, 'start': 10780, 'end': 10870, 'file': 'LASL - Ch 6 Vocab', 'label': 29, 'height': 358.0, 'fps': 24.87, 'end_time': 437.071, 'url': 'https://www.youtube.com/watch?v=jQb9NL9_S6U', 'review': 1, 'text': 'need', 'box': [0.0, 0.08118319511413574, 0.850859522819519, 0.7708654403686523], 'width': 640.0}\n",
      "{'org_text': 'How (2 ways)', 'clean_text': 'how', 'start_time': 489.182, 'signer_id': 6, 'signer': -1, 'start': 12166, 'end': 12357, 'file': 'LASL - Ch 6 Vocab', 'label': 59, 'height': 358.0, 'fps': 24.87, 'end_time': 496.862, 'url': 'https://www.youtube.com/watch?v=jQb9NL9_S6U', 'text': 'how', 'box': [0.0200423002243042, 0.1574973464012146, 0.8441125154495239, 0.716306746006012], 'width': 640.0}\n",
      "{'org_text': 'Wow', 'clean_text': 'wow', 'start_time': 612.221, 'signer_id': 6, 'signer': -1, 'start': 15226, 'end': 15409, 'file': 'LASL - Ch 6 Vocab', 'label': 227, 'height': 358.0, 'fps': 24.87, 'end_time': 619.58, 'url': 'https://www.youtube.com/watch?v=jQb9NL9_S6U', 'text': 'wow', 'box': [0.0, 0.0925883948802948, 0.8377703428268433, 0.7041674852371216], 'width': 640.0}\n",
      "{'org_text': 'Wow', 'clean_text': 'wow', 'start_time': 619.66, 'signer_id': 6, 'signer': -1, 'start': 15411, 'end': 15459, 'file': 'LASL - Ch 6 Vocab', 'label': 227, 'height': 358.0, 'fps': 24.87, 'end_time': 621.59, 'url': 'https://www.youtube.com/watch?v=jQb9NL9_S6U', 'text': 'wow', 'box': [0.016192376613616943, 0.1522008776664734, 0.8331984877586365, 0.684462308883667], 'width': 640.0}\n",
      "{'org_text': 'Pass', 'clean_text': 'pass', 'start_time': 689.101, 'signer_id': 6, 'signer': -1, 'start': 17138, 'end': 17161, 'file': 'LASL - Ch 6 Vocab', 'label': 566, 'height': 358.0, 'fps': 24.87, 'end_time': 690.026, 'url': 'https://www.youtube.com/watch?v=jQb9NL9_S6U', 'text': 'pass', 'box': [0.007081180810928345, 0.18906018137931824, 0.8475743532180786, 0.6989631652832031], 'width': 640.0}\n",
      "{'org_text': 'Pass', 'clean_text': 'pass', 'start_time': 691.192, 'signer_id': 6, 'signer': -1, 'start': 17190, 'end': 17304, 'file': 'LASL - Ch 6 Vocab', 'label': 566, 'height': 358.0, 'fps': 24.87, 'end_time': 695.776, 'url': 'https://www.youtube.com/watch?v=jQb9NL9_S6U', 'text': 'pass', 'box': [0.0, 0.19223780930042267, 0.8311377763748169, 0.7067743539810181], 'width': 640.0}\n",
      "{'org_text': 'think', 'clean_text': 'think', 'start_time': 0.0, 'signer_id': 0, 'signer': 0, 'start': 0, 'end': 77, 'file': 'think', 'label': 345, 'height': 360.0, 'fps': 29.97, 'end_time': 2.569, 'url': 'https://www.youtube.com/watch?v=Y5q-PccHNHo', 'text': 'think', 'box': [0.09885820746421814, 0.12402242422103882, 0.972366213798523, 0.7752458453178406], 'width': 540.0}\n",
      "{'org_text': 'yellow', 'clean_text': 'yellow', 'start_time': 0.334, 'signer_id': 1, 'signer': 31, 'start': 10, 'end': 60, 'file': 'ASL Vocabulary yellow', 'label': 52, 'height': 360.0, 'fps': 29.97, 'end_time': 2.002, 'url': 'https://www.youtube.com/watch?v=0Beq_NIDj2c', 'review': 1, 'text': 'yellow', 'box': [0.0, 0.06636735796928406, 1.0, 0.9946049451828003], 'width': 640.0}\n",
      "{'org_text': 'yellow', 'clean_text': 'yellow', 'start_time': 3.003, 'signer_id': 1, 'signer': 31, 'start': 90, 'end': 160, 'file': 'ASL Vocabulary yellow', 'label': 52, 'height': 360.0, 'fps': 29.97, 'end_time': 5.339, 'url': 'https://www.youtube.com/watch?v=0Beq_NIDj2c', 'review': 1, 'text': 'yellow', 'box': [0.0, 0.06636735796928406, 1.0, 0.9946049451828003], 'width': 640.0}\n",
      "{'org_text': 'teacher ', 'clean_text': 'teacher', 'start_time': 13.995, 'signer_id': 144, 'signer': -1, 'start': 419, 'end': 464, 'file': 'teacher - ASL sign for teacher', 'label': 2, 'height': 360.0, 'fps': 29.94, 'end_time': 15.498, 'url': 'https://www.youtube.com/watch?v=_HOx2QkkTsg', 'review': 1, 'text': 'teacher', 'box': [0.04599836468696594, 0.0371166467666626, 1.0, 0.9313695430755615], 'width': 480.0}\n",
      "{'org_text': 'teacher ', 'clean_text': 'teacher', 'start_time': 15.498, 'signer_id': 144, 'signer': -1, 'start': 464, 'end': 510, 'file': 'teacher - ASL sign for teacher', 'label': 2, 'height': 360.0, 'fps': 29.94, 'end_time': 17.034, 'url': 'https://www.youtube.com/watch?v=_HOx2QkkTsg', 'review': 1, 'text': 'teacher', 'box': [0.04599836468696594, 0.0371166467666626, 1.0, 0.9313695430755615], 'width': 480.0}\n",
      "{'org_text': 'Deaf', 'clean_text': 'deaf', 'start_time': 0.0, 'signer_id': 38, 'signer': 52, 'start': 0, 'end': 107, 'file': 'Deaf in American Sign Language', 'label': 9, 'height': 270.0, 'fps': 29.917, 'end_time': 3.577, 'url': 'www.youtube.com/watch?v=IgT0jDp56ZM', 'text': 'deaf', 'box': [0.03361624479293823, 0.2778458893299103, 1.0, 0.7112260460853577], 'width': 480.0}\n",
      "{'org_text': 'university', 'clean_text': 'university', 'start_time': 0.0, 'signer_id': 62, 'signer': -1, 'start': 0, 'end': 96, 'file': 'Sign for UNIVERSITY from page 14', 'label': 378, 'height': 360.0, 'fps': 30.0, 'end_time': 3.2, 'url': 'https://www.youtube.com/watch?v=jrQalROeZtg', 'text': 'university', 'box': [0.063923180103302, 0.2040288895368576, 1.0, 0.8688298463821411], 'width': 640.0}\n",
      "{'org_text': 'FIX-[fingerspelled version]', 'clean_text': 'fix', 'start_time': 0.0, 'signer_id': 0, 'signer': 0, 'start': 0, 'end': 79, 'file': 'FIX-fingerspelled version', 'label': 759, 'height': 720.0, 'fps': 29.97, 'end_time': 2.636, 'url': 'https://www.youtube.com/watch?v=FL6MaUJmIkA', 'text': 'fix', 'box': [0.01709499955177307, 0.2737739682197571, 1.0, 0.7526651620864868], 'width': 1280.0}\n",
      "{'org_text': 'clock', 'clean_text': 'clock', 'start_time': 0.0, 'signer_id': 0, 'signer': 0, 'start': 0, 'end': 77, 'file': 'clock(2)', 'label': 735, 'height': 360.0, 'fps': 29.97, 'end_time': 2.569, 'url': 'https://www.youtube.com/watch?v=pAoM56DCisM', 'text': 'clock', 'box': [0.06248387694358826, 0.21971645951271057, 1.0, 0.7641385793685913], 'width': 640.0}\n",
      "{'org_text': 'there', 'clean_text': 'there', 'start_time': 0.0, 'signer_id': 2, 'signer': 33, 'start': 0, 'end': 148, 'file': 'There', 'label': 515, 'height': 360.0, 'fps': 29.603, 'end_time': 5.0, 'url': 'https://www.youtube.com/watch?v=5WevUel4BPk', 'text': 'there', 'box': [0.0, 0.009079158306121826, 1.0, 0.8816738128662109], 'width': 640.0}\n",
      "{'org_text': 'next week', 'clean_text': 'next week', 'start_time': 0.0, 'signer_id': 2, 'signer': 11, 'start': 0, 'end': 116, 'file': 'Next Week', 'label': 331, 'height': 360.0, 'fps': 29.645, 'end_time': 3.913, 'url': 'https://www.youtube.com/watch?v=I1o0fccwWSg', 'text': 'next week', 'box': [0.0, 0.13979989290237427, 1.0, 0.8841031789779663], 'width': 640.0}\n",
      "{'org_text': 'Again', 'clean_text': 'again', 'start_time': 0.0, 'signer_id': 27, 'signer': 47, 'start': 0, 'end': 117, 'file': 'Baby Sign Language Again', 'label': 26, 'height': 360.0, 'fps': 30.003, 'end_time': 3.9, 'url': 'www.youtube.com/watch?v=AoQAPgEUIAs', 'text': 'again', 'box': [0.019787907600402832, 0.1376400887966156, 1.0, 0.7488411068916321], 'width': 640.0}\n",
      "{'org_text': 'SICK', 'clean_text': 'sick', 'start_time': 0.0, 'signer_id': 0, 'signer': 0, 'start': 0, 'end': 78, 'file': 'SICK', 'label': 63, 'height': 720.0, 'fps': 29.97, 'end_time': 2.603, 'url': 'https://www.youtube.com/watch?v=NBqpHJiufXU', 'text': 'sick', 'box': [0.05700436234474182, 0.21948561072349548, 1.0, 0.7590238451957703], 'width': 1280.0}\n",
      "{'org_text': 'MEAT', 'clean_text': 'meat', 'start_time': 0.0, 'signer_id': 0, 'signer': -1, 'start': 0, 'end': 90, 'file': 'MEAT(2)', 'label': 349, 'height': 360.0, 'fps': 25.0, 'end_time': 3.6, 'url': 'https://www.youtube.com/watch?v=Bn7j1v1ksl0', 'text': 'meat', 'box': [0.05851966142654419, 0.12711188197135925, 0.946014404296875, 0.8544274568557739], 'width': 480.0}\n",
      "{'org_text': 'essential-[IMPORTANT]', 'clean_text': 'important', 'start_time': 0.0, 'signer_id': 0, 'signer': -1, 'start': 0, 'end': 75, 'file': 'essential-IMPORTANT(1)', 'label': 624, 'height': 360.0, 'fps': 29.98, 'end_time': 2.502, 'url': 'https://www.youtube.com/watch?v=V_dT923VQ70', 'text': 'important', 'box': [0.072821706533432, 0.20127183198928833, 1.0, 0.8370203971862793], 'width': 640.0}\n",
      "{'org_text': 'football', 'clean_text': 'football', 'start_time': 0.0, 'signer_id': 269, 'signer': 53, 'start': 0, 'end': 116, 'file': 'SignSchool football', 'label': 233, 'height': 360.0, 'fps': 29.97, 'end_time': 3.871, 'url': 'www.youtube.com/watch?v=25BrmaKbzYo', 'text': 'football', 'box': [0.0849744975566864, 0.42976582050323486, 1.0, 0.8569505214691162], 'width': 640.0}\n",
      "{'org_text': 'MOM', 'clean_text': 'mother', 'start_time': 4.805, 'signer_id': 8, 'signer': 20, 'start': 144, 'end': 198, 'file': 'Basic ASL Vocabulary for Babies', 'label': 19, 'height': 360.0, 'fps': 29.97, 'end_time': 6.607, 'url': 'https://www.youtube.com/watch?v=htsdwxJ-fTo', 'text': 'mother', 'box': [0.09814456105232239, 0.3193633556365967, 1.0, 0.7622225284576416], 'width': 640.0}\n",
      "{'org_text': 'DAD', 'clean_text': 'father', 'start_time': 7.207, 'signer_id': 8, 'signer': 20, 'start': 216, 'end': 284, 'file': 'Basic ASL Vocabulary for Babies', 'label': 31, 'height': 360.0, 'fps': 29.97, 'end_time': 9.476, 'url': 'https://www.youtube.com/watch?v=htsdwxJ-fTo', 'text': 'father', 'box': [0.05020105838775635, 0.18864178657531738, 1.0, 0.7611669301986694], 'width': 640.0}\n",
      "{'org_text': 'MILK', 'clean_text': 'milk', 'start_time': 10.077, 'signer_id': 8, 'signer': 20, 'start': 302, 'end': 369, 'file': 'Basic ASL Vocabulary for Babies', 'label': 32, 'height': 360.0, 'fps': 29.97, 'end_time': 12.312, 'url': 'https://www.youtube.com/watch?v=htsdwxJ-fTo', 'text': 'milk', 'box': [0.10222285985946655, 0.2975562512874603, 1.0, 0.7607537508010864], 'width': 640.0}\n",
      "{'org_text': 'EAT', 'clean_text': 'eat', 'start_time': 12.913, 'signer_id': 8, 'signer': 20, 'start': 387, 'end': 452, 'file': 'Basic ASL Vocabulary for Babies', 'label': 3, 'height': 360.0, 'fps': 29.97, 'end_time': 15.082, 'url': 'https://www.youtube.com/watch?v=htsdwxJ-fTo', 'text': 'eat', 'box': [0.09897658228874207, 0.2944207787513733, 1.0, 0.7674044370651245], 'width': 640.0}\n",
      "{'org_text': 'DRINK', 'clean_text': 'drink', 'start_time': 15.682, 'signer_id': 8, 'signer': 20, 'start': 470, 'end': 511, 'file': 'Basic ASL Vocabulary for Babies', 'label': 56, 'height': 360.0, 'fps': 29.97, 'end_time': 17.05, 'url': 'https://www.youtube.com/watch?v=htsdwxJ-fTo', 'text': 'drink', 'box': [0.1018904447555542, 0.3151629865169525, 1.0, 0.7436287999153137], 'width': 640.0}\n",
      "{'org_text': 'HOT', 'clean_text': 'hot', 'start_time': 17.651, 'signer_id': 8, 'signer': 20, 'start': 529, 'end': 596, 'file': 'Basic ASL Vocabulary for Babies', 'label': 135, 'height': 360.0, 'fps': 29.97, 'end_time': 19.887, 'url': 'https://www.youtube.com/watch?v=htsdwxJ-fTo', 'text': 'hot', 'box': [0.09800726175308228, 0.3082599639892578, 1.0, 0.7536252737045288], 'width': 640.0}\n",
      "{'org_text': 'COLD', 'clean_text': 'cold', 'start_time': 20.521, 'signer_id': 8, 'signer': 20, 'start': 615, 'end': 685, 'file': 'Basic ASL Vocabulary for Babies', 'label': 177, 'height': 360.0, 'fps': 29.97, 'end_time': 22.856, 'url': 'https://www.youtube.com/watch?v=htsdwxJ-fTo', 'text': 'cold', 'box': [0.10192084312438965, 0.2810412049293518, 1.0, 0.7681668400764465], 'width': 640.0}\n",
      "{'org_text': 'MORE', 'clean_text': 'more', 'start_time': 23.457, 'signer_id': 8, 'signer': 20, 'start': 703, 'end': 756, 'file': 'Basic ASL Vocabulary for Babies', 'label': 164, 'height': 360.0, 'fps': 29.97, 'end_time': 25.225, 'url': 'https://www.youtube.com/watch?v=htsdwxJ-fTo', 'text': 'more', 'box': [0.09371855854988098, 0.3191385865211487, 1.0, 0.7616152167320251], 'width': 640.0}\n",
      "{'org_text': 'HELP', 'clean_text': 'help', 'start_time': 25.826, 'signer_id': 8, 'signer': 20, 'start': 774, 'end': 837, 'file': 'Basic ASL Vocabulary for Babies', 'label': 50, 'height': 360.0, 'fps': 29.97, 'end_time': 27.928, 'url': 'https://www.youtube.com/watch?v=htsdwxJ-fTo', 'text': 'help', 'box': [0.10067668557167053, 0.31587958335876465, 1.0, 0.7500115036964417], 'width': 640.0}\n",
      "{'org_text': 'CLOTHES', 'clean_text': 'clothes', 'start_time': 30.964, 'signer_id': 8, 'signer': 20, 'start': 928, 'end': 992, 'file': 'Basic ASL Vocabulary for Babies', 'label': 444, 'height': 360.0, 'fps': 29.97, 'end_time': 33.1, 'url': 'https://www.youtube.com/watch?v=htsdwxJ-fTo', 'text': 'clothes', 'box': [0.07710543274879456, 0.2248755693435669, 1.0, 0.8538689613342285], 'width': 640.0}\n",
      "{'org_text': 'YOU', 'clean_text': 'you', 'start_time': 41.408, 'signer_id': 8, 'signer': 20, 'start': 1241, 'end': 1301, 'file': 'Basic ASL Vocabulary for Babies', 'label': 68, 'height': 360.0, 'fps': 29.97, 'end_time': 43.41, 'url': 'https://www.youtube.com/watch?v=htsdwxJ-fTo', 'text': 'you', 'box': [0.10208573937416077, 0.32380735874176025, 1.0, 0.7578179836273193], 'width': 640.0}\n",
      "{'org_text': 'YOURS', 'clean_text': 'your', 'start_time': 44.044, 'signer_id': 8, 'signer': 20, 'start': 1320, 'end': 1381, 'file': 'Basic ASL Vocabulary for Babies', 'label': 101, 'height': 360.0, 'fps': 29.97, 'end_time': 46.079, 'url': 'https://www.youtube.com/watch?v=htsdwxJ-fTo', 'text': 'your', 'box': [0.09862306714057922, 0.32580921053886414, 1.0, 0.7683125138282776], 'width': 640.0}\n",
      "{'org_text': 'DOWN', 'clean_text': 'down', 'start_time': 49.416, 'signer_id': 8, 'signer': 20, 'start': 1481, 'end': 1558, 'file': 'Basic ASL Vocabulary for Babies', 'label': 914, 'height': 360.0, 'fps': 29.97, 'end_time': 51.985, 'url': 'https://www.youtube.com/watch?v=htsdwxJ-fTo', 'text': 'down', 'box': [0.10306897759437561, 0.24683454632759094, 1.0, 0.764061689376831], 'width': 640.0}\n",
      "{'org_text': 'HURT', 'clean_text': 'hurt', 'start_time': 52.586, 'signer_id': 8, 'signer': 20, 'start': 1576, 'end': 1649, 'file': 'Basic ASL Vocabulary for Babies', 'label': 76, 'height': 360.0, 'fps': 29.97, 'end_time': 55.022, 'url': 'https://www.youtube.com/watch?v=htsdwxJ-fTo', 'text': 'hurt', 'box': [0.10409742593765259, 0.2967739701271057, 1.0, 0.7672613263130188], 'width': 640.0}\n",
      "{'org_text': 'AGAIN', 'clean_text': 'again', 'start_time': 55.622, 'signer_id': 8, 'signer': 20, 'start': 1667, 'end': 1739, 'file': 'Basic ASL Vocabulary for Babies', 'label': 26, 'height': 360.0, 'fps': 29.97, 'end_time': 58.025, 'url': 'https://www.youtube.com/watch?v=htsdwxJ-fTo', 'text': 'again', 'box': [0.09794795513153076, 0.2027626633644104, 1.0, 0.7822696566581726], 'width': 640.0}\n",
      "{'org_text': 'WANT', 'clean_text': 'want', 'start_time': 58.659, 'signer_id': 8, 'signer': 20, 'start': 1758, 'end': 1823, 'file': 'Basic ASL Vocabulary for Babies', 'label': 8, 'height': 360.0, 'fps': 29.97, 'end_time': 60.827, 'url': 'https://www.youtube.com/watch?v=htsdwxJ-fTo', 'text': 'want', 'box': [0.11185941100120544, 0.3305121958255768, 1.0, 0.7706127762794495], 'width': 640.0}\n",
      "{'org_text': 'LIKE', 'clean_text': 'like', 'start_time': 61.428, 'signer_id': 8, 'signer': 20, 'start': 1841, 'end': 1918, 'file': 'Basic ASL Vocabulary for Babies', 'label': 6, 'height': 360.0, 'fps': 29.97, 'end_time': 63.997, 'url': 'https://www.youtube.com/watch?v=htsdwxJ-fTo', 'text': 'like', 'box': [0.0782209038734436, 0.30737364292144775, 1.0, 0.7590880393981934], 'width': 640.0}\n",
      "{'org_text': \"DON'T LIKE\", 'clean_text': 'not like', 'start_time': 64.665, 'signer_id': 8, 'signer': 20, 'start': 1938, 'end': 2009, 'file': 'Basic ASL Vocabulary for Babies', 'label': 165, 'height': 360.0, 'fps': 29.97, 'end_time': 67.034, 'url': 'https://www.youtube.com/watch?v=htsdwxJ-fTo', 'text': 'not like', 'box': [0.08520027995109558, 0.2951119840145111, 1.0, 0.7535059452056885], 'width': 640.0}\n",
      "{'org_text': 'MAD', 'clean_text': 'mad', 'start_time': 67.634, 'signer_id': 8, 'signer': 20, 'start': 2027, 'end': 2097, 'file': 'Basic ASL Vocabulary for Babies', 'label': 152, 'height': 360.0, 'fps': 29.97, 'end_time': 69.97, 'url': 'https://www.youtube.com/watch?v=htsdwxJ-fTo', 'text': 'mad', 'box': [0.10384419560432434, 0.3316410183906555, 1.0, 0.7619771957397461], 'width': 640.0}\n",
      "{'org_text': 'FUNNY', 'clean_text': 'funny', 'start_time': 73.54, 'signer_id': 8, 'signer': 20, 'start': 2204, 'end': 2270, 'file': 'Basic ASL Vocabulary for Babies', 'label': 327, 'height': 360.0, 'fps': 29.97, 'end_time': 75.742, 'url': 'https://www.youtube.com/watch?v=htsdwxJ-fTo', 'text': 'funny', 'box': [0.12179344892501831, 0.34828492999076843, 1.0, 0.763206958770752], 'width': 640.0}\n",
      "{'org_text': 'SILLY', 'clean_text': 'silly', 'start_time': 76.343, 'signer_id': 8, 'signer': 20, 'start': 2288, 'end': 2355, 'file': 'Basic ASL Vocabulary for Babies', 'label': 698, 'height': 360.0, 'fps': 29.97, 'end_time': 78.579, 'url': 'https://www.youtube.com/watch?v=htsdwxJ-fTo', 'text': 'silly', 'box': [0.0957995355129242, 0.30978620052337646, 1.0, 0.7567245960235596], 'width': 640.0}\n",
      "{'org_text': 'SAD', 'clean_text': 'sad', 'start_time': 79.212, 'signer_id': 8, 'signer': 20, 'start': 2374, 'end': 2432, 'file': 'Basic ASL Vocabulary for Babies', 'label': 27, 'height': 360.0, 'fps': 29.97, 'end_time': 81.148, 'url': 'https://www.youtube.com/watch?v=htsdwxJ-fTo', 'text': 'sad', 'box': [0.09833797812461853, 0.31710702180862427, 1.0, 0.748669445514679], 'width': 640.0}\n",
      "{'org_text': 'HUNGRY', 'clean_text': 'hungry', 'start_time': 81.848, 'signer_id': 8, 'signer': 20, 'start': 2453, 'end': 2524, 'file': 'Basic ASL Vocabulary for Babies', 'label': 54, 'height': 360.0, 'fps': 29.97, 'end_time': 84.217, 'url': 'https://www.youtube.com/watch?v=htsdwxJ-fTo', 'text': 'hungry', 'box': [0.07932892441749573, 0.3234097361564636, 1.0, 0.7405645847320557], 'width': 640.0}\n",
      "{'org_text': 'FULL', 'clean_text': 'full', 'start_time': 84.818, 'signer_id': 8, 'signer': 20, 'start': 2542, 'end': 2605, 'file': 'Basic ASL Vocabulary for Babies', 'label': 384, 'height': 360.0, 'fps': 29.97, 'end_time': 86.92, 'url': 'https://www.youtube.com/watch?v=htsdwxJ-fTo', 'text': 'full', 'box': [0.09561315178871155, 0.23849010467529297, 1.0, 0.7345126271247864], 'width': 640.0}\n",
      "{'org_text': 'TIRED', 'clean_text': 'tired', 'start_time': 89.923, 'signer_id': 8, 'signer': 20, 'start': 2695, 'end': 2763, 'file': 'Basic ASL Vocabulary for Babies', 'label': 16, 'height': 360.0, 'fps': 29.97, 'end_time': 92.192, 'url': 'https://www.youtube.com/watch?v=htsdwxJ-fTo', 'text': 'tired', 'box': [0.10009750723838806, 0.28252434730529785, 1.0, 0.7917808294296265], 'width': 640.0}\n",
      "{'org_text': 'WHERE?', 'clean_text': 'where', 'start_time': 92.793, 'signer_id': 8, 'signer': 20, 'start': 2781, 'end': 2849, 'file': 'Basic ASL Vocabulary for Babies', 'label': 30, 'height': 360.0, 'fps': 29.97, 'end_time': 95.062, 'url': 'https://www.youtube.com/watch?v=htsdwxJ-fTo', 'text': 'where', 'box': [0.10852023959159851, 0.2892850339412689, 1.0, 0.7669752836227417], 'width': 640.0}\n",
      "{'org_text': 'BOOK', 'clean_text': 'book', 'start_time': 95.696, 'signer_id': 8, 'signer': 20, 'start': 2868, 'end': 2925, 'file': 'Basic ASL Vocabulary for Babies', 'label': 38, 'height': 360.0, 'fps': 29.97, 'end_time': 97.597, 'url': 'https://www.youtube.com/watch?v=htsdwxJ-fTo', 'text': 'book', 'box': [0.09992429614067078, 0.355548620223999, 1.0, 0.7219790816307068], 'width': 640.0}\n",
      "{'org_text': 'DIRTY', 'clean_text': 'dirty', 'start_time': 98.231, 'signer_id': 8, 'signer': 20, 'start': 2944, 'end': 2999, 'file': 'Basic ASL Vocabulary for Babies', 'label': 260, 'height': 360.0, 'fps': 29.97, 'end_time': 100.067, 'url': 'https://www.youtube.com/watch?v=htsdwxJ-fTo', 'text': 'dirty', 'box': [0.10492846369743347, 0.3297380208969116, 1.0, 0.7683739066123962], 'width': 640.0}\n",
      "{'org_text': 'PLAY', 'clean_text': 'play', 'start_time': 100.667, 'signer_id': 8, 'signer': 20, 'start': 3017, 'end': 3088, 'file': 'Basic ASL Vocabulary for Babies', 'label': 85, 'height': 360.0, 'fps': 29.97, 'end_time': 103.036, 'url': 'https://www.youtube.com/watch?v=htsdwxJ-fTo', 'text': 'play', 'box': [0.0954577624797821, 0.286917507648468, 0.9984813928604126, 0.8297281861305237], 'width': 640.0}\n",
      "{'org_text': 'OUTSIDE', 'clean_text': 'outside', 'start_time': 103.67, 'signer_id': 8, 'signer': 20, 'start': 3107, 'end': 3179, 'file': 'Basic ASL Vocabulary for Babies', 'label': 159, 'height': 360.0, 'fps': 29.97, 'end_time': 106.073, 'url': 'https://www.youtube.com/watch?v=htsdwxJ-fTo', 'text': 'outside', 'box': [0.0940958559513092, 0.26423728466033936, 1.0, 0.765150785446167], 'width': 640.0}\n",
      "{'org_text': 'HOME', 'clean_text': 'home', 'start_time': 106.74, 'signer_id': 8, 'signer': 20, 'start': 3199, 'end': 3260, 'file': 'Basic ASL Vocabulary for Babies', 'label': 118, 'height': 360.0, 'fps': 29.97, 'end_time': 108.775, 'url': 'https://www.youtube.com/watch?v=htsdwxJ-fTo', 'text': 'home', 'box': [0.10718074440956116, 0.3341020345687866, 1.0, 0.7593196034431458], 'width': 640.0}\n"
     ]
    },
    {
     "name": "stderr",
     "output_type": "stream",
     "text": [
      "\r"
     ]
    }
   ],
   "source": [
    "# limits number of files to download as not to chew through SSD write cycle\n",
    "limit = 99999\n",
    "#limit = 100\n",
    "\n",
    "limitedDataset = []\n",
    "\n",
    "import json\n",
    "\n",
    "with open('dataset-ref/MSASL_train.json') as f:\n",
    "    d = json.load(f)\n",
    "    \n",
    "    for i in range(limit):\n",
    "        \n",
    "        limitedDataset.append([d[i]['clean_text'], d[i]['url'], d[i]['start_time'], d[i]['end_time']])\n",
    "        print(d[i])\n",
    "        \n"
   ]
  },
  {
   "attachments": {},
   "cell_type": "markdown",
   "metadata": {},
   "source": [
    "# 2. Set folder paths\n",
    "\n",
    "- Set 'folder_path' to your base path\n",
    "- You can set the dataset_path or trimmed_dataset_path to your desired folder, or leave it as default\n",
    "\n",
    "### dataset_path\n",
    "- Stores raw, full length video downloaded from youtube, as some gestures are a snippet of the long videos.\n",
    "- Stores the file names in slugs.\n",
    "\n",
    "### trimmed_dataset\n",
    "- Once the raw videos are downloaded, the video will be fed into moviepy to be trimmed according to the specified time in the json files.\n",
    "- The resulting videos resides here.\n",
    "\n"
   ]
  },
  {
   "cell_type": "code",
   "execution_count": 44,
   "metadata": {},
   "outputs": [],
   "source": [
    "import os\n",
    "import glob\n",
    "\n",
    "folder_path = 'C:/your/path/to/folder/'\n",
    "# folder_path = 'D:/University/Y3/AITT/ActionDetectionforSignLanguage/'\n",
    "file_extension = 'mp4'\n",
    "\n",
    "# output paths\n",
    "dataset_path = '/dataset/'\n",
    "trimmed_dataset_path = '/trimmed-dataset/'\n",
    "\n",
    "# Get a list of all mp4 files in the folder\n",
    "files = os.listdir(folder_path + dataset_path)\n",
    "\n",
    "filenames = []\n",
    "\n",
    "async def loadFilenames():\n",
    "    # Print the list of files\n",
    "    for file in files:\n",
    "        filenames.append(os.path.splitext(file)[0])\n",
    "        # print(filenames)\n",
    "        # print(len(filenames))\n",
    "        \n",
    "asyncio.run(loadFilenames())\n",
    "    "
   ]
  },
  {
   "cell_type": "code",
   "execution_count": 33,
   "metadata": {},
   "outputs": [
    {
     "name": "stdout",
     "output_type": "stream",
     "text": [
      "{'9FdHlMOnVjg': []}\n",
      "{'9FdHlMOnVjg': [], '1AyT77LqJzQ': []}\n",
      "{'9FdHlMOnVjg': [], '1AyT77LqJzQ': []}\n",
      "{'9FdHlMOnVjg': [], '1AyT77LqJzQ': [], 'cJOyCgIKyeA': []}\n",
      "{'9FdHlMOnVjg': [], '1AyT77LqJzQ': [], 'cJOyCgIKyeA': [], 'zqfcp6NRKpA': []}\n",
      "{'9FdHlMOnVjg': [], '1AyT77LqJzQ': [], 'cJOyCgIKyeA': [], 'zqfcp6NRKpA': [], '7y5Ye-2-ZBs': []}\n",
      "{'9FdHlMOnVjg': [], '1AyT77LqJzQ': [], 'cJOyCgIKyeA': [], 'zqfcp6NRKpA': [], '7y5Ye-2-ZBs': [], 'rYW7VFPi9_w': []}\n",
      "{'9FdHlMOnVjg': [], '1AyT77LqJzQ': [], 'cJOyCgIKyeA': [], 'zqfcp6NRKpA': [], '7y5Ye-2-ZBs': [], 'rYW7VFPi9_w': [], '0Beq_NIDj2c': []}\n",
      "{'9FdHlMOnVjg': [], '1AyT77LqJzQ': [], 'cJOyCgIKyeA': [], 'zqfcp6NRKpA': [], '7y5Ye-2-ZBs': [], 'rYW7VFPi9_w': [], '0Beq_NIDj2c': []}\n",
      "{'9FdHlMOnVjg': [], '1AyT77LqJzQ': [], 'cJOyCgIKyeA': [], 'zqfcp6NRKpA': [], '7y5Ye-2-ZBs': [], 'rYW7VFPi9_w': [], '0Beq_NIDj2c': [], 'AoQAPgEUIAs': []}\n",
      "{'9FdHlMOnVjg': [], '1AyT77LqJzQ': [], 'cJOyCgIKyeA': [], 'zqfcp6NRKpA': [], '7y5Ye-2-ZBs': [], 'rYW7VFPi9_w': [], '0Beq_NIDj2c': [], 'AoQAPgEUIAs': [], '25BrmaKbzYo': []}\n",
      "9FdHlMOnVjg\n",
      "1AyT77LqJzQ\n",
      "1AyT77LqJzQ\n",
      "cJOyCgIKyeA\n",
      "zqfcp6NRKpA\n",
      "7y5Ye-2-ZBs\n",
      "rYW7VFPi9_w\n",
      "0Beq_NIDj2c\n",
      "0Beq_NIDj2c\n",
      "AoQAPgEUIAs\n",
      "25BrmaKbzYo\n",
      "{'9FdHlMOnVjg': [['laugh', 0.0, 1.034]], '1AyT77LqJzQ': [['school', 1.101, 3.67], ['school', 4.671, 6.874]], 'cJOyCgIKyeA': [['past', 0.0, 1.068]], 'zqfcp6NRKpA': [['germany', 0.0, 1.201]], '7y5Ye-2-ZBs': [['like', 0.0, 1.735]], 'rYW7VFPi9_w': [['portugal', 0.0, 1.468]], '0Beq_NIDj2c': [['yellow', 0.334, 2.002], ['yellow', 3.003, 5.339]], 'AoQAPgEUIAs': [['again', 0.0, 3.9]], '25BrmaKbzYo': [['football', 0.0, 3.871]]}\n",
      "{'9FdHlMOnVjg': [['laugh', 0.0, 1.034]], '1AyT77LqJzQ': [['school', 1.101, 3.67], ['school', 4.671, 6.874]], 'cJOyCgIKyeA': [['past', 0.0, 1.068]], 'zqfcp6NRKpA': [['germany', 0.0, 1.201]], '7y5Ye-2-ZBs': [['like', 0.0, 1.735]], 'rYW7VFPi9_w': [['portugal', 0.0, 1.468]], '0Beq_NIDj2c': [['yellow', 0.334, 2.002], ['yellow', 3.003, 5.339]], 'AoQAPgEUIAs': [['again', 0.0, 3.9]], '25BrmaKbzYo': [['football', 0.0, 3.871]]}\n",
      "{'9FdHlMOnVjg': [['laugh', 0.0, 1.034]], '1AyT77LqJzQ': [['school', 1.101, 3.67], ['school', 4.671, 6.874]], 'cJOyCgIKyeA': [['past', 0.0, 1.068]], 'zqfcp6NRKpA': [['germany', 0.0, 1.201]], '7y5Ye-2-ZBs': [['like', 0.0, 1.735]], 'rYW7VFPi9_w': [['portugal', 0.0, 1.468]], '0Beq_NIDj2c': [['yellow', 0.334, 2.002], ['yellow', 3.003, 5.339]], 'AoQAPgEUIAs': [['again', 0.0, 3.9]], '25BrmaKbzYo': [['football', 0.0, 3.871]]}\n",
      "{'9FdHlMOnVjg': [['laugh', 0.0, 1.034]], '1AyT77LqJzQ': [['school', 1.101, 3.67], ['school', 4.671, 6.874]], 'cJOyCgIKyeA': [['past', 0.0, 1.068]], 'zqfcp6NRKpA': [['germany', 0.0, 1.201]], '7y5Ye-2-ZBs': [['like', 0.0, 1.735]], 'rYW7VFPi9_w': [['portugal', 0.0, 1.468]], '0Beq_NIDj2c': [['yellow', 0.334, 2.002], ['yellow', 3.003, 5.339]], 'AoQAPgEUIAs': [['again', 0.0, 3.9]], '25BrmaKbzYo': [['football', 0.0, 3.871]]}\n",
      "{'9FdHlMOnVjg': [['laugh', 0.0, 1.034]], '1AyT77LqJzQ': [['school', 1.101, 3.67], ['school', 4.671, 6.874]], 'cJOyCgIKyeA': [['past', 0.0, 1.068]], 'zqfcp6NRKpA': [['germany', 0.0, 1.201]], '7y5Ye-2-ZBs': [['like', 0.0, 1.735]], 'rYW7VFPi9_w': [['portugal', 0.0, 1.468]], '0Beq_NIDj2c': [['yellow', 0.334, 2.002], ['yellow', 3.003, 5.339]], 'AoQAPgEUIAs': [['again', 0.0, 3.9]], '25BrmaKbzYo': [['football', 0.0, 3.871]]}\n",
      "{'9FdHlMOnVjg': [['laugh', 0.0, 1.034]], '1AyT77LqJzQ': [['school', 1.101, 3.67], ['school', 4.671, 6.874]], 'cJOyCgIKyeA': [['past', 0.0, 1.068]], 'zqfcp6NRKpA': [['germany', 0.0, 1.201]], '7y5Ye-2-ZBs': [['like', 0.0, 1.735]], 'rYW7VFPi9_w': [['portugal', 0.0, 1.468]], '0Beq_NIDj2c': [['yellow', 0.334, 2.002], ['yellow', 3.003, 5.339]], 'AoQAPgEUIAs': [['again', 0.0, 3.9]], '25BrmaKbzYo': [['football', 0.0, 3.871]]}\n",
      "{'9FdHlMOnVjg': [['laugh', 0.0, 1.034]], '1AyT77LqJzQ': [['school', 1.101, 3.67], ['school', 4.671, 6.874]], 'cJOyCgIKyeA': [['past', 0.0, 1.068]], 'zqfcp6NRKpA': [['germany', 0.0, 1.201]], '7y5Ye-2-ZBs': [['like', 0.0, 1.735]], 'rYW7VFPi9_w': [['portugal', 0.0, 1.468]], '0Beq_NIDj2c': [['yellow', 0.334, 2.002], ['yellow', 3.003, 5.339]], 'AoQAPgEUIAs': [['again', 0.0, 3.9]], '25BrmaKbzYo': [['football', 0.0, 3.871]]}\n",
      "{'9FdHlMOnVjg': [['laugh', 0.0, 1.034]], '1AyT77LqJzQ': [['school', 1.101, 3.67], ['school', 4.671, 6.874]], 'cJOyCgIKyeA': [['past', 0.0, 1.068]], 'zqfcp6NRKpA': [['germany', 0.0, 1.201]], '7y5Ye-2-ZBs': [['like', 0.0, 1.735]], 'rYW7VFPi9_w': [['portugal', 0.0, 1.468]], '0Beq_NIDj2c': [['yellow', 0.334, 2.002], ['yellow', 3.003, 5.339]], 'AoQAPgEUIAs': [['again', 0.0, 3.9]], '25BrmaKbzYo': [['football', 0.0, 3.871]]}\n",
      "{'9FdHlMOnVjg': [['laugh', 0.0, 1.034]], '1AyT77LqJzQ': [['school', 1.101, 3.67], ['school', 4.671, 6.874]], 'cJOyCgIKyeA': [['past', 0.0, 1.068]], 'zqfcp6NRKpA': [['germany', 0.0, 1.201]], '7y5Ye-2-ZBs': [['like', 0.0, 1.735]], 'rYW7VFPi9_w': [['portugal', 0.0, 1.468]], '0Beq_NIDj2c': [['yellow', 0.334, 2.002], ['yellow', 3.003, 5.339]], 'AoQAPgEUIAs': [['again', 0.0, 3.9]], '25BrmaKbzYo': [['football', 0.0, 3.871]]}\n",
      "{'9FdHlMOnVjg': [['laugh', 0.0, 1.034]], '1AyT77LqJzQ': [['school', 1.101, 3.67], ['school', 4.671, 6.874]], 'cJOyCgIKyeA': [['past', 0.0, 1.068]], 'zqfcp6NRKpA': [['germany', 0.0, 1.201]], '7y5Ye-2-ZBs': [['like', 0.0, 1.735]], 'rYW7VFPi9_w': [['portugal', 0.0, 1.468]], '0Beq_NIDj2c': [['yellow', 0.334, 2.002], ['yellow', 3.003, 5.339]], 'AoQAPgEUIAs': [['again', 0.0, 3.9]], '25BrmaKbzYo': [['football', 0.0, 3.871]]}\n",
      "{'9FdHlMOnVjg': [['laugh', 0.0, 1.034]], '1AyT77LqJzQ': [['school', 1.101, 3.67], ['school', 4.671, 6.874]], 'cJOyCgIKyeA': [['past', 0.0, 1.068]], 'zqfcp6NRKpA': [['germany', 0.0, 1.201]], '7y5Ye-2-ZBs': [['like', 0.0, 1.735]], 'rYW7VFPi9_w': [['portugal', 0.0, 1.468]], '0Beq_NIDj2c': [['yellow', 0.334, 2.002], ['yellow', 3.003, 5.339]], 'AoQAPgEUIAs': [['again', 0.0, 3.9]], '25BrmaKbzYo': [['football', 0.0, 3.871]]}\n",
      "{'9FdHlMOnVjg': [['laugh', 0.0, 1.034]], '1AyT77LqJzQ': [['school', 1.101, 3.67], ['school', 4.671, 6.874]], 'cJOyCgIKyeA': [['past', 0.0, 1.068]], 'zqfcp6NRKpA': [['germany', 0.0, 1.201]], '7y5Ye-2-ZBs': [['like', 0.0, 1.735]], 'rYW7VFPi9_w': [['portugal', 0.0, 1.468]], '0Beq_NIDj2c': [['yellow', 0.334, 2.002], ['yellow', 3.003, 5.339]], 'AoQAPgEUIAs': [['again', 0.0, 3.9]], '25BrmaKbzYo': [['football', 0.0, 3.871]]}\n",
      "{'9FdHlMOnVjg': [['laugh', 0.0, 1.034]], '1AyT77LqJzQ': [['school', 1.101, 3.67], ['school', 4.671, 6.874]], 'cJOyCgIKyeA': [['past', 0.0, 1.068]], 'zqfcp6NRKpA': [['germany', 0.0, 1.201]], '7y5Ye-2-ZBs': [['like', 0.0, 1.735]], 'rYW7VFPi9_w': [['portugal', 0.0, 1.468]], '0Beq_NIDj2c': [['yellow', 0.334, 2.002], ['yellow', 3.003, 5.339]], 'AoQAPgEUIAs': [['again', 0.0, 3.9]], '25BrmaKbzYo': [['football', 0.0, 3.871]]}\n",
      "{'9FdHlMOnVjg': [['laugh', 0.0, 1.034]], '1AyT77LqJzQ': [['school', 1.101, 3.67], ['school', 4.671, 6.874]], 'cJOyCgIKyeA': [['past', 0.0, 1.068]], 'zqfcp6NRKpA': [['germany', 0.0, 1.201]], '7y5Ye-2-ZBs': [['like', 0.0, 1.735]], 'rYW7VFPi9_w': [['portugal', 0.0, 1.468]], '0Beq_NIDj2c': [['yellow', 0.334, 2.002], ['yellow', 3.003, 5.339]], 'AoQAPgEUIAs': [['again', 0.0, 3.9]], '25BrmaKbzYo': [['football', 0.0, 3.871]]}\n",
      "{'9FdHlMOnVjg': [['laugh', 0.0, 1.034]], '1AyT77LqJzQ': [['school', 1.101, 3.67], ['school', 4.671, 6.874]], 'cJOyCgIKyeA': [['past', 0.0, 1.068]], 'zqfcp6NRKpA': [['germany', 0.0, 1.201]], '7y5Ye-2-ZBs': [['like', 0.0, 1.735]], 'rYW7VFPi9_w': [['portugal', 0.0, 1.468]], '0Beq_NIDj2c': [['yellow', 0.334, 2.002], ['yellow', 3.003, 5.339]], 'AoQAPgEUIAs': [['again', 0.0, 3.9]], '25BrmaKbzYo': [['football', 0.0, 3.871]]}\n",
      "{'9FdHlMOnVjg': [['laugh', 0.0, 1.034]], '1AyT77LqJzQ': [['school', 1.101, 3.67], ['school', 4.671, 6.874]], 'cJOyCgIKyeA': [['past', 0.0, 1.068]], 'zqfcp6NRKpA': [['germany', 0.0, 1.201]], '7y5Ye-2-ZBs': [['like', 0.0, 1.735]], 'rYW7VFPi9_w': [['portugal', 0.0, 1.468]], '0Beq_NIDj2c': [['yellow', 0.334, 2.002], ['yellow', 3.003, 5.339]], 'AoQAPgEUIAs': [['again', 0.0, 3.9]], '25BrmaKbzYo': [['football', 0.0, 3.871]]}\n",
      "{'9FdHlMOnVjg': [['laugh', 0.0, 1.034]], '1AyT77LqJzQ': [['school', 1.101, 3.67], ['school', 4.671, 6.874]], 'cJOyCgIKyeA': [['past', 0.0, 1.068]], 'zqfcp6NRKpA': [['germany', 0.0, 1.201]], '7y5Ye-2-ZBs': [['like', 0.0, 1.735]], 'rYW7VFPi9_w': [['portugal', 0.0, 1.468]], '0Beq_NIDj2c': [['yellow', 0.334, 2.002], ['yellow', 3.003, 5.339]], 'AoQAPgEUIAs': [['again', 0.0, 3.9]], '25BrmaKbzYo': [['football', 0.0, 3.871]]}\n",
      "{'9FdHlMOnVjg': [['laugh', 0.0, 1.034]], '1AyT77LqJzQ': [['school', 1.101, 3.67], ['school', 4.671, 6.874]], 'cJOyCgIKyeA': [['past', 0.0, 1.068]], 'zqfcp6NRKpA': [['germany', 0.0, 1.201]], '7y5Ye-2-ZBs': [['like', 0.0, 1.735]], 'rYW7VFPi9_w': [['portugal', 0.0, 1.468]], '0Beq_NIDj2c': [['yellow', 0.334, 2.002], ['yellow', 3.003, 5.339]], 'AoQAPgEUIAs': [['again', 0.0, 3.9]], '25BrmaKbzYo': [['football', 0.0, 3.871]]}\n",
      "{'9FdHlMOnVjg': [['laugh', 0.0, 1.034]], '1AyT77LqJzQ': [['school', 1.101, 3.67], ['school', 4.671, 6.874]], 'cJOyCgIKyeA': [['past', 0.0, 1.068]], 'zqfcp6NRKpA': [['germany', 0.0, 1.201]], '7y5Ye-2-ZBs': [['like', 0.0, 1.735]], 'rYW7VFPi9_w': [['portugal', 0.0, 1.468]], '0Beq_NIDj2c': [['yellow', 0.334, 2.002], ['yellow', 3.003, 5.339]], 'AoQAPgEUIAs': [['again', 0.0, 3.9]], '25BrmaKbzYo': [['football', 0.0, 3.871]]}\n",
      "{'9FdHlMOnVjg': [['laugh', 0.0, 1.034]], '1AyT77LqJzQ': [['school', 1.101, 3.67], ['school', 4.671, 6.874]], 'cJOyCgIKyeA': [['past', 0.0, 1.068]], 'zqfcp6NRKpA': [['germany', 0.0, 1.201]], '7y5Ye-2-ZBs': [['like', 0.0, 1.735]], 'rYW7VFPi9_w': [['portugal', 0.0, 1.468]], '0Beq_NIDj2c': [['yellow', 0.334, 2.002], ['yellow', 3.003, 5.339]], 'AoQAPgEUIAs': [['again', 0.0, 3.9]], '25BrmaKbzYo': [['football', 0.0, 3.871]]}\n",
      "{'9FdHlMOnVjg': [['laugh', 0.0, 1.034]], '1AyT77LqJzQ': [['school', 1.101, 3.67], ['school', 4.671, 6.874]], 'cJOyCgIKyeA': [['past', 0.0, 1.068]], 'zqfcp6NRKpA': [['germany', 0.0, 1.201]], '7y5Ye-2-ZBs': [['like', 0.0, 1.735]], 'rYW7VFPi9_w': [['portugal', 0.0, 1.468]], '0Beq_NIDj2c': [['yellow', 0.334, 2.002], ['yellow', 3.003, 5.339]], 'AoQAPgEUIAs': [['again', 0.0, 3.9]], '25BrmaKbzYo': [['football', 0.0, 3.871]]}\n",
      "{'9FdHlMOnVjg': [['laugh', 0.0, 1.034]], '1AyT77LqJzQ': [['school', 1.101, 3.67], ['school', 4.671, 6.874]], 'cJOyCgIKyeA': [['past', 0.0, 1.068]], 'zqfcp6NRKpA': [['germany', 0.0, 1.201]], '7y5Ye-2-ZBs': [['like', 0.0, 1.735]], 'rYW7VFPi9_w': [['portugal', 0.0, 1.468]], '0Beq_NIDj2c': [['yellow', 0.334, 2.002], ['yellow', 3.003, 5.339]], 'AoQAPgEUIAs': [['again', 0.0, 3.9]], '25BrmaKbzYo': [['football', 0.0, 3.871]]}\n",
      "{'9FdHlMOnVjg': [['laugh', 0.0, 1.034]], '1AyT77LqJzQ': [['school', 1.101, 3.67], ['school', 4.671, 6.874]], 'cJOyCgIKyeA': [['past', 0.0, 1.068]], 'zqfcp6NRKpA': [['germany', 0.0, 1.201]], '7y5Ye-2-ZBs': [['like', 0.0, 1.735]], 'rYW7VFPi9_w': [['portugal', 0.0, 1.468]], '0Beq_NIDj2c': [['yellow', 0.334, 2.002], ['yellow', 3.003, 5.339]], 'AoQAPgEUIAs': [['again', 0.0, 3.9]], '25BrmaKbzYo': [['football', 0.0, 3.871]]}\n",
      "{'9FdHlMOnVjg': [['laugh', 0.0, 1.034]], '1AyT77LqJzQ': [['school', 1.101, 3.67], ['school', 4.671, 6.874]], 'cJOyCgIKyeA': [['past', 0.0, 1.068]], 'zqfcp6NRKpA': [['germany', 0.0, 1.201]], '7y5Ye-2-ZBs': [['like', 0.0, 1.735]], 'rYW7VFPi9_w': [['portugal', 0.0, 1.468]], '0Beq_NIDj2c': [['yellow', 0.334, 2.002], ['yellow', 3.003, 5.339]], 'AoQAPgEUIAs': [['again', 0.0, 3.9]], '25BrmaKbzYo': [['football', 0.0, 3.871]]}\n",
      "{'9FdHlMOnVjg': [['laugh', 0.0, 1.034]], '1AyT77LqJzQ': [['school', 1.101, 3.67], ['school', 4.671, 6.874]], 'cJOyCgIKyeA': [['past', 0.0, 1.068]], 'zqfcp6NRKpA': [['germany', 0.0, 1.201]], '7y5Ye-2-ZBs': [['like', 0.0, 1.735]], 'rYW7VFPi9_w': [['portugal', 0.0, 1.468]], '0Beq_NIDj2c': [['yellow', 0.334, 2.002], ['yellow', 3.003, 5.339]], 'AoQAPgEUIAs': [['again', 0.0, 3.9]], '25BrmaKbzYo': [['football', 0.0, 3.871]]}\n",
      "{'9FdHlMOnVjg': [['laugh', 0.0, 1.034]], '1AyT77LqJzQ': [['school', 1.101, 3.67], ['school', 4.671, 6.874]], 'cJOyCgIKyeA': [['past', 0.0, 1.068]], 'zqfcp6NRKpA': [['germany', 0.0, 1.201]], '7y5Ye-2-ZBs': [['like', 0.0, 1.735]], 'rYW7VFPi9_w': [['portugal', 0.0, 1.468]], '0Beq_NIDj2c': [['yellow', 0.334, 2.002], ['yellow', 3.003, 5.339]], 'AoQAPgEUIAs': [['again', 0.0, 3.9]], '25BrmaKbzYo': [['football', 0.0, 3.871]]}\n",
      "{'9FdHlMOnVjg': [['laugh', 0.0, 1.034]], '1AyT77LqJzQ': [['school', 1.101, 3.67], ['school', 4.671, 6.874]], 'cJOyCgIKyeA': [['past', 0.0, 1.068]], 'zqfcp6NRKpA': [['germany', 0.0, 1.201]], '7y5Ye-2-ZBs': [['like', 0.0, 1.735]], 'rYW7VFPi9_w': [['portugal', 0.0, 1.468]], '0Beq_NIDj2c': [['yellow', 0.334, 2.002], ['yellow', 3.003, 5.339]], 'AoQAPgEUIAs': [['again', 0.0, 3.9]], '25BrmaKbzYo': [['football', 0.0, 3.871]]}\n",
      "{'9FdHlMOnVjg': [['laugh', 0.0, 1.034]], '1AyT77LqJzQ': [['school', 1.101, 3.67], ['school', 4.671, 6.874]], 'cJOyCgIKyeA': [['past', 0.0, 1.068]], 'zqfcp6NRKpA': [['germany', 0.0, 1.201]], '7y5Ye-2-ZBs': [['like', 0.0, 1.735]], 'rYW7VFPi9_w': [['portugal', 0.0, 1.468]], '0Beq_NIDj2c': [['yellow', 0.334, 2.002], ['yellow', 3.003, 5.339]], 'AoQAPgEUIAs': [['again', 0.0, 3.9]], '25BrmaKbzYo': [['football', 0.0, 3.871]]}\n",
      "{'9FdHlMOnVjg': [['laugh', 0.0, 1.034]], '1AyT77LqJzQ': [['school', 1.101, 3.67], ['school', 4.671, 6.874]], 'cJOyCgIKyeA': [['past', 0.0, 1.068]], 'zqfcp6NRKpA': [['germany', 0.0, 1.201]], '7y5Ye-2-ZBs': [['like', 0.0, 1.735]], 'rYW7VFPi9_w': [['portugal', 0.0, 1.468]], '0Beq_NIDj2c': [['yellow', 0.334, 2.002], ['yellow', 3.003, 5.339]], 'AoQAPgEUIAs': [['again', 0.0, 3.9]], '25BrmaKbzYo': [['football', 0.0, 3.871]]}\n",
      "{'9FdHlMOnVjg': [['laugh', 0.0, 1.034]], '1AyT77LqJzQ': [['school', 1.101, 3.67], ['school', 4.671, 6.874]], 'cJOyCgIKyeA': [['past', 0.0, 1.068]], 'zqfcp6NRKpA': [['germany', 0.0, 1.201]], '7y5Ye-2-ZBs': [['like', 0.0, 1.735]], 'rYW7VFPi9_w': [['portugal', 0.0, 1.468]], '0Beq_NIDj2c': [['yellow', 0.334, 2.002], ['yellow', 3.003, 5.339]], 'AoQAPgEUIAs': [['again', 0.0, 3.9]], '25BrmaKbzYo': [['football', 0.0, 3.871]]}\n",
      "{'9FdHlMOnVjg': [['laugh', 0.0, 1.034]], '1AyT77LqJzQ': [['school', 1.101, 3.67], ['school', 4.671, 6.874]], 'cJOyCgIKyeA': [['past', 0.0, 1.068]], 'zqfcp6NRKpA': [['germany', 0.0, 1.201]], '7y5Ye-2-ZBs': [['like', 0.0, 1.735]], 'rYW7VFPi9_w': [['portugal', 0.0, 1.468]], '0Beq_NIDj2c': [['yellow', 0.334, 2.002], ['yellow', 3.003, 5.339]], 'AoQAPgEUIAs': [['again', 0.0, 3.9]], '25BrmaKbzYo': [['football', 0.0, 3.871]]}\n",
      "{'9FdHlMOnVjg': [['laugh', 0.0, 1.034]], '1AyT77LqJzQ': [['school', 1.101, 3.67], ['school', 4.671, 6.874]], 'cJOyCgIKyeA': [['past', 0.0, 1.068]], 'zqfcp6NRKpA': [['germany', 0.0, 1.201]], '7y5Ye-2-ZBs': [['like', 0.0, 1.735]], 'rYW7VFPi9_w': [['portugal', 0.0, 1.468]], '0Beq_NIDj2c': [['yellow', 0.334, 2.002], ['yellow', 3.003, 5.339]], 'AoQAPgEUIAs': [['again', 0.0, 3.9]], '25BrmaKbzYo': [['football', 0.0, 3.871]]}\n",
      "{'9FdHlMOnVjg': [['laugh', 0.0, 1.034]], '1AyT77LqJzQ': [['school', 1.101, 3.67], ['school', 4.671, 6.874]], 'cJOyCgIKyeA': [['past', 0.0, 1.068]], 'zqfcp6NRKpA': [['germany', 0.0, 1.201]], '7y5Ye-2-ZBs': [['like', 0.0, 1.735]], 'rYW7VFPi9_w': [['portugal', 0.0, 1.468]], '0Beq_NIDj2c': [['yellow', 0.334, 2.002], ['yellow', 3.003, 5.339]], 'AoQAPgEUIAs': [['again', 0.0, 3.9]], '25BrmaKbzYo': [['football', 0.0, 3.871]]}\n",
      "{'9FdHlMOnVjg': [['laugh', 0.0, 1.034]], '1AyT77LqJzQ': [['school', 1.101, 3.67], ['school', 4.671, 6.874]], 'cJOyCgIKyeA': [['past', 0.0, 1.068]], 'zqfcp6NRKpA': [['germany', 0.0, 1.201]], '7y5Ye-2-ZBs': [['like', 0.0, 1.735]], 'rYW7VFPi9_w': [['portugal', 0.0, 1.468]], '0Beq_NIDj2c': [['yellow', 0.334, 2.002], ['yellow', 3.003, 5.339]], 'AoQAPgEUIAs': [['again', 0.0, 3.9]], '25BrmaKbzYo': [['football', 0.0, 3.871]]}\n",
      "{'9FdHlMOnVjg': [['laugh', 0.0, 1.034]], '1AyT77LqJzQ': [['school', 1.101, 3.67], ['school', 4.671, 6.874]], 'cJOyCgIKyeA': [['past', 0.0, 1.068]], 'zqfcp6NRKpA': [['germany', 0.0, 1.201]], '7y5Ye-2-ZBs': [['like', 0.0, 1.735]], 'rYW7VFPi9_w': [['portugal', 0.0, 1.468]], '0Beq_NIDj2c': [['yellow', 0.334, 2.002], ['yellow', 3.003, 5.339]], 'AoQAPgEUIAs': [['again', 0.0, 3.9]], '25BrmaKbzYo': [['football', 0.0, 3.871]]}\n",
      "{'9FdHlMOnVjg': [['laugh', 0.0, 1.034]], '1AyT77LqJzQ': [['school', 1.101, 3.67], ['school', 4.671, 6.874]], 'cJOyCgIKyeA': [['past', 0.0, 1.068]], 'zqfcp6NRKpA': [['germany', 0.0, 1.201]], '7y5Ye-2-ZBs': [['like', 0.0, 1.735]], 'rYW7VFPi9_w': [['portugal', 0.0, 1.468]], '0Beq_NIDj2c': [['yellow', 0.334, 2.002], ['yellow', 3.003, 5.339]], 'AoQAPgEUIAs': [['again', 0.0, 3.9]], '25BrmaKbzYo': [['football', 0.0, 3.871]]}\n",
      "{'9FdHlMOnVjg': [['laugh', 0.0, 1.034]], '1AyT77LqJzQ': [['school', 1.101, 3.67], ['school', 4.671, 6.874]], 'cJOyCgIKyeA': [['past', 0.0, 1.068]], 'zqfcp6NRKpA': [['germany', 0.0, 1.201]], '7y5Ye-2-ZBs': [['like', 0.0, 1.735]], 'rYW7VFPi9_w': [['portugal', 0.0, 1.468]], '0Beq_NIDj2c': [['yellow', 0.334, 2.002], ['yellow', 3.003, 5.339]], 'AoQAPgEUIAs': [['again', 0.0, 3.9]], '25BrmaKbzYo': [['football', 0.0, 3.871]]}\n",
      "{'9FdHlMOnVjg': [['laugh', 0.0, 1.034]], '1AyT77LqJzQ': [['school', 1.101, 3.67], ['school', 4.671, 6.874]], 'cJOyCgIKyeA': [['past', 0.0, 1.068]], 'zqfcp6NRKpA': [['germany', 0.0, 1.201]], '7y5Ye-2-ZBs': [['like', 0.0, 1.735]], 'rYW7VFPi9_w': [['portugal', 0.0, 1.468]], '0Beq_NIDj2c': [['yellow', 0.334, 2.002], ['yellow', 3.003, 5.339]], 'AoQAPgEUIAs': [['again', 0.0, 3.9]], '25BrmaKbzYo': [['football', 0.0, 3.871]]}\n",
      "{'9FdHlMOnVjg': [['laugh', 0.0, 1.034]], '1AyT77LqJzQ': [['school', 1.101, 3.67], ['school', 4.671, 6.874]], 'cJOyCgIKyeA': [['past', 0.0, 1.068]], 'zqfcp6NRKpA': [['germany', 0.0, 1.201]], '7y5Ye-2-ZBs': [['like', 0.0, 1.735]], 'rYW7VFPi9_w': [['portugal', 0.0, 1.468]], '0Beq_NIDj2c': [['yellow', 0.334, 2.002], ['yellow', 3.003, 5.339]], 'AoQAPgEUIAs': [['again', 0.0, 3.9]], '25BrmaKbzYo': [['football', 0.0, 3.871]]}\n",
      "{'9FdHlMOnVjg': [['laugh', 0.0, 1.034]], '1AyT77LqJzQ': [['school', 1.101, 3.67], ['school', 4.671, 6.874]], 'cJOyCgIKyeA': [['past', 0.0, 1.068]], 'zqfcp6NRKpA': [['germany', 0.0, 1.201]], '7y5Ye-2-ZBs': [['like', 0.0, 1.735]], 'rYW7VFPi9_w': [['portugal', 0.0, 1.468]], '0Beq_NIDj2c': [['yellow', 0.334, 2.002], ['yellow', 3.003, 5.339]], 'AoQAPgEUIAs': [['again', 0.0, 3.9]], '25BrmaKbzYo': [['football', 0.0, 3.871]]}\n",
      "{'9FdHlMOnVjg': [['laugh', 0.0, 1.034]], '1AyT77LqJzQ': [['school', 1.101, 3.67], ['school', 4.671, 6.874]], 'cJOyCgIKyeA': [['past', 0.0, 1.068]], 'zqfcp6NRKpA': [['germany', 0.0, 1.201]], '7y5Ye-2-ZBs': [['like', 0.0, 1.735]], 'rYW7VFPi9_w': [['portugal', 0.0, 1.468]], '0Beq_NIDj2c': [['yellow', 0.334, 2.002], ['yellow', 3.003, 5.339]], 'AoQAPgEUIAs': [['again', 0.0, 3.9]], '25BrmaKbzYo': [['football', 0.0, 3.871]]}\n",
      "{'9FdHlMOnVjg': [['laugh', 0.0, 1.034]], '1AyT77LqJzQ': [['school', 1.101, 3.67], ['school', 4.671, 6.874]], 'cJOyCgIKyeA': [['past', 0.0, 1.068]], 'zqfcp6NRKpA': [['germany', 0.0, 1.201]], '7y5Ye-2-ZBs': [['like', 0.0, 1.735]], 'rYW7VFPi9_w': [['portugal', 0.0, 1.468]], '0Beq_NIDj2c': [['yellow', 0.334, 2.002], ['yellow', 3.003, 5.339]], 'AoQAPgEUIAs': [['again', 0.0, 3.9]], '25BrmaKbzYo': [['football', 0.0, 3.871]]}\n",
      "{'9FdHlMOnVjg': [['laugh', 0.0, 1.034]], '1AyT77LqJzQ': [['school', 1.101, 3.67], ['school', 4.671, 6.874]], 'cJOyCgIKyeA': [['past', 0.0, 1.068]], 'zqfcp6NRKpA': [['germany', 0.0, 1.201]], '7y5Ye-2-ZBs': [['like', 0.0, 1.735]], 'rYW7VFPi9_w': [['portugal', 0.0, 1.468]], '0Beq_NIDj2c': [['yellow', 0.334, 2.002], ['yellow', 3.003, 5.339]], 'AoQAPgEUIAs': [['again', 0.0, 3.9]], '25BrmaKbzYo': [['football', 0.0, 3.871]]}\n",
      "{'9FdHlMOnVjg': [['laugh', 0.0, 1.034]], '1AyT77LqJzQ': [['school', 1.101, 3.67], ['school', 4.671, 6.874]], 'cJOyCgIKyeA': [['past', 0.0, 1.068]], 'zqfcp6NRKpA': [['germany', 0.0, 1.201]], '7y5Ye-2-ZBs': [['like', 0.0, 1.735]], 'rYW7VFPi9_w': [['portugal', 0.0, 1.468]], '0Beq_NIDj2c': [['yellow', 0.334, 2.002], ['yellow', 3.003, 5.339]], 'AoQAPgEUIAs': [['again', 0.0, 3.9]], '25BrmaKbzYo': [['football', 0.0, 3.871]]}\n",
      "{'9FdHlMOnVjg': [['laugh', 0.0, 1.034]], '1AyT77LqJzQ': [['school', 1.101, 3.67], ['school', 4.671, 6.874]], 'cJOyCgIKyeA': [['past', 0.0, 1.068]], 'zqfcp6NRKpA': [['germany', 0.0, 1.201]], '7y5Ye-2-ZBs': [['like', 0.0, 1.735]], 'rYW7VFPi9_w': [['portugal', 0.0, 1.468]], '0Beq_NIDj2c': [['yellow', 0.334, 2.002], ['yellow', 3.003, 5.339]], 'AoQAPgEUIAs': [['again', 0.0, 3.9]], '25BrmaKbzYo': [['football', 0.0, 3.871]]}\n",
      "{'9FdHlMOnVjg': [['laugh', 0.0, 1.034]], '1AyT77LqJzQ': [['school', 1.101, 3.67], ['school', 4.671, 6.874]], 'cJOyCgIKyeA': [['past', 0.0, 1.068]], 'zqfcp6NRKpA': [['germany', 0.0, 1.201]], '7y5Ye-2-ZBs': [['like', 0.0, 1.735]], 'rYW7VFPi9_w': [['portugal', 0.0, 1.468]], '0Beq_NIDj2c': [['yellow', 0.334, 2.002], ['yellow', 3.003, 5.339]], 'AoQAPgEUIAs': [['again', 0.0, 3.9]], '25BrmaKbzYo': [['football', 0.0, 3.871]]}\n",
      "{'9FdHlMOnVjg': [['laugh', 0.0, 1.034]], '1AyT77LqJzQ': [['school', 1.101, 3.67], ['school', 4.671, 6.874]], 'cJOyCgIKyeA': [['past', 0.0, 1.068]], 'zqfcp6NRKpA': [['germany', 0.0, 1.201]], '7y5Ye-2-ZBs': [['like', 0.0, 1.735]], 'rYW7VFPi9_w': [['portugal', 0.0, 1.468]], '0Beq_NIDj2c': [['yellow', 0.334, 2.002], ['yellow', 3.003, 5.339]], 'AoQAPgEUIAs': [['again', 0.0, 3.9]], '25BrmaKbzYo': [['football', 0.0, 3.871]]}\n",
      "{'9FdHlMOnVjg': [['laugh', 0.0, 1.034]], '1AyT77LqJzQ': [['school', 1.101, 3.67], ['school', 4.671, 6.874]], 'cJOyCgIKyeA': [['past', 0.0, 1.068]], 'zqfcp6NRKpA': [['germany', 0.0, 1.201]], '7y5Ye-2-ZBs': [['like', 0.0, 1.735]], 'rYW7VFPi9_w': [['portugal', 0.0, 1.468]], '0Beq_NIDj2c': [['yellow', 0.334, 2.002], ['yellow', 3.003, 5.339]], 'AoQAPgEUIAs': [['again', 0.0, 3.9]], '25BrmaKbzYo': [['football', 0.0, 3.871]]}\n",
      "{'9FdHlMOnVjg': [['laugh', 0.0, 1.034]], '1AyT77LqJzQ': [['school', 1.101, 3.67], ['school', 4.671, 6.874]], 'cJOyCgIKyeA': [['past', 0.0, 1.068]], 'zqfcp6NRKpA': [['germany', 0.0, 1.201]], '7y5Ye-2-ZBs': [['like', 0.0, 1.735]], 'rYW7VFPi9_w': [['portugal', 0.0, 1.468]], '0Beq_NIDj2c': [['yellow', 0.334, 2.002], ['yellow', 3.003, 5.339]], 'AoQAPgEUIAs': [['again', 0.0, 3.9]], '25BrmaKbzYo': [['football', 0.0, 3.871]]}\n",
      "{'9FdHlMOnVjg': [['laugh', 0.0, 1.034]], '1AyT77LqJzQ': [['school', 1.101, 3.67], ['school', 4.671, 6.874]], 'cJOyCgIKyeA': [['past', 0.0, 1.068]], 'zqfcp6NRKpA': [['germany', 0.0, 1.201]], '7y5Ye-2-ZBs': [['like', 0.0, 1.735]], 'rYW7VFPi9_w': [['portugal', 0.0, 1.468]], '0Beq_NIDj2c': [['yellow', 0.334, 2.002], ['yellow', 3.003, 5.339]], 'AoQAPgEUIAs': [['again', 0.0, 3.9]], '25BrmaKbzYo': [['football', 0.0, 3.871]]}\n",
      "{'9FdHlMOnVjg': [['laugh', 0.0, 1.034]], '1AyT77LqJzQ': [['school', 1.101, 3.67], ['school', 4.671, 6.874]], 'cJOyCgIKyeA': [['past', 0.0, 1.068]], 'zqfcp6NRKpA': [['germany', 0.0, 1.201]], '7y5Ye-2-ZBs': [['like', 0.0, 1.735]], 'rYW7VFPi9_w': [['portugal', 0.0, 1.468]], '0Beq_NIDj2c': [['yellow', 0.334, 2.002], ['yellow', 3.003, 5.339]], 'AoQAPgEUIAs': [['again', 0.0, 3.9]], '25BrmaKbzYo': [['football', 0.0, 3.871]]}\n",
      "{'9FdHlMOnVjg': [['laugh', 0.0, 1.034]], '1AyT77LqJzQ': [['school', 1.101, 3.67], ['school', 4.671, 6.874]], 'cJOyCgIKyeA': [['past', 0.0, 1.068]], 'zqfcp6NRKpA': [['germany', 0.0, 1.201]], '7y5Ye-2-ZBs': [['like', 0.0, 1.735]], 'rYW7VFPi9_w': [['portugal', 0.0, 1.468]], '0Beq_NIDj2c': [['yellow', 0.334, 2.002], ['yellow', 3.003, 5.339]], 'AoQAPgEUIAs': [['again', 0.0, 3.9]], '25BrmaKbzYo': [['football', 0.0, 3.871]]}\n",
      "{'9FdHlMOnVjg': [['laugh', 0.0, 1.034]], '1AyT77LqJzQ': [['school', 1.101, 3.67], ['school', 4.671, 6.874]], 'cJOyCgIKyeA': [['past', 0.0, 1.068]], 'zqfcp6NRKpA': [['germany', 0.0, 1.201]], '7y5Ye-2-ZBs': [['like', 0.0, 1.735]], 'rYW7VFPi9_w': [['portugal', 0.0, 1.468]], '0Beq_NIDj2c': [['yellow', 0.334, 2.002], ['yellow', 3.003, 5.339]], 'AoQAPgEUIAs': [['again', 0.0, 3.9]], '25BrmaKbzYo': [['football', 0.0, 3.871]]}\n",
      "{'9FdHlMOnVjg': [['laugh', 0.0, 1.034]], '1AyT77LqJzQ': [['school', 1.101, 3.67], ['school', 4.671, 6.874]], 'cJOyCgIKyeA': [['past', 0.0, 1.068]], 'zqfcp6NRKpA': [['germany', 0.0, 1.201]], '7y5Ye-2-ZBs': [['like', 0.0, 1.735]], 'rYW7VFPi9_w': [['portugal', 0.0, 1.468]], '0Beq_NIDj2c': [['yellow', 0.334, 2.002], ['yellow', 3.003, 5.339]], 'AoQAPgEUIAs': [['again', 0.0, 3.9]], '25BrmaKbzYo': [['football', 0.0, 3.871]]}\n",
      "{'9FdHlMOnVjg': [['laugh', 0.0, 1.034]], '1AyT77LqJzQ': [['school', 1.101, 3.67], ['school', 4.671, 6.874]], 'cJOyCgIKyeA': [['past', 0.0, 1.068]], 'zqfcp6NRKpA': [['germany', 0.0, 1.201]], '7y5Ye-2-ZBs': [['like', 0.0, 1.735]], 'rYW7VFPi9_w': [['portugal', 0.0, 1.468]], '0Beq_NIDj2c': [['yellow', 0.334, 2.002], ['yellow', 3.003, 5.339]], 'AoQAPgEUIAs': [['again', 0.0, 3.9]], '25BrmaKbzYo': [['football', 0.0, 3.871]]}\n",
      "{'9FdHlMOnVjg': [['laugh', 0.0, 1.034]], '1AyT77LqJzQ': [['school', 1.101, 3.67], ['school', 4.671, 6.874]], 'cJOyCgIKyeA': [['past', 0.0, 1.068]], 'zqfcp6NRKpA': [['germany', 0.0, 1.201]], '7y5Ye-2-ZBs': [['like', 0.0, 1.735]], 'rYW7VFPi9_w': [['portugal', 0.0, 1.468]], '0Beq_NIDj2c': [['yellow', 0.334, 2.002], ['yellow', 3.003, 5.339]], 'AoQAPgEUIAs': [['again', 0.0, 3.9]], '25BrmaKbzYo': [['football', 0.0, 3.871]]}\n",
      "{'9FdHlMOnVjg': [['laugh', 0.0, 1.034]], '1AyT77LqJzQ': [['school', 1.101, 3.67], ['school', 4.671, 6.874]], 'cJOyCgIKyeA': [['past', 0.0, 1.068]], 'zqfcp6NRKpA': [['germany', 0.0, 1.201]], '7y5Ye-2-ZBs': [['like', 0.0, 1.735]], 'rYW7VFPi9_w': [['portugal', 0.0, 1.468]], '0Beq_NIDj2c': [['yellow', 0.334, 2.002], ['yellow', 3.003, 5.339]], 'AoQAPgEUIAs': [['again', 0.0, 3.9]], '25BrmaKbzYo': [['football', 0.0, 3.871]]}\n",
      "{'9FdHlMOnVjg': [['laugh', 0.0, 1.034]], '1AyT77LqJzQ': [['school', 1.101, 3.67], ['school', 4.671, 6.874]], 'cJOyCgIKyeA': [['past', 0.0, 1.068]], 'zqfcp6NRKpA': [['germany', 0.0, 1.201]], '7y5Ye-2-ZBs': [['like', 0.0, 1.735]], 'rYW7VFPi9_w': [['portugal', 0.0, 1.468]], '0Beq_NIDj2c': [['yellow', 0.334, 2.002], ['yellow', 3.003, 5.339]], 'AoQAPgEUIAs': [['again', 0.0, 3.9]], '25BrmaKbzYo': [['football', 0.0, 3.871]]}\n",
      "{'9FdHlMOnVjg': [['laugh', 0.0, 1.034]], '1AyT77LqJzQ': [['school', 1.101, 3.67], ['school', 4.671, 6.874]], 'cJOyCgIKyeA': [['past', 0.0, 1.068]], 'zqfcp6NRKpA': [['germany', 0.0, 1.201]], '7y5Ye-2-ZBs': [['like', 0.0, 1.735]], 'rYW7VFPi9_w': [['portugal', 0.0, 1.468]], '0Beq_NIDj2c': [['yellow', 0.334, 2.002], ['yellow', 3.003, 5.339]], 'AoQAPgEUIAs': [['again', 0.0, 3.9]], '25BrmaKbzYo': [['football', 0.0, 3.871]]}\n",
      "{'9FdHlMOnVjg': [['laugh', 0.0, 1.034]], '1AyT77LqJzQ': [['school', 1.101, 3.67], ['school', 4.671, 6.874]], 'cJOyCgIKyeA': [['past', 0.0, 1.068]], 'zqfcp6NRKpA': [['germany', 0.0, 1.201]], '7y5Ye-2-ZBs': [['like', 0.0, 1.735]], 'rYW7VFPi9_w': [['portugal', 0.0, 1.468]], '0Beq_NIDj2c': [['yellow', 0.334, 2.002], ['yellow', 3.003, 5.339]], 'AoQAPgEUIAs': [['again', 0.0, 3.9]], '25BrmaKbzYo': [['football', 0.0, 3.871]]}\n",
      "{'9FdHlMOnVjg': [['laugh', 0.0, 1.034]], '1AyT77LqJzQ': [['school', 1.101, 3.67], ['school', 4.671, 6.874]], 'cJOyCgIKyeA': [['past', 0.0, 1.068]], 'zqfcp6NRKpA': [['germany', 0.0, 1.201]], '7y5Ye-2-ZBs': [['like', 0.0, 1.735]], 'rYW7VFPi9_w': [['portugal', 0.0, 1.468]], '0Beq_NIDj2c': [['yellow', 0.334, 2.002], ['yellow', 3.003, 5.339]], 'AoQAPgEUIAs': [['again', 0.0, 3.9]], '25BrmaKbzYo': [['football', 0.0, 3.871]]}\n",
      "{'9FdHlMOnVjg': [['laugh', 0.0, 1.034]], '1AyT77LqJzQ': [['school', 1.101, 3.67], ['school', 4.671, 6.874]], 'cJOyCgIKyeA': [['past', 0.0, 1.068]], 'zqfcp6NRKpA': [['germany', 0.0, 1.201]], '7y5Ye-2-ZBs': [['like', 0.0, 1.735]], 'rYW7VFPi9_w': [['portugal', 0.0, 1.468]], '0Beq_NIDj2c': [['yellow', 0.334, 2.002], ['yellow', 3.003, 5.339]], 'AoQAPgEUIAs': [['again', 0.0, 3.9]], '25BrmaKbzYo': [['football', 0.0, 3.871]]}\n",
      "{'9FdHlMOnVjg': [['laugh', 0.0, 1.034]], '1AyT77LqJzQ': [['school', 1.101, 3.67], ['school', 4.671, 6.874]], 'cJOyCgIKyeA': [['past', 0.0, 1.068]], 'zqfcp6NRKpA': [['germany', 0.0, 1.201]], '7y5Ye-2-ZBs': [['like', 0.0, 1.735]], 'rYW7VFPi9_w': [['portugal', 0.0, 1.468]], '0Beq_NIDj2c': [['yellow', 0.334, 2.002], ['yellow', 3.003, 5.339]], 'AoQAPgEUIAs': [['again', 0.0, 3.9]], '25BrmaKbzYo': [['football', 0.0, 3.871]]}\n",
      "{'9FdHlMOnVjg': [['laugh', 0.0, 1.034]], '1AyT77LqJzQ': [['school', 1.101, 3.67], ['school', 4.671, 6.874]], 'cJOyCgIKyeA': [['past', 0.0, 1.068]], 'zqfcp6NRKpA': [['germany', 0.0, 1.201]], '7y5Ye-2-ZBs': [['like', 0.0, 1.735]], 'rYW7VFPi9_w': [['portugal', 0.0, 1.468]], '0Beq_NIDj2c': [['yellow', 0.334, 2.002], ['yellow', 3.003, 5.339]], 'AoQAPgEUIAs': [['again', 0.0, 3.9]], '25BrmaKbzYo': [['football', 0.0, 3.871]]}\n",
      "{'9FdHlMOnVjg': [['laugh', 0.0, 1.034]], '1AyT77LqJzQ': [['school', 1.101, 3.67], ['school', 4.671, 6.874]], 'cJOyCgIKyeA': [['past', 0.0, 1.068]], 'zqfcp6NRKpA': [['germany', 0.0, 1.201]], '7y5Ye-2-ZBs': [['like', 0.0, 1.735]], 'rYW7VFPi9_w': [['portugal', 0.0, 1.468]], '0Beq_NIDj2c': [['yellow', 0.334, 2.002], ['yellow', 3.003, 5.339]], 'AoQAPgEUIAs': [['again', 0.0, 3.9]], '25BrmaKbzYo': [['football', 0.0, 3.871]]}\n",
      "{'9FdHlMOnVjg': [['laugh', 0.0, 1.034]], '1AyT77LqJzQ': [['school', 1.101, 3.67], ['school', 4.671, 6.874]], 'cJOyCgIKyeA': [['past', 0.0, 1.068]], 'zqfcp6NRKpA': [['germany', 0.0, 1.201]], '7y5Ye-2-ZBs': [['like', 0.0, 1.735]], 'rYW7VFPi9_w': [['portugal', 0.0, 1.468]], '0Beq_NIDj2c': [['yellow', 0.334, 2.002], ['yellow', 3.003, 5.339]], 'AoQAPgEUIAs': [['again', 0.0, 3.9]], '25BrmaKbzYo': [['football', 0.0, 3.871]]}\n",
      "{'9FdHlMOnVjg': [['laugh', 0.0, 1.034]], '1AyT77LqJzQ': [['school', 1.101, 3.67], ['school', 4.671, 6.874]], 'cJOyCgIKyeA': [['past', 0.0, 1.068]], 'zqfcp6NRKpA': [['germany', 0.0, 1.201]], '7y5Ye-2-ZBs': [['like', 0.0, 1.735]], 'rYW7VFPi9_w': [['portugal', 0.0, 1.468]], '0Beq_NIDj2c': [['yellow', 0.334, 2.002], ['yellow', 3.003, 5.339]], 'AoQAPgEUIAs': [['again', 0.0, 3.9]], '25BrmaKbzYo': [['football', 0.0, 3.871]]}\n",
      "{'9FdHlMOnVjg': [['laugh', 0.0, 1.034]], '1AyT77LqJzQ': [['school', 1.101, 3.67], ['school', 4.671, 6.874]], 'cJOyCgIKyeA': [['past', 0.0, 1.068]], 'zqfcp6NRKpA': [['germany', 0.0, 1.201]], '7y5Ye-2-ZBs': [['like', 0.0, 1.735]], 'rYW7VFPi9_w': [['portugal', 0.0, 1.468]], '0Beq_NIDj2c': [['yellow', 0.334, 2.002], ['yellow', 3.003, 5.339]], 'AoQAPgEUIAs': [['again', 0.0, 3.9]], '25BrmaKbzYo': [['football', 0.0, 3.871]]}\n",
      "{'9FdHlMOnVjg': [['laugh', 0.0, 1.034]], '1AyT77LqJzQ': [['school', 1.101, 3.67], ['school', 4.671, 6.874]], 'cJOyCgIKyeA': [['past', 0.0, 1.068]], 'zqfcp6NRKpA': [['germany', 0.0, 1.201]], '7y5Ye-2-ZBs': [['like', 0.0, 1.735]], 'rYW7VFPi9_w': [['portugal', 0.0, 1.468]], '0Beq_NIDj2c': [['yellow', 0.334, 2.002], ['yellow', 3.003, 5.339]], 'AoQAPgEUIAs': [['again', 0.0, 3.9]], '25BrmaKbzYo': [['football', 0.0, 3.871]]}\n",
      "{'9FdHlMOnVjg': [['laugh', 0.0, 1.034]], '1AyT77LqJzQ': [['school', 1.101, 3.67], ['school', 4.671, 6.874]], 'cJOyCgIKyeA': [['past', 0.0, 1.068]], 'zqfcp6NRKpA': [['germany', 0.0, 1.201]], '7y5Ye-2-ZBs': [['like', 0.0, 1.735]], 'rYW7VFPi9_w': [['portugal', 0.0, 1.468]], '0Beq_NIDj2c': [['yellow', 0.334, 2.002], ['yellow', 3.003, 5.339]], 'AoQAPgEUIAs': [['again', 0.0, 3.9]], '25BrmaKbzYo': [['football', 0.0, 3.871]]}\n",
      "{'9FdHlMOnVjg': [['laugh', 0.0, 1.034]], '1AyT77LqJzQ': [['school', 1.101, 3.67], ['school', 4.671, 6.874]], 'cJOyCgIKyeA': [['past', 0.0, 1.068]], 'zqfcp6NRKpA': [['germany', 0.0, 1.201]], '7y5Ye-2-ZBs': [['like', 0.0, 1.735]], 'rYW7VFPi9_w': [['portugal', 0.0, 1.468]], '0Beq_NIDj2c': [['yellow', 0.334, 2.002], ['yellow', 3.003, 5.339]], 'AoQAPgEUIAs': [['again', 0.0, 3.9]], '25BrmaKbzYo': [['football', 0.0, 3.871]]}\n",
      "{'9FdHlMOnVjg': [['laugh', 0.0, 1.034]], '1AyT77LqJzQ': [['school', 1.101, 3.67], ['school', 4.671, 6.874]], 'cJOyCgIKyeA': [['past', 0.0, 1.068]], 'zqfcp6NRKpA': [['germany', 0.0, 1.201]], '7y5Ye-2-ZBs': [['like', 0.0, 1.735]], 'rYW7VFPi9_w': [['portugal', 0.0, 1.468]], '0Beq_NIDj2c': [['yellow', 0.334, 2.002], ['yellow', 3.003, 5.339]], 'AoQAPgEUIAs': [['again', 0.0, 3.9]], '25BrmaKbzYo': [['football', 0.0, 3.871]]}\n",
      "{'9FdHlMOnVjg': [['laugh', 0.0, 1.034]], '1AyT77LqJzQ': [['school', 1.101, 3.67], ['school', 4.671, 6.874]], 'cJOyCgIKyeA': [['past', 0.0, 1.068]], 'zqfcp6NRKpA': [['germany', 0.0, 1.201]], '7y5Ye-2-ZBs': [['like', 0.0, 1.735]], 'rYW7VFPi9_w': [['portugal', 0.0, 1.468]], '0Beq_NIDj2c': [['yellow', 0.334, 2.002], ['yellow', 3.003, 5.339]], 'AoQAPgEUIAs': [['again', 0.0, 3.9]], '25BrmaKbzYo': [['football', 0.0, 3.871]]}\n",
      "{'9FdHlMOnVjg': [['laugh', 0.0, 1.034]], '1AyT77LqJzQ': [['school', 1.101, 3.67], ['school', 4.671, 6.874]], 'cJOyCgIKyeA': [['past', 0.0, 1.068]], 'zqfcp6NRKpA': [['germany', 0.0, 1.201]], '7y5Ye-2-ZBs': [['like', 0.0, 1.735]], 'rYW7VFPi9_w': [['portugal', 0.0, 1.468]], '0Beq_NIDj2c': [['yellow', 0.334, 2.002], ['yellow', 3.003, 5.339]], 'AoQAPgEUIAs': [['again', 0.0, 3.9]], '25BrmaKbzYo': [['football', 0.0, 3.871]]}\n",
      "{'9FdHlMOnVjg': [['laugh', 0.0, 1.034]], '1AyT77LqJzQ': [['school', 1.101, 3.67], ['school', 4.671, 6.874]], 'cJOyCgIKyeA': [['past', 0.0, 1.068]], 'zqfcp6NRKpA': [['germany', 0.0, 1.201]], '7y5Ye-2-ZBs': [['like', 0.0, 1.735]], 'rYW7VFPi9_w': [['portugal', 0.0, 1.468]], '0Beq_NIDj2c': [['yellow', 0.334, 2.002], ['yellow', 3.003, 5.339]], 'AoQAPgEUIAs': [['again', 0.0, 3.9]], '25BrmaKbzYo': [['football', 0.0, 3.871]]}\n",
      "{'9FdHlMOnVjg': [['laugh', 0.0, 1.034]], '1AyT77LqJzQ': [['school', 1.101, 3.67], ['school', 4.671, 6.874]], 'cJOyCgIKyeA': [['past', 0.0, 1.068]], 'zqfcp6NRKpA': [['germany', 0.0, 1.201]], '7y5Ye-2-ZBs': [['like', 0.0, 1.735]], 'rYW7VFPi9_w': [['portugal', 0.0, 1.468]], '0Beq_NIDj2c': [['yellow', 0.334, 2.002], ['yellow', 3.003, 5.339]], 'AoQAPgEUIAs': [['again', 0.0, 3.9]], '25BrmaKbzYo': [['football', 0.0, 3.871]]}\n",
      "{'9FdHlMOnVjg': [['laugh', 0.0, 1.034]], '1AyT77LqJzQ': [['school', 1.101, 3.67], ['school', 4.671, 6.874]], 'cJOyCgIKyeA': [['past', 0.0, 1.068]], 'zqfcp6NRKpA': [['germany', 0.0, 1.201]], '7y5Ye-2-ZBs': [['like', 0.0, 1.735]], 'rYW7VFPi9_w': [['portugal', 0.0, 1.468]], '0Beq_NIDj2c': [['yellow', 0.334, 2.002], ['yellow', 3.003, 5.339]], 'AoQAPgEUIAs': [['again', 0.0, 3.9]], '25BrmaKbzYo': [['football', 0.0, 3.871]]}\n",
      "{'9FdHlMOnVjg': [['laugh', 0.0, 1.034]], '1AyT77LqJzQ': [['school', 1.101, 3.67], ['school', 4.671, 6.874]], 'cJOyCgIKyeA': [['past', 0.0, 1.068]], 'zqfcp6NRKpA': [['germany', 0.0, 1.201]], '7y5Ye-2-ZBs': [['like', 0.0, 1.735]], 'rYW7VFPi9_w': [['portugal', 0.0, 1.468]], '0Beq_NIDj2c': [['yellow', 0.334, 2.002], ['yellow', 3.003, 5.339]], 'AoQAPgEUIAs': [['again', 0.0, 3.9]], '25BrmaKbzYo': [['football', 0.0, 3.871]]}\n",
      "{'9FdHlMOnVjg': [['laugh', 0.0, 1.034]], '1AyT77LqJzQ': [['school', 1.101, 3.67], ['school', 4.671, 6.874]], 'cJOyCgIKyeA': [['past', 0.0, 1.068]], 'zqfcp6NRKpA': [['germany', 0.0, 1.201]], '7y5Ye-2-ZBs': [['like', 0.0, 1.735]], 'rYW7VFPi9_w': [['portugal', 0.0, 1.468]], '0Beq_NIDj2c': [['yellow', 0.334, 2.002], ['yellow', 3.003, 5.339]], 'AoQAPgEUIAs': [['again', 0.0, 3.9]], '25BrmaKbzYo': [['football', 0.0, 3.871]]}\n",
      "{'9FdHlMOnVjg': [['laugh', 0.0, 1.034]], '1AyT77LqJzQ': [['school', 1.101, 3.67], ['school', 4.671, 6.874]], 'cJOyCgIKyeA': [['past', 0.0, 1.068]], 'zqfcp6NRKpA': [['germany', 0.0, 1.201]], '7y5Ye-2-ZBs': [['like', 0.0, 1.735]], 'rYW7VFPi9_w': [['portugal', 0.0, 1.468]], '0Beq_NIDj2c': [['yellow', 0.334, 2.002], ['yellow', 3.003, 5.339]], 'AoQAPgEUIAs': [['again', 0.0, 3.9]], '25BrmaKbzYo': [['football', 0.0, 3.871]]}\n",
      "{'9FdHlMOnVjg': [['laugh', 0.0, 1.034]], '1AyT77LqJzQ': [['school', 1.101, 3.67], ['school', 4.671, 6.874]], 'cJOyCgIKyeA': [['past', 0.0, 1.068]], 'zqfcp6NRKpA': [['germany', 0.0, 1.201]], '7y5Ye-2-ZBs': [['like', 0.0, 1.735]], 'rYW7VFPi9_w': [['portugal', 0.0, 1.468]], '0Beq_NIDj2c': [['yellow', 0.334, 2.002], ['yellow', 3.003, 5.339]], 'AoQAPgEUIAs': [['again', 0.0, 3.9]], '25BrmaKbzYo': [['football', 0.0, 3.871]]}\n",
      "{'9FdHlMOnVjg': [['laugh', 0.0, 1.034]], '1AyT77LqJzQ': [['school', 1.101, 3.67], ['school', 4.671, 6.874]], 'cJOyCgIKyeA': [['past', 0.0, 1.068]], 'zqfcp6NRKpA': [['germany', 0.0, 1.201]], '7y5Ye-2-ZBs': [['like', 0.0, 1.735]], 'rYW7VFPi9_w': [['portugal', 0.0, 1.468]], '0Beq_NIDj2c': [['yellow', 0.334, 2.002], ['yellow', 3.003, 5.339]], 'AoQAPgEUIAs': [['again', 0.0, 3.9]], '25BrmaKbzYo': [['football', 0.0, 3.871]]}\n",
      "{'9FdHlMOnVjg': [['laugh', 0.0, 1.034]], '1AyT77LqJzQ': [['school', 1.101, 3.67], ['school', 4.671, 6.874]], 'cJOyCgIKyeA': [['past', 0.0, 1.068]], 'zqfcp6NRKpA': [['germany', 0.0, 1.201]], '7y5Ye-2-ZBs': [['like', 0.0, 1.735]], 'rYW7VFPi9_w': [['portugal', 0.0, 1.468]], '0Beq_NIDj2c': [['yellow', 0.334, 2.002], ['yellow', 3.003, 5.339]], 'AoQAPgEUIAs': [['again', 0.0, 3.9]], '25BrmaKbzYo': [['football', 0.0, 3.871]]}\n",
      "{'9FdHlMOnVjg': [['laugh', 0.0, 1.034]], '1AyT77LqJzQ': [['school', 1.101, 3.67], ['school', 4.671, 6.874]], 'cJOyCgIKyeA': [['past', 0.0, 1.068]], 'zqfcp6NRKpA': [['germany', 0.0, 1.201]], '7y5Ye-2-ZBs': [['like', 0.0, 1.735]], 'rYW7VFPi9_w': [['portugal', 0.0, 1.468]], '0Beq_NIDj2c': [['yellow', 0.334, 2.002], ['yellow', 3.003, 5.339]], 'AoQAPgEUIAs': [['again', 0.0, 3.9]], '25BrmaKbzYo': [['football', 0.0, 3.871]]}\n",
      "{'9FdHlMOnVjg': [['laugh', 0.0, 1.034]], '1AyT77LqJzQ': [['school', 1.101, 3.67], ['school', 4.671, 6.874]], 'cJOyCgIKyeA': [['past', 0.0, 1.068]], 'zqfcp6NRKpA': [['germany', 0.0, 1.201]], '7y5Ye-2-ZBs': [['like', 0.0, 1.735]], 'rYW7VFPi9_w': [['portugal', 0.0, 1.468]], '0Beq_NIDj2c': [['yellow', 0.334, 2.002], ['yellow', 3.003, 5.339]], 'AoQAPgEUIAs': [['again', 0.0, 3.9]], '25BrmaKbzYo': [['football', 0.0, 3.871]]}\n",
      "{'9FdHlMOnVjg': [['laugh', 0.0, 1.034]], '1AyT77LqJzQ': [['school', 1.101, 3.67], ['school', 4.671, 6.874]], 'cJOyCgIKyeA': [['past', 0.0, 1.068]], 'zqfcp6NRKpA': [['germany', 0.0, 1.201]], '7y5Ye-2-ZBs': [['like', 0.0, 1.735]], 'rYW7VFPi9_w': [['portugal', 0.0, 1.468]], '0Beq_NIDj2c': [['yellow', 0.334, 2.002], ['yellow', 3.003, 5.339]], 'AoQAPgEUIAs': [['again', 0.0, 3.9]], '25BrmaKbzYo': [['football', 0.0, 3.871]]}\n",
      "{'9FdHlMOnVjg': [['laugh', 0.0, 1.034]], '1AyT77LqJzQ': [['school', 1.101, 3.67], ['school', 4.671, 6.874]], 'cJOyCgIKyeA': [['past', 0.0, 1.068]], 'zqfcp6NRKpA': [['germany', 0.0, 1.201]], '7y5Ye-2-ZBs': [['like', 0.0, 1.735]], 'rYW7VFPi9_w': [['portugal', 0.0, 1.468]], '0Beq_NIDj2c': [['yellow', 0.334, 2.002], ['yellow', 3.003, 5.339]], 'AoQAPgEUIAs': [['again', 0.0, 3.9]], '25BrmaKbzYo': [['football', 0.0, 3.871]]}\n",
      "{'9FdHlMOnVjg': [['laugh', 0.0, 1.034]], '1AyT77LqJzQ': [['school', 1.101, 3.67], ['school', 4.671, 6.874]], 'cJOyCgIKyeA': [['past', 0.0, 1.068]], 'zqfcp6NRKpA': [['germany', 0.0, 1.201]], '7y5Ye-2-ZBs': [['like', 0.0, 1.735]], 'rYW7VFPi9_w': [['portugal', 0.0, 1.468]], '0Beq_NIDj2c': [['yellow', 0.334, 2.002], ['yellow', 3.003, 5.339]], 'AoQAPgEUIAs': [['again', 0.0, 3.9]], '25BrmaKbzYo': [['football', 0.0, 3.871]]}\n",
      "{'9FdHlMOnVjg': [['laugh', 0.0, 1.034]], '1AyT77LqJzQ': [['school', 1.101, 3.67], ['school', 4.671, 6.874]], 'cJOyCgIKyeA': [['past', 0.0, 1.068]], 'zqfcp6NRKpA': [['germany', 0.0, 1.201]], '7y5Ye-2-ZBs': [['like', 0.0, 1.735]], 'rYW7VFPi9_w': [['portugal', 0.0, 1.468]], '0Beq_NIDj2c': [['yellow', 0.334, 2.002], ['yellow', 3.003, 5.339]], 'AoQAPgEUIAs': [['again', 0.0, 3.9]], '25BrmaKbzYo': [['football', 0.0, 3.871]]}\n",
      "33\n"
     ]
    }
   ],
   "source": [
    "from urllib.parse import urlparse, parse_qs\n",
    "\n",
    "fileLookup = {}\n",
    "toDownload = {}\n",
    "\n",
    "# for i in limitedDataset:\n",
    "#     for j in filenames:\n",
    "#         if any(string in filenames):\n",
    "#             print(string + \"is in\")\n",
    "#         else:\n",
    "#             print(string + \"is not in\")\n",
    "\n",
    "\n",
    "def query(url):\n",
    "    try:\n",
    "        parsed_url = urlparse(url)\n",
    "        query_params = parse_qs(parsed_url.query)\n",
    "        # print(query_params['v'])\n",
    "        # toDownload.append((query_params['v']))\n",
    "        return query_params['v']\n",
    "\n",
    "    except Exception as e:\n",
    "        print(e)\n",
    "        url = 'https://' + url\n",
    "        parsed_url = urlparse(url)\n",
    "        query_params = parse_qs(parsed_url.query)\n",
    "        return query_params['v']\n",
    "\n",
    "\n",
    "async def getVideoUrl():\n",
    "    for subarray in limitedDataset:\n",
    "        queriedLink = query(subarray[1])\n",
    "        # print('queriedLink ' + queriedLink[0])\n",
    "        if all([queriedLink[0] not in filenames]):\n",
    "            toDownload[queriedLink[0]] = []\n",
    "            print(toDownload)\n",
    "            # toDownload.append(subarray[1])\n",
    "\n",
    "\n",
    "async def getTimeStamps():\n",
    "    await getVideoUrl()\n",
    "    await loadFilenames()\n",
    "    \n",
    "    for subarray in limitedDataset:\n",
    "        queriedLink = query(subarray[1])\n",
    "        if all([queriedLink[0] not in filenames]):\n",
    "            print(queriedLink[0])\n",
    "            toDownload.get(queriedLink[0]).append(\n",
    "                [subarray[0], subarray[2], subarray[3]])\n",
    "            \n",
    "async def getAllVideoUrl():\n",
    "    for subarray in limitedDataset:\n",
    "        queriedLink = query(subarray[1])\n",
    "        # print('queriedLink ' + queriedLink[0])\n",
    "        if all([queriedLink[0] in filenames]):\n",
    "            fileLookup[queriedLink[0]] = []\n",
    "            print(toDownload)\n",
    "            # toDownload.append(subarray[1])\n",
    "\n",
    "\n",
    "async def getAllTimeStamps():\n",
    "    await loadFilenames()\n",
    "    await getAllVideoUrl()\n",
    "    \n",
    "    for subarray in limitedDataset:\n",
    "        queriedLink = query(subarray[1])\n",
    "        if all([queriedLink[0] in filenames]):\n",
    "            fileLookup.get(queriedLink[0]).append(\n",
    "                [subarray[0], subarray[2], subarray[3]])\n",
    "            \n",
    "            \n",
    "    print(len(fileLookup))\n",
    "\n",
    "\n",
    "asyncio.run(getTimeStamps())\n",
    "asyncio.run(getAllTimeStamps())\n",
    "\n",
    "# create a dictionary to store video url, then store id, start and end\n"
   ]
  },
  {
   "attachments": {},
   "cell_type": "markdown",
   "metadata": {},
   "source": [
    "# 3. Video Downloader\n",
    "\n",
    "### IMPORTANT\n",
    "- Set the 'num_worker_threads' accroding to the CPU your machine has. \n",
    "\n",
    "- Failure to set the appropriate thread might result in crashing.\n",
    "\n",
    "- If you're unsure how many threads your CPU has, go with\n",
    "num_worker_threads = 4\n",
    "\n",
    "- I was using R7 4800H with 16 supported threads, hence\n",
    "num_worker_threads = 16\n",
    "\n",
    "### Function\n",
    "\n",
    "- Downloads the video using pytube (with multithreading support, although I can't verify if it works or not, do let me know your feedback)\n",
    "- Some videos were privated. Privated or missing videos are skipped."
   ]
  },
  {
   "cell_type": "code",
   "execution_count": 34,
   "metadata": {},
   "outputs": [
    {
     "name": "stdout",
     "output_type": "stream",
     "text": [
      "https://www.youtube.com/watch?v=9FdHlMOnVjg\n",
      "9FdHlMOnVjg is a private video\n",
      "9FdHlMOnVjg is private\n",
      "https://www.youtube.com/watch?v=1AyT77LqJzQ\n",
      "1AyT77LqJzQ is unavailable\n",
      "1AyT77LqJzQ is private\n",
      "https://www.youtube.com/watch?v=cJOyCgIKyeA\n",
      "cJOyCgIKyeA is unavailable\n",
      "cJOyCgIKyeA is private\n",
      "https://www.youtube.com/watch?v=zqfcp6NRKpA\n",
      "zqfcp6NRKpA is a private video\n",
      "zqfcp6NRKpA is private\n",
      "https://www.youtube.com/watch?v=7y5Ye-2-ZBs\n",
      "7y5Ye-2-ZBs is a private video\n",
      "7y5Ye-2-ZBs is private\n",
      "https://www.youtube.com/watch?v=rYW7VFPi9_w\n",
      "rYW7VFPi9_w is a private video\n",
      "rYW7VFPi9_w is private\n",
      "https://www.youtube.com/watch?v=0Beq_NIDj2c\n",
      "0Beq_NIDj2c is unavailable\n",
      "0Beq_NIDj2c is private\n",
      "https://www.youtube.com/watch?v=AoQAPgEUIAs\n",
      "AoQAPgEUIAs is unavailable\n",
      "AoQAPgEUIAs is private\n",
      "https://www.youtube.com/watch?v=25BrmaKbzYo\n",
      "25BrmaKbzYo is a private video\n",
      "25BrmaKbzYo is private\n"
     ]
    }
   ],
   "source": [
    "from pytube import YouTube\n",
    "from pytube.exceptions import VideoPrivate\n",
    "from pytube.exceptions import VideoUnavailable\n",
    "from pytube.cli import on_progress\n",
    "from pytube import YouTube\n",
    "from queue import Queue\n",
    "from threading import Thread\n",
    "\n",
    "# IMPORTANT: Set the number of threads according to the CPU your machine has\n",
    "num_worker_threads = 4\n",
    "# num_worker_threads = 16\n",
    "\n",
    "def downloadVideo(file):\n",
    "    i = file\n",
    "    try:\n",
    "        path = dataset_path\n",
    "        url = 'https://www.youtube.com/watch?v=' + i\n",
    "        print(url)\n",
    "        yt = YouTube(url)\n",
    "        \n",
    "        stream = yt.streams.filter(file_extension='mp4').first()\n",
    "        \n",
    "\n",
    "    except VideoUnavailable as e:\n",
    "        print(e)\n",
    "        print(i + ' is private')\n",
    "        \n",
    "    except Exception as e:\n",
    "        print(e)\n",
    "\n",
    "    else:\n",
    "        if(stream != None):\n",
    "            stream.download(filename=i + \".mp4\", output_path=path)\n",
    "            print('downloading')\n",
    "\n",
    "# Multithreading\n",
    "def worker(q):\n",
    "    while True:\n",
    "        item = q.get()\n",
    "        if item is None:\n",
    "            break\n",
    "        # Your code to process the item here\n",
    "        q.task_done()\n",
    "\n",
    "\n",
    "q = Queue()\n",
    "threads = []\n",
    "for i in range(num_worker_threads):\n",
    "    t = Thread(target=worker, args=(q,))\n",
    "    t.start()\n",
    "    threads.append(t)\n",
    "\n",
    "# Your code to add items to the queue here\n",
    "for item in toDownload:\n",
    "    q.put(downloadVideo(item))\n",
    "    q.task_done()\n",
    "\n",
    "# Block until all tasks are done\n",
    "q.join()\n",
    "\n",
    "# Stop workers\n",
    "for i in range(num_worker_threads):\n",
    "    q.put(None)\n",
    "for t in threads:\n",
    "    t.join()\n"
   ]
  },
  {
   "attachments": {},
   "cell_type": "markdown",
   "metadata": {},
   "source": [
    "# 4. Video Trimming\n",
    "\n",
    "- Refers to json file for timestamps via youtube slug, then trims the raw videos in 'dataset_path' using moviepy. Output will be saved in 'trimmed_dataset_path'\n",
    "- Uses multithreading, with the number of workers set above previously.\n",
    "\n",
    "#### Voila!\n"
   ]
  },
  {
   "cell_type": "code",
   "execution_count": 46,
   "metadata": {},
   "outputs": [
    {
     "name": "stdout",
     "output_type": "stream",
     "text": [
      "5WevUel4BPk\n",
      "Moviepy - Building video trimmed-dataset/there.mp4.\n",
      "MoviePy - Writing audio in thereTEMP_MPY_wvf_snd.mp3\n"
     ]
    },
    {
     "name": "stderr",
     "output_type": "stream",
     "text": [
      "                                                        \r"
     ]
    },
    {
     "name": "stdout",
     "output_type": "stream",
     "text": [
      "MoviePy - Done.\n",
      "Moviepy - Writing video trimmed-dataset/there.mp4\n",
      "\n"
     ]
    },
    {
     "name": "stderr",
     "output_type": "stream",
     "text": [
      "                                                               \r"
     ]
    },
    {
     "name": "stdout",
     "output_type": "stream",
     "text": [
      "Moviepy - Done !\n",
      "Moviepy - video ready trimmed-dataset/there.mp4\n",
      "7G6B6kaMjb4\n",
      "Moviepy - Building video trimmed-dataset/give.mp4.\n",
      "MoviePy - Writing audio in giveTEMP_MPY_wvf_snd.mp3\n"
     ]
    },
    {
     "name": "stderr",
     "output_type": "stream",
     "text": [
      "                                                       \r"
     ]
    },
    {
     "name": "stdout",
     "output_type": "stream",
     "text": [
      "MoviePy - Done.\n",
      "Moviepy - Writing video trimmed-dataset/give.mp4\n",
      "\n"
     ]
    },
    {
     "name": "stderr",
     "output_type": "stream",
     "text": [
      "                                                   \r"
     ]
    },
    {
     "name": "stdout",
     "output_type": "stream",
     "text": [
      "Moviepy - Done !\n",
      "Moviepy - video ready trimmed-dataset/give.mp4\n",
      "Bn7j1v1ksl0\n",
      "Moviepy - Building video trimmed-dataset/meat.mp4.\n",
      "MoviePy - Writing audio in meatTEMP_MPY_wvf_snd.mp3\n"
     ]
    },
    {
     "name": "stderr",
     "output_type": "stream",
     "text": [
      "                                                       \r"
     ]
    },
    {
     "name": "stdout",
     "output_type": "stream",
     "text": [
      "MoviePy - Done.\n",
      "Moviepy - Writing video trimmed-dataset/meat.mp4\n",
      "\n"
     ]
    },
    {
     "name": "stderr",
     "output_type": "stream",
     "text": [
      "                                                             \r"
     ]
    },
    {
     "name": "stdout",
     "output_type": "stream",
     "text": [
      "Moviepy - Done !\n",
      "Moviepy - video ready trimmed-dataset/meat.mp4\n",
      "bUezx9Zp16E\n",
      "Moviepy - Building video trimmed-dataset/breakfast.mp4.\n",
      "MoviePy - Writing audio in breakfastTEMP_MPY_wvf_snd.mp3\n"
     ]
    },
    {
     "name": "stderr",
     "output_type": "stream",
     "text": [
      "                                                       \r"
     ]
    },
    {
     "name": "stdout",
     "output_type": "stream",
     "text": [
      "MoviePy - Done.\n",
      "Moviepy - Writing video trimmed-dataset/breakfast.mp4\n",
      "\n"
     ]
    },
    {
     "name": "stderr",
     "output_type": "stream",
     "text": [
      "                                                             \r"
     ]
    },
    {
     "name": "stdout",
     "output_type": "stream",
     "text": [
      "Moviepy - Done !\n",
      "Moviepy - video ready trimmed-dataset/breakfast.mp4\n",
      "C37R_Ix8-qs\n",
      "Moviepy - Building video trimmed-dataset/match.mp4.\n",
      "MoviePy - Writing audio in matchTEMP_MPY_wvf_snd.mp3\n"
     ]
    },
    {
     "name": "stderr",
     "output_type": "stream",
     "text": [
      "                                                       \r"
     ]
    },
    {
     "name": "stdout",
     "output_type": "stream",
     "text": [
      "MoviePy - Done.\n",
      "Moviepy - Writing video trimmed-dataset/match.mp4\n",
      "\n"
     ]
    },
    {
     "name": "stderr",
     "output_type": "stream",
     "text": [
      "                                                             \r"
     ]
    },
    {
     "name": "stdout",
     "output_type": "stream",
     "text": [
      "Moviepy - Done !\n",
      "Moviepy - video ready trimmed-dataset/match.mp4\n",
      "CYx7qm62Zwo\n",
      "Moviepy - Building video trimmed-dataset/boring.mp4.\n",
      "MoviePy - Writing audio in boringTEMP_MPY_wvf_snd.mp3\n"
     ]
    },
    {
     "name": "stderr",
     "output_type": "stream",
     "text": [
      "                                                       \r"
     ]
    },
    {
     "name": "stdout",
     "output_type": "stream",
     "text": [
      "MoviePy - Done.\n",
      "Moviepy - Writing video trimmed-dataset/boring.mp4\n",
      "\n"
     ]
    },
    {
     "name": "stderr",
     "output_type": "stream",
     "text": [
      "                                                             \r"
     ]
    },
    {
     "name": "stdout",
     "output_type": "stream",
     "text": [
      "Moviepy - Done !\n",
      "Moviepy - video ready trimmed-dataset/boring.mp4\n",
      "FL6MaUJmIkA\n",
      "Moviepy - Building video trimmed-dataset/fix.mp4.\n",
      "MoviePy - Writing audio in fixTEMP_MPY_wvf_snd.mp3\n"
     ]
    },
    {
     "name": "stderr",
     "output_type": "stream",
     "text": [
      "                                                       \r"
     ]
    },
    {
     "name": "stdout",
     "output_type": "stream",
     "text": [
      "MoviePy - Done.\n",
      "Moviepy - Writing video trimmed-dataset/fix.mp4\n",
      "\n"
     ]
    },
    {
     "name": "stderr",
     "output_type": "stream",
     "text": [
      "                                                             \r"
     ]
    },
    {
     "name": "stdout",
     "output_type": "stream",
     "text": [
      "Moviepy - Done !\n",
      "Moviepy - video ready trimmed-dataset/fix.mp4\n",
      "fQ58eciJmCY\n",
      "Moviepy - Building video trimmed-dataset/from.mp4.\n",
      "MoviePy - Writing audio in fromTEMP_MPY_wvf_snd.mp3\n"
     ]
    },
    {
     "name": "stderr",
     "output_type": "stream",
     "text": [
      "                                                       \r"
     ]
    },
    {
     "name": "stdout",
     "output_type": "stream",
     "text": [
      "MoviePy - Done.\n",
      "Moviepy - Writing video trimmed-dataset/from.mp4\n",
      "\n"
     ]
    },
    {
     "name": "stderr",
     "output_type": "stream",
     "text": [
      "                                                   "
     ]
    },
    {
     "name": "stdout",
     "output_type": "stream",
     "text": [
      "Moviepy - Done !\n"
     ]
    },
    {
     "name": "stderr",
     "output_type": "stream",
     "text": [
      "\r"
     ]
    },
    {
     "name": "stdout",
     "output_type": "stream",
     "text": [
      "Moviepy - video ready trimmed-dataset/from.mp4\n",
      "fv1nQoXRlsI\n",
      "Moviepy - Building video trimmed-dataset/every morning.mp4.\n",
      "MoviePy - Writing audio in every morningTEMP_MPY_wvf_snd.mp3\n"
     ]
    },
    {
     "name": "stderr",
     "output_type": "stream",
     "text": [
      "                                                       \r"
     ]
    },
    {
     "name": "stdout",
     "output_type": "stream",
     "text": [
      "MoviePy - Done.\n",
      "Moviepy - Writing video trimmed-dataset/every morning.mp4\n",
      "\n"
     ]
    },
    {
     "name": "stderr",
     "output_type": "stream",
     "text": [
      "                                                   \r"
     ]
    },
    {
     "name": "stdout",
     "output_type": "stream",
     "text": [
      "Moviepy - Done !\n",
      "Moviepy - video ready trimmed-dataset/every morning.mp4\n",
      "GYWm0gdybFA\n",
      "Moviepy - Building video trimmed-dataset/his.mp4.\n",
      "MoviePy - Writing audio in hisTEMP_MPY_wvf_snd.mp3\n"
     ]
    },
    {
     "name": "stderr",
     "output_type": "stream",
     "text": [
      "                                                       \r"
     ]
    },
    {
     "name": "stdout",
     "output_type": "stream",
     "text": [
      "MoviePy - Done.\n",
      "Moviepy - Writing video trimmed-dataset/his.mp4\n",
      "\n"
     ]
    },
    {
     "name": "stderr",
     "output_type": "stream",
     "text": [
      "                                                             \r"
     ]
    },
    {
     "name": "stdout",
     "output_type": "stream",
     "text": [
      "Moviepy - Done !\n",
      "Moviepy - video ready trimmed-dataset/his.mp4\n",
      "HPz_C5XM4o4\n",
      "Moviepy - Building video trimmed-dataset/phone.mp4.\n",
      "MoviePy - Writing audio in phoneTEMP_MPY_wvf_snd.mp3\n"
     ]
    },
    {
     "name": "stderr",
     "output_type": "stream",
     "text": [
      "                                                       \r"
     ]
    },
    {
     "name": "stdout",
     "output_type": "stream",
     "text": [
      "MoviePy - Done.\n",
      "Moviepy - Writing video trimmed-dataset/phone.mp4\n",
      "\n"
     ]
    },
    {
     "name": "stderr",
     "output_type": "stream",
     "text": [
      "                                                   \r"
     ]
    },
    {
     "name": "stdout",
     "output_type": "stream",
     "text": [
      "Moviepy - Done !\n",
      "Moviepy - video ready trimmed-dataset/phone.mp4\n",
      "Moviepy - Building video trimmed-dataset/phone.mp4.\n",
      "MoviePy - Writing audio in phoneTEMP_MPY_wvf_snd.mp3\n"
     ]
    },
    {
     "name": "stderr",
     "output_type": "stream",
     "text": [
      "                                                       \r"
     ]
    },
    {
     "name": "stdout",
     "output_type": "stream",
     "text": [
      "MoviePy - Done.\n",
      "Moviepy - Writing video trimmed-dataset/phone.mp4\n",
      "\n"
     ]
    },
    {
     "name": "stderr",
     "output_type": "stream",
     "text": [
      "                                                   \r"
     ]
    },
    {
     "name": "stdout",
     "output_type": "stream",
     "text": [
      "Moviepy - Done !\n",
      "Moviepy - video ready trimmed-dataset/phone.mp4\n",
      "Moviepy - Building video trimmed-dataset/phone.mp4.\n",
      "MoviePy - Writing audio in phoneTEMP_MPY_wvf_snd.mp3\n"
     ]
    },
    {
     "name": "stderr",
     "output_type": "stream",
     "text": [
      "                                                       \r"
     ]
    },
    {
     "name": "stdout",
     "output_type": "stream",
     "text": [
      "MoviePy - Done.\n",
      "Moviepy - Writing video trimmed-dataset/phone.mp4\n",
      "\n"
     ]
    },
    {
     "name": "stderr",
     "output_type": "stream",
     "text": [
      "                                                             \r"
     ]
    },
    {
     "name": "stdout",
     "output_type": "stream",
     "text": [
      "Moviepy - Done !\n",
      "Moviepy - video ready trimmed-dataset/phone.mp4\n",
      "htsdwxJ-fTo\n",
      "Moviepy - Building video trimmed-dataset/mother.mp4.\n",
      "MoviePy - Writing audio in motherTEMP_MPY_wvf_snd.mp3\n"
     ]
    },
    {
     "name": "stderr",
     "output_type": "stream",
     "text": [
      "                                                       \r"
     ]
    },
    {
     "name": "stdout",
     "output_type": "stream",
     "text": [
      "MoviePy - Done.\n",
      "Moviepy - Writing video trimmed-dataset/mother.mp4\n",
      "\n"
     ]
    },
    {
     "name": "stderr",
     "output_type": "stream",
     "text": [
      "                                                   \r"
     ]
    },
    {
     "name": "stdout",
     "output_type": "stream",
     "text": [
      "Moviepy - Done !\n",
      "Moviepy - video ready trimmed-dataset/mother.mp4\n",
      "Moviepy - Building video trimmed-dataset/father.mp4.\n",
      "MoviePy - Writing audio in fatherTEMP_MPY_wvf_snd.mp3\n"
     ]
    },
    {
     "name": "stderr",
     "output_type": "stream",
     "text": [
      "                                                       \r"
     ]
    },
    {
     "name": "stdout",
     "output_type": "stream",
     "text": [
      "MoviePy - Done.\n",
      "Moviepy - Writing video trimmed-dataset/father.mp4\n",
      "\n"
     ]
    },
    {
     "name": "stderr",
     "output_type": "stream",
     "text": [
      "                                                             \r"
     ]
    },
    {
     "name": "stdout",
     "output_type": "stream",
     "text": [
      "Moviepy - Done !\n",
      "Moviepy - video ready trimmed-dataset/father.mp4\n",
      "Moviepy - Building video trimmed-dataset/milk.mp4.\n",
      "MoviePy - Writing audio in milkTEMP_MPY_wvf_snd.mp3\n"
     ]
    },
    {
     "name": "stderr",
     "output_type": "stream",
     "text": [
      "                                                       \r"
     ]
    },
    {
     "name": "stdout",
     "output_type": "stream",
     "text": [
      "MoviePy - Done.\n",
      "Moviepy - Writing video trimmed-dataset/milk.mp4\n",
      "\n"
     ]
    },
    {
     "name": "stderr",
     "output_type": "stream",
     "text": [
      "                                                             \r"
     ]
    },
    {
     "name": "stdout",
     "output_type": "stream",
     "text": [
      "Moviepy - Done !\n",
      "Moviepy - video ready trimmed-dataset/milk.mp4\n",
      "Moviepy - Building video trimmed-dataset/eat.mp4.\n",
      "MoviePy - Writing audio in eatTEMP_MPY_wvf_snd.mp3\n"
     ]
    },
    {
     "name": "stderr",
     "output_type": "stream",
     "text": [
      "                                                       \r"
     ]
    },
    {
     "name": "stdout",
     "output_type": "stream",
     "text": [
      "MoviePy - Done.\n",
      "Moviepy - Writing video trimmed-dataset/eat.mp4\n",
      "\n"
     ]
    },
    {
     "name": "stderr",
     "output_type": "stream",
     "text": [
      "                                                             \r"
     ]
    },
    {
     "name": "stdout",
     "output_type": "stream",
     "text": [
      "Moviepy - Done !\n",
      "Moviepy - video ready trimmed-dataset/eat.mp4\n",
      "Moviepy - Building video trimmed-dataset/drink.mp4.\n",
      "MoviePy - Writing audio in drinkTEMP_MPY_wvf_snd.mp3\n"
     ]
    },
    {
     "name": "stderr",
     "output_type": "stream",
     "text": [
      "                                                       \r"
     ]
    },
    {
     "name": "stdout",
     "output_type": "stream",
     "text": [
      "MoviePy - Done.\n",
      "Moviepy - Writing video trimmed-dataset/drink.mp4\n",
      "\n"
     ]
    },
    {
     "name": "stderr",
     "output_type": "stream",
     "text": [
      "                                                   \r"
     ]
    },
    {
     "name": "stdout",
     "output_type": "stream",
     "text": [
      "Moviepy - Done !\n",
      "Moviepy - video ready trimmed-dataset/drink.mp4\n",
      "Moviepy - Building video trimmed-dataset/hot.mp4.\n",
      "MoviePy - Writing audio in hotTEMP_MPY_wvf_snd.mp3\n"
     ]
    },
    {
     "name": "stderr",
     "output_type": "stream",
     "text": [
      "                                                       \r"
     ]
    },
    {
     "name": "stdout",
     "output_type": "stream",
     "text": [
      "MoviePy - Done.\n",
      "Moviepy - Writing video trimmed-dataset/hot.mp4\n",
      "\n"
     ]
    },
    {
     "name": "stderr",
     "output_type": "stream",
     "text": [
      "                                                             \r"
     ]
    },
    {
     "name": "stdout",
     "output_type": "stream",
     "text": [
      "Moviepy - Done !\n",
      "Moviepy - video ready trimmed-dataset/hot.mp4\n",
      "Moviepy - Building video trimmed-dataset/cold.mp4.\n",
      "MoviePy - Writing audio in coldTEMP_MPY_wvf_snd.mp3\n"
     ]
    },
    {
     "name": "stderr",
     "output_type": "stream",
     "text": [
      "                                                       \r"
     ]
    },
    {
     "name": "stdout",
     "output_type": "stream",
     "text": [
      "MoviePy - Done.\n",
      "Moviepy - Writing video trimmed-dataset/cold.mp4\n",
      "\n"
     ]
    },
    {
     "name": "stderr",
     "output_type": "stream",
     "text": [
      "                                                             \r"
     ]
    },
    {
     "name": "stdout",
     "output_type": "stream",
     "text": [
      "Moviepy - Done !\n",
      "Moviepy - video ready trimmed-dataset/cold.mp4\n",
      "Moviepy - Building video trimmed-dataset/more.mp4.\n",
      "MoviePy - Writing audio in moreTEMP_MPY_wvf_snd.mp3\n"
     ]
    },
    {
     "name": "stderr",
     "output_type": "stream",
     "text": [
      "                                                       \r"
     ]
    },
    {
     "name": "stdout",
     "output_type": "stream",
     "text": [
      "MoviePy - Done.\n",
      "Moviepy - Writing video trimmed-dataset/more.mp4\n",
      "\n"
     ]
    },
    {
     "name": "stderr",
     "output_type": "stream",
     "text": [
      "                                                             \r"
     ]
    },
    {
     "name": "stdout",
     "output_type": "stream",
     "text": [
      "Moviepy - Done !\n",
      "Moviepy - video ready trimmed-dataset/more.mp4\n",
      "Moviepy - Building video trimmed-dataset/help.mp4.\n",
      "MoviePy - Writing audio in helpTEMP_MPY_wvf_snd.mp3\n"
     ]
    },
    {
     "name": "stderr",
     "output_type": "stream",
     "text": [
      "                                                       \r"
     ]
    },
    {
     "name": "stdout",
     "output_type": "stream",
     "text": [
      "MoviePy - Done.\n",
      "Moviepy - Writing video trimmed-dataset/help.mp4\n",
      "\n"
     ]
    },
    {
     "name": "stderr",
     "output_type": "stream",
     "text": [
      "                                                             \r"
     ]
    },
    {
     "name": "stdout",
     "output_type": "stream",
     "text": [
      "Moviepy - Done !\n",
      "Moviepy - video ready trimmed-dataset/help.mp4\n",
      "Moviepy - Building video trimmed-dataset/clothes.mp4.\n",
      "MoviePy - Writing audio in clothesTEMP_MPY_wvf_snd.mp3\n"
     ]
    },
    {
     "name": "stderr",
     "output_type": "stream",
     "text": [
      "                                                       \r"
     ]
    },
    {
     "name": "stdout",
     "output_type": "stream",
     "text": [
      "MoviePy - Done.\n",
      "Moviepy - Writing video trimmed-dataset/clothes.mp4\n",
      "\n"
     ]
    },
    {
     "name": "stderr",
     "output_type": "stream",
     "text": [
      "                                                             \r"
     ]
    },
    {
     "name": "stdout",
     "output_type": "stream",
     "text": [
      "Moviepy - Done !\n",
      "Moviepy - video ready trimmed-dataset/clothes.mp4\n",
      "Moviepy - Building video trimmed-dataset/you.mp4.\n",
      "MoviePy - Writing audio in youTEMP_MPY_wvf_snd.mp3\n"
     ]
    },
    {
     "name": "stderr",
     "output_type": "stream",
     "text": [
      "                                                       \r"
     ]
    },
    {
     "name": "stdout",
     "output_type": "stream",
     "text": [
      "MoviePy - Done.\n",
      "Moviepy - Writing video trimmed-dataset/you.mp4\n",
      "\n"
     ]
    },
    {
     "name": "stderr",
     "output_type": "stream",
     "text": [
      "                                                   \r"
     ]
    },
    {
     "name": "stdout",
     "output_type": "stream",
     "text": [
      "Moviepy - Done !\n",
      "Moviepy - video ready trimmed-dataset/you.mp4\n",
      "Moviepy - Building video trimmed-dataset/your.mp4.\n",
      "MoviePy - Writing audio in yourTEMP_MPY_wvf_snd.mp3\n"
     ]
    },
    {
     "name": "stderr",
     "output_type": "stream",
     "text": [
      "                                                       \r"
     ]
    },
    {
     "name": "stdout",
     "output_type": "stream",
     "text": [
      "MoviePy - Done.\n",
      "Moviepy - Writing video trimmed-dataset/your.mp4\n",
      "\n"
     ]
    },
    {
     "name": "stderr",
     "output_type": "stream",
     "text": [
      "                                                             \r"
     ]
    },
    {
     "name": "stdout",
     "output_type": "stream",
     "text": [
      "Moviepy - Done !\n",
      "Moviepy - video ready trimmed-dataset/your.mp4\n",
      "Moviepy - Building video trimmed-dataset/down.mp4.\n",
      "MoviePy - Writing audio in downTEMP_MPY_wvf_snd.mp3\n"
     ]
    },
    {
     "name": "stderr",
     "output_type": "stream",
     "text": [
      "                                                                 \r"
     ]
    },
    {
     "name": "stdout",
     "output_type": "stream",
     "text": [
      "MoviePy - Done.\n",
      "Moviepy - Writing video trimmed-dataset/down.mp4\n",
      "\n"
     ]
    },
    {
     "name": "stderr",
     "output_type": "stream",
     "text": [
      "                                                             \r"
     ]
    },
    {
     "name": "stdout",
     "output_type": "stream",
     "text": [
      "Moviepy - Done !\n",
      "Moviepy - video ready trimmed-dataset/down.mp4\n",
      "Moviepy - Building video trimmed-dataset/hurt.mp4.\n",
      "MoviePy - Writing audio in hurtTEMP_MPY_wvf_snd.mp3\n"
     ]
    },
    {
     "name": "stderr",
     "output_type": "stream",
     "text": [
      "                                                                 \r"
     ]
    },
    {
     "name": "stdout",
     "output_type": "stream",
     "text": [
      "MoviePy - Done.\n",
      "Moviepy - Writing video trimmed-dataset/hurt.mp4\n",
      "\n"
     ]
    },
    {
     "name": "stderr",
     "output_type": "stream",
     "text": [
      "                                                             \r"
     ]
    },
    {
     "name": "stdout",
     "output_type": "stream",
     "text": [
      "Moviepy - Done !\n",
      "Moviepy - video ready trimmed-dataset/hurt.mp4\n",
      "Moviepy - Building video trimmed-dataset/again.mp4.\n",
      "MoviePy - Writing audio in againTEMP_MPY_wvf_snd.mp3\n"
     ]
    },
    {
     "name": "stderr",
     "output_type": "stream",
     "text": [
      "                                                       \r"
     ]
    },
    {
     "name": "stdout",
     "output_type": "stream",
     "text": [
      "MoviePy - Done.\n",
      "Moviepy - Writing video trimmed-dataset/again.mp4\n",
      "\n"
     ]
    },
    {
     "name": "stderr",
     "output_type": "stream",
     "text": [
      "                                                             \r"
     ]
    },
    {
     "name": "stdout",
     "output_type": "stream",
     "text": [
      "Moviepy - Done !\n",
      "Moviepy - video ready trimmed-dataset/again.mp4\n",
      "Moviepy - Building video trimmed-dataset/want.mp4.\n",
      "MoviePy - Writing audio in wantTEMP_MPY_wvf_snd.mp3\n"
     ]
    },
    {
     "name": "stderr",
     "output_type": "stream",
     "text": [
      "                                                       \r"
     ]
    },
    {
     "name": "stdout",
     "output_type": "stream",
     "text": [
      "MoviePy - Done.\n",
      "Moviepy - Writing video trimmed-dataset/want.mp4\n",
      "\n"
     ]
    },
    {
     "name": "stderr",
     "output_type": "stream",
     "text": [
      "                                                             \r"
     ]
    },
    {
     "name": "stdout",
     "output_type": "stream",
     "text": [
      "Moviepy - Done !\n",
      "Moviepy - video ready trimmed-dataset/want.mp4\n",
      "Moviepy - Building video trimmed-dataset/like.mp4.\n",
      "MoviePy - Writing audio in likeTEMP_MPY_wvf_snd.mp3\n"
     ]
    },
    {
     "name": "stderr",
     "output_type": "stream",
     "text": [
      "                                                       \r"
     ]
    },
    {
     "name": "stdout",
     "output_type": "stream",
     "text": [
      "MoviePy - Done.\n",
      "Moviepy - Writing video trimmed-dataset/like.mp4\n",
      "\n"
     ]
    },
    {
     "name": "stderr",
     "output_type": "stream",
     "text": [
      "                                                             \r"
     ]
    },
    {
     "name": "stdout",
     "output_type": "stream",
     "text": [
      "Moviepy - Done !\n",
      "Moviepy - video ready trimmed-dataset/like.mp4\n",
      "Moviepy - Building video trimmed-dataset/not like.mp4.\n",
      "MoviePy - Writing audio in not likeTEMP_MPY_wvf_snd.mp3\n"
     ]
    },
    {
     "name": "stderr",
     "output_type": "stream",
     "text": [
      "                                                                 \r"
     ]
    },
    {
     "name": "stdout",
     "output_type": "stream",
     "text": [
      "MoviePy - Done.\n",
      "Moviepy - Writing video trimmed-dataset/not like.mp4\n",
      "\n"
     ]
    },
    {
     "name": "stderr",
     "output_type": "stream",
     "text": [
      "                                                             \r"
     ]
    },
    {
     "name": "stdout",
     "output_type": "stream",
     "text": [
      "Moviepy - Done !\n",
      "Moviepy - video ready trimmed-dataset/not like.mp4\n",
      "Moviepy - Building video trimmed-dataset/mad.mp4.\n",
      "MoviePy - Writing audio in madTEMP_MPY_wvf_snd.mp3\n"
     ]
    },
    {
     "name": "stderr",
     "output_type": "stream",
     "text": [
      "                                                       \r"
     ]
    },
    {
     "name": "stdout",
     "output_type": "stream",
     "text": [
      "MoviePy - Done.\n",
      "Moviepy - Writing video trimmed-dataset/mad.mp4\n",
      "\n"
     ]
    },
    {
     "name": "stderr",
     "output_type": "stream",
     "text": [
      "                                                             \r"
     ]
    },
    {
     "name": "stdout",
     "output_type": "stream",
     "text": [
      "Moviepy - Done !\n",
      "Moviepy - video ready trimmed-dataset/mad.mp4\n",
      "Moviepy - Building video trimmed-dataset/funny.mp4.\n",
      "MoviePy - Writing audio in funnyTEMP_MPY_wvf_snd.mp3\n"
     ]
    },
    {
     "name": "stderr",
     "output_type": "stream",
     "text": [
      "                                                                 \r"
     ]
    },
    {
     "name": "stdout",
     "output_type": "stream",
     "text": [
      "MoviePy - Done.\n",
      "Moviepy - Writing video trimmed-dataset/funny.mp4\n",
      "\n"
     ]
    },
    {
     "name": "stderr",
     "output_type": "stream",
     "text": [
      "                                                             \r"
     ]
    },
    {
     "name": "stdout",
     "output_type": "stream",
     "text": [
      "Moviepy - Done !\n",
      "Moviepy - video ready trimmed-dataset/funny.mp4\n",
      "Moviepy - Building video trimmed-dataset/silly.mp4.\n",
      "MoviePy - Writing audio in sillyTEMP_MPY_wvf_snd.mp3\n"
     ]
    },
    {
     "name": "stderr",
     "output_type": "stream",
     "text": [
      "                                                       \r"
     ]
    },
    {
     "name": "stdout",
     "output_type": "stream",
     "text": [
      "MoviePy - Done.\n",
      "Moviepy - Writing video trimmed-dataset/silly.mp4\n",
      "\n"
     ]
    },
    {
     "name": "stderr",
     "output_type": "stream",
     "text": [
      "                                                             \r"
     ]
    },
    {
     "name": "stdout",
     "output_type": "stream",
     "text": [
      "Moviepy - Done !\n",
      "Moviepy - video ready trimmed-dataset/silly.mp4\n",
      "Moviepy - Building video trimmed-dataset/sad.mp4.\n",
      "MoviePy - Writing audio in sadTEMP_MPY_wvf_snd.mp3\n"
     ]
    },
    {
     "name": "stderr",
     "output_type": "stream",
     "text": [
      "                                                       \r"
     ]
    },
    {
     "name": "stdout",
     "output_type": "stream",
     "text": [
      "MoviePy - Done.\n",
      "Moviepy - Writing video trimmed-dataset/sad.mp4\n",
      "\n"
     ]
    },
    {
     "name": "stderr",
     "output_type": "stream",
     "text": [
      "                                                             \r"
     ]
    },
    {
     "name": "stdout",
     "output_type": "stream",
     "text": [
      "Moviepy - Done !\n",
      "Moviepy - video ready trimmed-dataset/sad.mp4\n",
      "Moviepy - Building video trimmed-dataset/hungry.mp4.\n",
      "MoviePy - Writing audio in hungryTEMP_MPY_wvf_snd.mp3\n"
     ]
    },
    {
     "name": "stderr",
     "output_type": "stream",
     "text": [
      "                                                       \r"
     ]
    },
    {
     "name": "stdout",
     "output_type": "stream",
     "text": [
      "MoviePy - Done.\n",
      "Moviepy - Writing video trimmed-dataset/hungry.mp4\n",
      "\n"
     ]
    },
    {
     "name": "stderr",
     "output_type": "stream",
     "text": [
      "                                                             \r"
     ]
    },
    {
     "name": "stdout",
     "output_type": "stream",
     "text": [
      "Moviepy - Done !\n",
      "Moviepy - video ready trimmed-dataset/hungry.mp4\n",
      "Moviepy - Building video trimmed-dataset/full.mp4.\n",
      "MoviePy - Writing audio in fullTEMP_MPY_wvf_snd.mp3\n"
     ]
    },
    {
     "name": "stderr",
     "output_type": "stream",
     "text": [
      "                                                                 \r"
     ]
    },
    {
     "name": "stdout",
     "output_type": "stream",
     "text": [
      "MoviePy - Done.\n",
      "Moviepy - Writing video trimmed-dataset/full.mp4\n",
      "\n"
     ]
    },
    {
     "name": "stderr",
     "output_type": "stream",
     "text": [
      "                                                             \r"
     ]
    },
    {
     "name": "stdout",
     "output_type": "stream",
     "text": [
      "Moviepy - Done !\n",
      "Moviepy - video ready trimmed-dataset/full.mp4\n",
      "Moviepy - Building video trimmed-dataset/tired.mp4.\n",
      "MoviePy - Writing audio in tiredTEMP_MPY_wvf_snd.mp3\n"
     ]
    },
    {
     "name": "stderr",
     "output_type": "stream",
     "text": [
      "                                                       \r"
     ]
    },
    {
     "name": "stdout",
     "output_type": "stream",
     "text": [
      "MoviePy - Done.\n",
      "Moviepy - Writing video trimmed-dataset/tired.mp4\n",
      "\n"
     ]
    },
    {
     "name": "stderr",
     "output_type": "stream",
     "text": [
      "                                                             \r"
     ]
    },
    {
     "name": "stdout",
     "output_type": "stream",
     "text": [
      "Moviepy - Done !\n",
      "Moviepy - video ready trimmed-dataset/tired.mp4\n",
      "Moviepy - Building video trimmed-dataset/where.mp4.\n",
      "MoviePy - Writing audio in whereTEMP_MPY_wvf_snd.mp3\n"
     ]
    },
    {
     "name": "stderr",
     "output_type": "stream",
     "text": [
      "                                                       \r"
     ]
    },
    {
     "name": "stdout",
     "output_type": "stream",
     "text": [
      "MoviePy - Done.\n",
      "Moviepy - Writing video trimmed-dataset/where.mp4\n",
      "\n"
     ]
    },
    {
     "name": "stderr",
     "output_type": "stream",
     "text": [
      "                                                             \r"
     ]
    },
    {
     "name": "stdout",
     "output_type": "stream",
     "text": [
      "Moviepy - Done !\n",
      "Moviepy - video ready trimmed-dataset/where.mp4\n",
      "Moviepy - Building video trimmed-dataset/book.mp4.\n",
      "MoviePy - Writing audio in bookTEMP_MPY_wvf_snd.mp3\n"
     ]
    },
    {
     "name": "stderr",
     "output_type": "stream",
     "text": [
      "                                                       \r"
     ]
    },
    {
     "name": "stdout",
     "output_type": "stream",
     "text": [
      "MoviePy - Done.\n",
      "Moviepy - Writing video trimmed-dataset/book.mp4\n",
      "\n"
     ]
    },
    {
     "name": "stderr",
     "output_type": "stream",
     "text": [
      "                                                             \r"
     ]
    },
    {
     "name": "stdout",
     "output_type": "stream",
     "text": [
      "Moviepy - Done !\n",
      "Moviepy - video ready trimmed-dataset/book.mp4\n",
      "Moviepy - Building video trimmed-dataset/dirty.mp4.\n",
      "MoviePy - Writing audio in dirtyTEMP_MPY_wvf_snd.mp3\n"
     ]
    },
    {
     "name": "stderr",
     "output_type": "stream",
     "text": [
      "                                                       \r"
     ]
    },
    {
     "name": "stdout",
     "output_type": "stream",
     "text": [
      "MoviePy - Done.\n",
      "Moviepy - Writing video trimmed-dataset/dirty.mp4\n",
      "\n"
     ]
    },
    {
     "name": "stderr",
     "output_type": "stream",
     "text": [
      "                                                             \r"
     ]
    },
    {
     "name": "stdout",
     "output_type": "stream",
     "text": [
      "Moviepy - Done !\n",
      "Moviepy - video ready trimmed-dataset/dirty.mp4\n",
      "Moviepy - Building video trimmed-dataset/play.mp4.\n",
      "MoviePy - Writing audio in playTEMP_MPY_wvf_snd.mp3\n"
     ]
    },
    {
     "name": "stderr",
     "output_type": "stream",
     "text": [
      "                                                                 \r"
     ]
    },
    {
     "name": "stdout",
     "output_type": "stream",
     "text": [
      "MoviePy - Done.\n",
      "Moviepy - Writing video trimmed-dataset/play.mp4\n",
      "\n"
     ]
    },
    {
     "name": "stderr",
     "output_type": "stream",
     "text": [
      "                                                             \r"
     ]
    },
    {
     "name": "stdout",
     "output_type": "stream",
     "text": [
      "Moviepy - Done !\n",
      "Moviepy - video ready trimmed-dataset/play.mp4\n",
      "Moviepy - Building video trimmed-dataset/outside.mp4.\n",
      "MoviePy - Writing audio in outsideTEMP_MPY_wvf_snd.mp3\n"
     ]
    },
    {
     "name": "stderr",
     "output_type": "stream",
     "text": [
      "                                                       \r"
     ]
    },
    {
     "name": "stdout",
     "output_type": "stream",
     "text": [
      "MoviePy - Done.\n",
      "Moviepy - Writing video trimmed-dataset/outside.mp4\n",
      "\n"
     ]
    },
    {
     "name": "stderr",
     "output_type": "stream",
     "text": [
      "                                                             \r"
     ]
    },
    {
     "name": "stdout",
     "output_type": "stream",
     "text": [
      "Moviepy - Done !\n",
      "Moviepy - video ready trimmed-dataset/outside.mp4\n",
      "Moviepy - Building video trimmed-dataset/home.mp4.\n",
      "MoviePy - Writing audio in homeTEMP_MPY_wvf_snd.mp3\n"
     ]
    },
    {
     "name": "stderr",
     "output_type": "stream",
     "text": [
      "                                                       \r"
     ]
    },
    {
     "name": "stdout",
     "output_type": "stream",
     "text": [
      "MoviePy - Done.\n",
      "Moviepy - Writing video trimmed-dataset/home.mp4\n",
      "\n"
     ]
    },
    {
     "name": "stderr",
     "output_type": "stream",
     "text": [
      "                                                             \r"
     ]
    },
    {
     "name": "stdout",
     "output_type": "stream",
     "text": [
      "Moviepy - Done !\n",
      "Moviepy - video ready trimmed-dataset/home.mp4\n",
      "I1o0fccwWSg\n",
      "Moviepy - Building video trimmed-dataset/next week.mp4.\n",
      "MoviePy - Writing audio in next weekTEMP_MPY_wvf_snd.mp3\n"
     ]
    },
    {
     "name": "stderr",
     "output_type": "stream",
     "text": [
      "                                                       \r"
     ]
    },
    {
     "name": "stdout",
     "output_type": "stream",
     "text": [
      "MoviePy - Done.\n",
      "Moviepy - Writing video trimmed-dataset/next week.mp4\n",
      "\n"
     ]
    },
    {
     "name": "stderr",
     "output_type": "stream",
     "text": [
      "                                                             \r"
     ]
    },
    {
     "name": "stdout",
     "output_type": "stream",
     "text": [
      "Moviepy - Done !\n",
      "Moviepy - video ready trimmed-dataset/next week.mp4\n",
      "IgT0jDp56ZM\n",
      "Moviepy - Building video trimmed-dataset/deaf.mp4.\n",
      "MoviePy - Writing audio in deafTEMP_MPY_wvf_snd.mp3\n"
     ]
    },
    {
     "name": "stderr",
     "output_type": "stream",
     "text": [
      "                                                                 \r"
     ]
    },
    {
     "name": "stdout",
     "output_type": "stream",
     "text": [
      "MoviePy - Done.\n",
      "Moviepy - Writing video trimmed-dataset/deaf.mp4\n",
      "\n"
     ]
    },
    {
     "name": "stderr",
     "output_type": "stream",
     "text": [
      "                                                             \r"
     ]
    },
    {
     "name": "stdout",
     "output_type": "stream",
     "text": [
      "Moviepy - Done !\n",
      "Moviepy - video ready trimmed-dataset/deaf.mp4\n",
      "iJuIO4n0-VU\n",
      "Moviepy - Building video trimmed-dataset/france.mp4.\n",
      "MoviePy - Writing audio in franceTEMP_MPY_wvf_snd.mp3\n"
     ]
    },
    {
     "name": "stderr",
     "output_type": "stream",
     "text": [
      "                                                       \r"
     ]
    },
    {
     "name": "stdout",
     "output_type": "stream",
     "text": [
      "MoviePy - Done.\n",
      "Moviepy - Writing video trimmed-dataset/france.mp4\n",
      "\n"
     ]
    },
    {
     "name": "stderr",
     "output_type": "stream",
     "text": [
      "                                                             \r"
     ]
    },
    {
     "name": "stdout",
     "output_type": "stream",
     "text": [
      "Moviepy - Done !\n",
      "Moviepy - video ready trimmed-dataset/france.mp4\n",
      "I_QDeKcyvns\n",
      "Moviepy - Building video trimmed-dataset/cochlear implant.mp4.\n",
      "MoviePy - Writing audio in cochlear implantTEMP_MPY_wvf_snd.mp3\n"
     ]
    },
    {
     "name": "stderr",
     "output_type": "stream",
     "text": [
      "                                                       \r"
     ]
    },
    {
     "name": "stdout",
     "output_type": "stream",
     "text": [
      "MoviePy - Done.\n",
      "Moviepy - Writing video trimmed-dataset/cochlear implant.mp4\n",
      "\n"
     ]
    },
    {
     "name": "stderr",
     "output_type": "stream",
     "text": [
      "                                                             \r"
     ]
    },
    {
     "name": "stdout",
     "output_type": "stream",
     "text": [
      "Moviepy - Done !\n",
      "Moviepy - video ready trimmed-dataset/cochlear implant.mp4\n",
      "J7tP98oDxqE\n",
      "Moviepy - Building video trimmed-dataset/book.mp4.\n",
      "MoviePy - Writing audio in bookTEMP_MPY_wvf_snd.mp3\n"
     ]
    },
    {
     "name": "stderr",
     "output_type": "stream",
     "text": [
      "                                                       \r"
     ]
    },
    {
     "name": "stdout",
     "output_type": "stream",
     "text": [
      "MoviePy - Done.\n",
      "Moviepy - Writing video trimmed-dataset/book.mp4\n",
      "\n"
     ]
    },
    {
     "name": "stderr",
     "output_type": "stream",
     "text": [
      "                                                             \r"
     ]
    },
    {
     "name": "stdout",
     "output_type": "stream",
     "text": [
      "Moviepy - Done !\n",
      "Moviepy - video ready trimmed-dataset/book.mp4\n",
      "jQb9NL9_S6U\n",
      "Moviepy - Building video trimmed-dataset/day.mp4.\n",
      "MoviePy - Writing audio in dayTEMP_MPY_wvf_snd.mp3\n"
     ]
    },
    {
     "name": "stderr",
     "output_type": "stream",
     "text": [
      "                                                       \r"
     ]
    },
    {
     "name": "stdout",
     "output_type": "stream",
     "text": [
      "MoviePy - Done.\n",
      "Moviepy - Writing video trimmed-dataset/day.mp4\n",
      "\n"
     ]
    },
    {
     "name": "stderr",
     "output_type": "stream",
     "text": [
      "                                                   \r"
     ]
    },
    {
     "name": "stdout",
     "output_type": "stream",
     "text": [
      "Moviepy - Done !\n",
      "Moviepy - video ready trimmed-dataset/day.mp4\n",
      "Moviepy - Building video trimmed-dataset/day.mp4.\n",
      "MoviePy - Writing audio in dayTEMP_MPY_wvf_snd.mp3\n"
     ]
    },
    {
     "name": "stderr",
     "output_type": "stream",
     "text": [
      "                                                       \r"
     ]
    },
    {
     "name": "stdout",
     "output_type": "stream",
     "text": [
      "MoviePy - Done.\n",
      "Moviepy - Writing video trimmed-dataset/day.mp4\n",
      "\n"
     ]
    },
    {
     "name": "stderr",
     "output_type": "stream",
     "text": [
      "                                                             \r"
     ]
    },
    {
     "name": "stdout",
     "output_type": "stream",
     "text": [
      "Moviepy - Done !\n",
      "Moviepy - video ready trimmed-dataset/day.mp4\n",
      "Moviepy - Building video trimmed-dataset/day.mp4.\n",
      "MoviePy - Writing audio in dayTEMP_MPY_wvf_snd.mp3\n"
     ]
    },
    {
     "name": "stderr",
     "output_type": "stream",
     "text": [
      "                                                       \r"
     ]
    },
    {
     "name": "stdout",
     "output_type": "stream",
     "text": [
      "MoviePy - Done.\n",
      "Moviepy - Writing video trimmed-dataset/day.mp4\n",
      "\n"
     ]
    },
    {
     "name": "stderr",
     "output_type": "stream",
     "text": [
      "                                                   \r"
     ]
    },
    {
     "name": "stdout",
     "output_type": "stream",
     "text": [
      "Moviepy - Done !\n",
      "Moviepy - video ready trimmed-dataset/day.mp4\n",
      "Moviepy - Building video trimmed-dataset/day.mp4.\n",
      "MoviePy - Writing audio in dayTEMP_MPY_wvf_snd.mp3\n"
     ]
    },
    {
     "name": "stderr",
     "output_type": "stream",
     "text": [
      "                                                       \r"
     ]
    },
    {
     "name": "stdout",
     "output_type": "stream",
     "text": [
      "MoviePy - Done.\n",
      "Moviepy - Writing video trimmed-dataset/day.mp4\n",
      "\n"
     ]
    },
    {
     "name": "stderr",
     "output_type": "stream",
     "text": [
      "                                                   \r"
     ]
    },
    {
     "name": "stdout",
     "output_type": "stream",
     "text": [
      "Moviepy - Done !\n",
      "Moviepy - video ready trimmed-dataset/day.mp4\n",
      "Moviepy - Building video trimmed-dataset/afternoon.mp4.\n",
      "MoviePy - Writing audio in afternoonTEMP_MPY_wvf_snd.mp3\n"
     ]
    },
    {
     "name": "stderr",
     "output_type": "stream",
     "text": [
      "                                                       \r"
     ]
    },
    {
     "name": "stdout",
     "output_type": "stream",
     "text": [
      "MoviePy - Done.\n",
      "Moviepy - Writing video trimmed-dataset/afternoon.mp4\n",
      "\n"
     ]
    },
    {
     "name": "stderr",
     "output_type": "stream",
     "text": [
      "                                                   \r"
     ]
    },
    {
     "name": "stdout",
     "output_type": "stream",
     "text": [
      "Moviepy - Done !\n",
      "Moviepy - video ready trimmed-dataset/afternoon.mp4\n",
      "Moviepy - Building video trimmed-dataset/afternoon.mp4.\n",
      "MoviePy - Writing audio in afternoonTEMP_MPY_wvf_snd.mp3\n"
     ]
    },
    {
     "name": "stderr",
     "output_type": "stream",
     "text": [
      "                                                       \r"
     ]
    },
    {
     "name": "stdout",
     "output_type": "stream",
     "text": [
      "MoviePy - Done.\n",
      "Moviepy - Writing video trimmed-dataset/afternoon.mp4\n",
      "\n"
     ]
    },
    {
     "name": "stderr",
     "output_type": "stream",
     "text": [
      "                                                             \r"
     ]
    },
    {
     "name": "stdout",
     "output_type": "stream",
     "text": [
      "Moviepy - Done !\n",
      "Moviepy - video ready trimmed-dataset/afternoon.mp4\n",
      "Moviepy - Building video trimmed-dataset/afternoon.mp4.\n",
      "MoviePy - Writing audio in afternoonTEMP_MPY_wvf_snd.mp3\n"
     ]
    },
    {
     "name": "stderr",
     "output_type": "stream",
     "text": [
      "                                                       \r"
     ]
    },
    {
     "name": "stdout",
     "output_type": "stream",
     "text": [
      "MoviePy - Done.\n",
      "Moviepy - Writing video trimmed-dataset/afternoon.mp4\n",
      "\n"
     ]
    },
    {
     "name": "stderr",
     "output_type": "stream",
     "text": [
      "                                                   \r"
     ]
    },
    {
     "name": "stdout",
     "output_type": "stream",
     "text": [
      "Moviepy - Done !\n",
      "Moviepy - video ready trimmed-dataset/afternoon.mp4\n",
      "Moviepy - Building video trimmed-dataset/happy.mp4.\n",
      "MoviePy - Writing audio in happyTEMP_MPY_wvf_snd.mp3\n"
     ]
    },
    {
     "name": "stderr",
     "output_type": "stream",
     "text": [
      "                                                       \r"
     ]
    },
    {
     "name": "stdout",
     "output_type": "stream",
     "text": [
      "MoviePy - Done.\n",
      "Moviepy - Writing video trimmed-dataset/happy.mp4\n",
      "\n"
     ]
    },
    {
     "name": "stderr",
     "output_type": "stream",
     "text": [
      "                                                             \r"
     ]
    },
    {
     "name": "stdout",
     "output_type": "stream",
     "text": [
      "Moviepy - Done !\n",
      "Moviepy - video ready trimmed-dataset/happy.mp4\n",
      "Moviepy - Building video trimmed-dataset/sad.mp4.\n",
      "MoviePy - Writing audio in sadTEMP_MPY_wvf_snd.mp3\n"
     ]
    },
    {
     "name": "stderr",
     "output_type": "stream",
     "text": [
      "                                                       \r"
     ]
    },
    {
     "name": "stdout",
     "output_type": "stream",
     "text": [
      "MoviePy - Done.\n",
      "Moviepy - Writing video trimmed-dataset/sad.mp4\n",
      "\n"
     ]
    },
    {
     "name": "stderr",
     "output_type": "stream",
     "text": [
      "                                                               \r"
     ]
    },
    {
     "name": "stdout",
     "output_type": "stream",
     "text": [
      "Moviepy - Done !\n",
      "Moviepy - video ready trimmed-dataset/sad.mp4\n",
      "Moviepy - Building video trimmed-dataset/sad.mp4.\n",
      "MoviePy - Writing audio in sadTEMP_MPY_wvf_snd.mp3\n"
     ]
    },
    {
     "name": "stderr",
     "output_type": "stream",
     "text": [
      "                                                                 \r"
     ]
    },
    {
     "name": "stdout",
     "output_type": "stream",
     "text": [
      "MoviePy - Done.\n",
      "Moviepy - Writing video trimmed-dataset/sad.mp4\n",
      "\n"
     ]
    },
    {
     "name": "stderr",
     "output_type": "stream",
     "text": [
      "                                                   \r"
     ]
    },
    {
     "name": "stdout",
     "output_type": "stream",
     "text": [
      "Moviepy - Done !\n",
      "Moviepy - video ready trimmed-dataset/sad.mp4\n",
      "Moviepy - Building video trimmed-dataset/nervous.mp4.\n",
      "MoviePy - Writing audio in nervousTEMP_MPY_wvf_snd.mp3\n"
     ]
    },
    {
     "name": "stderr",
     "output_type": "stream",
     "text": [
      "                                                       \r"
     ]
    },
    {
     "name": "stdout",
     "output_type": "stream",
     "text": [
      "MoviePy - Done.\n",
      "Moviepy - Writing video trimmed-dataset/nervous.mp4\n",
      "\n"
     ]
    },
    {
     "name": "stderr",
     "output_type": "stream",
     "text": [
      "                                                   \r"
     ]
    },
    {
     "name": "stdout",
     "output_type": "stream",
     "text": [
      "Moviepy - Done !\n",
      "Moviepy - video ready trimmed-dataset/nervous.mp4\n",
      "Moviepy - Building video trimmed-dataset/nervous.mp4.\n",
      "MoviePy - Writing audio in nervousTEMP_MPY_wvf_snd.mp3\n"
     ]
    },
    {
     "name": "stderr",
     "output_type": "stream",
     "text": [
      "                                                       \r"
     ]
    },
    {
     "name": "stdout",
     "output_type": "stream",
     "text": [
      "MoviePy - Done.\n",
      "Moviepy - Writing video trimmed-dataset/nervous.mp4\n",
      "\n"
     ]
    },
    {
     "name": "stderr",
     "output_type": "stream",
     "text": [
      "                                                   \r"
     ]
    },
    {
     "name": "stdout",
     "output_type": "stream",
     "text": [
      "Moviepy - Done !\n",
      "Moviepy - video ready trimmed-dataset/nervous.mp4\n",
      "Moviepy - Building video trimmed-dataset/upset.mp4.\n",
      "MoviePy - Writing audio in upsetTEMP_MPY_wvf_snd.mp3\n"
     ]
    },
    {
     "name": "stderr",
     "output_type": "stream",
     "text": [
      "                                                                    \r"
     ]
    },
    {
     "name": "stdout",
     "output_type": "stream",
     "text": [
      "MoviePy - Done.\n",
      "Moviepy - Writing video trimmed-dataset/upset.mp4\n",
      "\n"
     ]
    },
    {
     "name": "stderr",
     "output_type": "stream",
     "text": [
      "                                                               \r"
     ]
    },
    {
     "name": "stdout",
     "output_type": "stream",
     "text": [
      "Moviepy - Done !\n",
      "Moviepy - video ready trimmed-dataset/upset.mp4\n",
      "Moviepy - Building video trimmed-dataset/want.mp4.\n",
      "MoviePy - Writing audio in wantTEMP_MPY_wvf_snd.mp3\n"
     ]
    },
    {
     "name": "stderr",
     "output_type": "stream",
     "text": [
      "                                                                    \r"
     ]
    },
    {
     "name": "stdout",
     "output_type": "stream",
     "text": [
      "MoviePy - Done.\n",
      "Moviepy - Writing video trimmed-dataset/want.mp4\n",
      "\n"
     ]
    },
    {
     "name": "stderr",
     "output_type": "stream",
     "text": [
      "                                                               \r"
     ]
    },
    {
     "name": "stdout",
     "output_type": "stream",
     "text": [
      "Moviepy - Done !\n",
      "Moviepy - video ready trimmed-dataset/want.mp4\n",
      "Moviepy - Building video trimmed-dataset/know.mp4.\n",
      "MoviePy - Writing audio in knowTEMP_MPY_wvf_snd.mp3\n"
     ]
    },
    {
     "name": "stderr",
     "output_type": "stream",
     "text": [
      "                                                       \r"
     ]
    },
    {
     "name": "stdout",
     "output_type": "stream",
     "text": [
      "MoviePy - Done.\n",
      "Moviepy - Writing video trimmed-dataset/know.mp4\n",
      "\n"
     ]
    },
    {
     "name": "stderr",
     "output_type": "stream",
     "text": [
      "                                                             \r"
     ]
    },
    {
     "name": "stdout",
     "output_type": "stream",
     "text": [
      "Moviepy - Done !\n",
      "Moviepy - video ready trimmed-dataset/know.mp4\n",
      "Moviepy - Building video trimmed-dataset/know.mp4.\n",
      "MoviePy - Writing audio in knowTEMP_MPY_wvf_snd.mp3\n"
     ]
    },
    {
     "name": "stderr",
     "output_type": "stream",
     "text": [
      "                                                       \r"
     ]
    },
    {
     "name": "stdout",
     "output_type": "stream",
     "text": [
      "MoviePy - Done.\n",
      "Moviepy - Writing video trimmed-dataset/know.mp4\n",
      "\n"
     ]
    },
    {
     "name": "stderr",
     "output_type": "stream",
     "text": [
      "                                                   \r"
     ]
    },
    {
     "name": "stdout",
     "output_type": "stream",
     "text": [
      "Moviepy - Done !\n",
      "Moviepy - video ready trimmed-dataset/know.mp4\n",
      "Moviepy - Building video trimmed-dataset/must.mp4.\n",
      "MoviePy - Writing audio in mustTEMP_MPY_wvf_snd.mp3\n"
     ]
    },
    {
     "name": "stderr",
     "output_type": "stream",
     "text": [
      "                                                       \r"
     ]
    },
    {
     "name": "stdout",
     "output_type": "stream",
     "text": [
      "MoviePy - Done.\n",
      "Moviepy - Writing video trimmed-dataset/must.mp4\n",
      "\n"
     ]
    },
    {
     "name": "stderr",
     "output_type": "stream",
     "text": [
      "                                                             \r"
     ]
    },
    {
     "name": "stdout",
     "output_type": "stream",
     "text": [
      "Moviepy - Done !\n",
      "Moviepy - video ready trimmed-dataset/must.mp4\n",
      "Moviepy - Building video trimmed-dataset/how.mp4.\n",
      "MoviePy - Writing audio in howTEMP_MPY_wvf_snd.mp3\n"
     ]
    },
    {
     "name": "stderr",
     "output_type": "stream",
     "text": [
      "                                                                  \r"
     ]
    },
    {
     "name": "stdout",
     "output_type": "stream",
     "text": [
      "MoviePy - Done.\n",
      "Moviepy - Writing video trimmed-dataset/how.mp4\n",
      "\n"
     ]
    },
    {
     "name": "stderr",
     "output_type": "stream",
     "text": [
      "                                                               \r"
     ]
    },
    {
     "name": "stdout",
     "output_type": "stream",
     "text": [
      "Moviepy - Done !\n",
      "Moviepy - video ready trimmed-dataset/how.mp4\n",
      "Moviepy - Building video trimmed-dataset/wow.mp4.\n",
      "MoviePy - Writing audio in wowTEMP_MPY_wvf_snd.mp3\n"
     ]
    },
    {
     "name": "stderr",
     "output_type": "stream",
     "text": [
      "                                                                  \r"
     ]
    },
    {
     "name": "stdout",
     "output_type": "stream",
     "text": [
      "MoviePy - Done.\n",
      "Moviepy - Writing video trimmed-dataset/wow.mp4\n",
      "\n"
     ]
    },
    {
     "name": "stderr",
     "output_type": "stream",
     "text": [
      "                                                               \r"
     ]
    },
    {
     "name": "stdout",
     "output_type": "stream",
     "text": [
      "Moviepy - Done !\n",
      "Moviepy - video ready trimmed-dataset/wow.mp4\n",
      "Moviepy - Building video trimmed-dataset/wow.mp4.\n",
      "MoviePy - Writing audio in wowTEMP_MPY_wvf_snd.mp3\n"
     ]
    },
    {
     "name": "stderr",
     "output_type": "stream",
     "text": [
      "                                                       \r"
     ]
    },
    {
     "name": "stdout",
     "output_type": "stream",
     "text": [
      "MoviePy - Done.\n",
      "Moviepy - Writing video trimmed-dataset/wow.mp4\n",
      "\n"
     ]
    },
    {
     "name": "stderr",
     "output_type": "stream",
     "text": [
      "                                                             \r"
     ]
    },
    {
     "name": "stdout",
     "output_type": "stream",
     "text": [
      "Moviepy - Done !\n",
      "Moviepy - video ready trimmed-dataset/wow.mp4\n",
      "Moviepy - Building video trimmed-dataset/pass.mp4.\n",
      "MoviePy - Writing audio in passTEMP_MPY_wvf_snd.mp3\n"
     ]
    },
    {
     "name": "stderr",
     "output_type": "stream",
     "text": [
      "                                                       \r"
     ]
    },
    {
     "name": "stdout",
     "output_type": "stream",
     "text": [
      "MoviePy - Done.\n",
      "Moviepy - Writing video trimmed-dataset/pass.mp4\n",
      "\n"
     ]
    },
    {
     "name": "stderr",
     "output_type": "stream",
     "text": [
      "                                                   \r"
     ]
    },
    {
     "name": "stdout",
     "output_type": "stream",
     "text": [
      "Moviepy - Done !\n",
      "Moviepy - video ready trimmed-dataset/pass.mp4\n",
      "Moviepy - Building video trimmed-dataset/pass.mp4.\n",
      "MoviePy - Writing audio in passTEMP_MPY_wvf_snd.mp3\n"
     ]
    },
    {
     "name": "stderr",
     "output_type": "stream",
     "text": [
      "                                                        \r"
     ]
    },
    {
     "name": "stdout",
     "output_type": "stream",
     "text": [
      "MoviePy - Done.\n",
      "Moviepy - Writing video trimmed-dataset/pass.mp4\n",
      "\n"
     ]
    },
    {
     "name": "stderr",
     "output_type": "stream",
     "text": [
      "                                                               \r"
     ]
    },
    {
     "name": "stdout",
     "output_type": "stream",
     "text": [
      "Moviepy - Done !\n",
      "Moviepy - video ready trimmed-dataset/pass.mp4\n",
      "jrQalROeZtg\n",
      "Moviepy - Building video trimmed-dataset/university.mp4.\n",
      "MoviePy - Writing audio in universityTEMP_MPY_wvf_snd.mp3\n"
     ]
    },
    {
     "name": "stderr",
     "output_type": "stream",
     "text": [
      "                                                       \r"
     ]
    },
    {
     "name": "stdout",
     "output_type": "stream",
     "text": [
      "MoviePy - Done.\n",
      "Moviepy - Writing video trimmed-dataset/university.mp4\n",
      "\n"
     ]
    },
    {
     "name": "stderr",
     "output_type": "stream",
     "text": [
      "                                                             \r"
     ]
    },
    {
     "name": "stdout",
     "output_type": "stream",
     "text": [
      "Moviepy - Done !\n",
      "Moviepy - video ready trimmed-dataset/university.mp4\n",
      "N2mG9ZKjrGA\n",
      "Moviepy - Building video trimmed-dataset/sign language.mp4.\n",
      "MoviePy - Writing audio in sign languageTEMP_MPY_wvf_snd.mp3\n"
     ]
    },
    {
     "name": "stderr",
     "output_type": "stream",
     "text": [
      "                                                       \r"
     ]
    },
    {
     "name": "stdout",
     "output_type": "stream",
     "text": [
      "MoviePy - Done.\n",
      "Moviepy - Writing video trimmed-dataset/sign language.mp4\n",
      "\n"
     ]
    },
    {
     "name": "stderr",
     "output_type": "stream",
     "text": [
      "                                                             \r"
     ]
    },
    {
     "name": "stdout",
     "output_type": "stream",
     "text": [
      "Moviepy - Done !\n",
      "Moviepy - video ready trimmed-dataset/sign language.mp4\n",
      "NBqpHJiufXU\n",
      "Moviepy - Building video trimmed-dataset/sick.mp4.\n",
      "MoviePy - Writing audio in sickTEMP_MPY_wvf_snd.mp3\n"
     ]
    },
    {
     "name": "stderr",
     "output_type": "stream",
     "text": [
      "                                                       \r"
     ]
    },
    {
     "name": "stdout",
     "output_type": "stream",
     "text": [
      "MoviePy - Done.\n",
      "Moviepy - Writing video trimmed-dataset/sick.mp4\n",
      "\n"
     ]
    },
    {
     "name": "stderr",
     "output_type": "stream",
     "text": [
      "                                                             \r"
     ]
    },
    {
     "name": "stdout",
     "output_type": "stream",
     "text": [
      "Moviepy - Done !\n",
      "Moviepy - video ready trimmed-dataset/sick.mp4\n",
      "NNZD9RAgL4w\n",
      "Moviepy - Building video trimmed-dataset/puerto rico.mp4.\n",
      "MoviePy - Writing audio in puerto ricoTEMP_MPY_wvf_snd.mp3\n"
     ]
    },
    {
     "name": "stderr",
     "output_type": "stream",
     "text": [
      "                                                       \r"
     ]
    },
    {
     "name": "stdout",
     "output_type": "stream",
     "text": [
      "MoviePy - Done.\n",
      "Moviepy - Writing video trimmed-dataset/puerto rico.mp4\n",
      "\n"
     ]
    },
    {
     "name": "stderr",
     "output_type": "stream",
     "text": [
      "                                                             \r"
     ]
    },
    {
     "name": "stdout",
     "output_type": "stream",
     "text": [
      "Moviepy - Done !\n",
      "Moviepy - video ready trimmed-dataset/puerto rico.mp4\n",
      "pAoM56DCisM\n",
      "Moviepy - Building video trimmed-dataset/clock.mp4.\n",
      "MoviePy - Writing audio in clockTEMP_MPY_wvf_snd.mp3\n"
     ]
    },
    {
     "name": "stderr",
     "output_type": "stream",
     "text": [
      "                                                       \r"
     ]
    },
    {
     "name": "stdout",
     "output_type": "stream",
     "text": [
      "MoviePy - Done.\n",
      "Moviepy - Writing video trimmed-dataset/clock.mp4\n",
      "\n"
     ]
    },
    {
     "name": "stderr",
     "output_type": "stream",
     "text": [
      "                                                             \r"
     ]
    },
    {
     "name": "stdout",
     "output_type": "stream",
     "text": [
      "Moviepy - Done !\n",
      "Moviepy - video ready trimmed-dataset/clock.mp4\n",
      "PIfDfi4Qx60\n",
      "Moviepy - Building video trimmed-dataset/hong kong.mp4.\n",
      "MoviePy - Writing audio in hong kongTEMP_MPY_wvf_snd.mp3\n"
     ]
    },
    {
     "name": "stderr",
     "output_type": "stream",
     "text": [
      "                                                       \r"
     ]
    },
    {
     "name": "stdout",
     "output_type": "stream",
     "text": [
      "MoviePy - Done.\n",
      "Moviepy - Writing video trimmed-dataset/hong kong.mp4\n",
      "\n"
     ]
    },
    {
     "name": "stderr",
     "output_type": "stream",
     "text": [
      "                                                             \r"
     ]
    },
    {
     "name": "stdout",
     "output_type": "stream",
     "text": [
      "Moviepy - Done !\n",
      "Moviepy - video ready trimmed-dataset/hong kong.mp4\n",
      "PIsUJl8BN_I\n",
      "Moviepy - Building video trimmed-dataset/fail.mp4.\n",
      "MoviePy - Writing audio in failTEMP_MPY_wvf_snd.mp3\n"
     ]
    },
    {
     "name": "stderr",
     "output_type": "stream",
     "text": [
      "                                                       \r"
     ]
    },
    {
     "name": "stdout",
     "output_type": "stream",
     "text": [
      "MoviePy - Done.\n",
      "Moviepy - Writing video trimmed-dataset/fail.mp4\n",
      "\n"
     ]
    },
    {
     "name": "stderr",
     "output_type": "stream",
     "text": [
      "                                                             \r"
     ]
    },
    {
     "name": "stdout",
     "output_type": "stream",
     "text": [
      "Moviepy - Done !\n",
      "Moviepy - video ready trimmed-dataset/fail.mp4\n",
      "S2cqitZ0qes\n",
      "Moviepy - Building video trimmed-dataset/library.mp4.\n",
      "MoviePy - Writing audio in libraryTEMP_MPY_wvf_snd.mp3\n"
     ]
    },
    {
     "name": "stderr",
     "output_type": "stream",
     "text": [
      "                                                       \r"
     ]
    },
    {
     "name": "stdout",
     "output_type": "stream",
     "text": [
      "MoviePy - Done.\n",
      "Moviepy - Writing video trimmed-dataset/library.mp4\n",
      "\n"
     ]
    },
    {
     "name": "stderr",
     "output_type": "stream",
     "text": [
      "                                                             \r"
     ]
    },
    {
     "name": "stdout",
     "output_type": "stream",
     "text": [
      "Moviepy - Done !\n",
      "Moviepy - video ready trimmed-dataset/library.mp4\n",
      "sKbKzPIaFNA\n",
      "Moviepy - Building video trimmed-dataset/letter.mp4.\n",
      "MoviePy - Writing audio in letterTEMP_MPY_wvf_snd.mp3\n"
     ]
    },
    {
     "name": "stderr",
     "output_type": "stream",
     "text": [
      "                                                       \r"
     ]
    },
    {
     "name": "stdout",
     "output_type": "stream",
     "text": [
      "MoviePy - Done.\n",
      "Moviepy - Writing video trimmed-dataset/letter.mp4\n",
      "\n"
     ]
    },
    {
     "name": "stderr",
     "output_type": "stream",
     "text": [
      "                                                             \r"
     ]
    },
    {
     "name": "stdout",
     "output_type": "stream",
     "text": [
      "Moviepy - Done !\n",
      "Moviepy - video ready trimmed-dataset/letter.mp4\n",
      "SVWABYmFdhs\n",
      "Moviepy - Building video trimmed-dataset/easter.mp4.\n",
      "MoviePy - Writing audio in easterTEMP_MPY_wvf_snd.mp3\n"
     ]
    },
    {
     "name": "stderr",
     "output_type": "stream",
     "text": [
      "                                                       \r"
     ]
    },
    {
     "name": "stdout",
     "output_type": "stream",
     "text": [
      "MoviePy - Done.\n",
      "Moviepy - Writing video trimmed-dataset/easter.mp4\n",
      "\n"
     ]
    },
    {
     "name": "stderr",
     "output_type": "stream",
     "text": [
      "                                                             \r"
     ]
    },
    {
     "name": "stdout",
     "output_type": "stream",
     "text": [
      "Moviepy - Done !\n",
      "Moviepy - video ready trimmed-dataset/easter.mp4\n",
      "V_dT923VQ70\n",
      "Moviepy - Building video trimmed-dataset/important.mp4.\n",
      "MoviePy - Writing audio in importantTEMP_MPY_wvf_snd.mp3\n"
     ]
    },
    {
     "name": "stderr",
     "output_type": "stream",
     "text": [
      "                                                       \r"
     ]
    },
    {
     "name": "stdout",
     "output_type": "stream",
     "text": [
      "MoviePy - Done.\n",
      "Moviepy - Writing video trimmed-dataset/important.mp4\n",
      "\n"
     ]
    },
    {
     "name": "stderr",
     "output_type": "stream",
     "text": [
      "                                                             \r"
     ]
    },
    {
     "name": "stdout",
     "output_type": "stream",
     "text": [
      "Moviepy - Done !\n",
      "Moviepy - video ready trimmed-dataset/important.mp4\n",
      "WeAFuzYTdtU\n",
      "Moviepy - Building video trimmed-dataset/rainbow.mp4.\n",
      "MoviePy - Writing audio in rainbowTEMP_MPY_wvf_snd.mp3\n"
     ]
    },
    {
     "name": "stderr",
     "output_type": "stream",
     "text": [
      "                                                       \r"
     ]
    },
    {
     "name": "stdout",
     "output_type": "stream",
     "text": [
      "MoviePy - Done.\n",
      "Moviepy - Writing video trimmed-dataset/rainbow.mp4\n",
      "\n"
     ]
    },
    {
     "name": "stderr",
     "output_type": "stream",
     "text": [
      "                                                             \r"
     ]
    },
    {
     "name": "stdout",
     "output_type": "stream",
     "text": [
      "Moviepy - Done !\n",
      "Moviepy - video ready trimmed-dataset/rainbow.mp4\n",
      "Moviepy - Building video trimmed-dataset/rainbow.mp4.\n",
      "MoviePy - Writing audio in rainbowTEMP_MPY_wvf_snd.mp3\n"
     ]
    },
    {
     "name": "stderr",
     "output_type": "stream",
     "text": [
      "                                                                 \r"
     ]
    },
    {
     "name": "stdout",
     "output_type": "stream",
     "text": [
      "MoviePy - Done.\n",
      "Moviepy - Writing video trimmed-dataset/rainbow.mp4\n",
      "\n"
     ]
    },
    {
     "name": "stderr",
     "output_type": "stream",
     "text": [
      "                                                             \r"
     ]
    },
    {
     "name": "stdout",
     "output_type": "stream",
     "text": [
      "Moviepy - Done !\n",
      "Moviepy - video ready trimmed-dataset/rainbow.mp4\n",
      "Moviepy - Building video trimmed-dataset/rainbow.mp4.\n",
      "MoviePy - Writing audio in rainbowTEMP_MPY_wvf_snd.mp3\n"
     ]
    },
    {
     "name": "stderr",
     "output_type": "stream",
     "text": [
      "                                                                  \r"
     ]
    },
    {
     "name": "stdout",
     "output_type": "stream",
     "text": [
      "MoviePy - Done.\n",
      "Moviepy - Writing video trimmed-dataset/rainbow.mp4\n",
      "\n"
     ]
    },
    {
     "name": "stderr",
     "output_type": "stream",
     "text": [
      "                                                               \r"
     ]
    },
    {
     "name": "stdout",
     "output_type": "stream",
     "text": [
      "Moviepy - Done !\n",
      "Moviepy - video ready trimmed-dataset/rainbow.mp4\n",
      "XCiFsGrb_Nk\n",
      "Moviepy - Building video trimmed-dataset/shock.mp4.\n",
      "MoviePy - Writing audio in shockTEMP_MPY_wvf_snd.mp3\n"
     ]
    },
    {
     "name": "stderr",
     "output_type": "stream",
     "text": [
      "                                                       \r"
     ]
    },
    {
     "name": "stdout",
     "output_type": "stream",
     "text": [
      "MoviePy - Done.\n",
      "Moviepy - Writing video trimmed-dataset/shock.mp4\n",
      "\n"
     ]
    },
    {
     "name": "stderr",
     "output_type": "stream",
     "text": [
      "                                                             \r"
     ]
    },
    {
     "name": "stdout",
     "output_type": "stream",
     "text": [
      "Moviepy - Done !\n",
      "Moviepy - video ready trimmed-dataset/shock.mp4\n",
      "Y5q-PccHNHo\n",
      "Moviepy - Building video trimmed-dataset/think.mp4.\n",
      "MoviePy - Writing audio in thinkTEMP_MPY_wvf_snd.mp3\n"
     ]
    },
    {
     "name": "stderr",
     "output_type": "stream",
     "text": [
      "                                                       \r"
     ]
    },
    {
     "name": "stdout",
     "output_type": "stream",
     "text": [
      "MoviePy - Done.\n",
      "Moviepy - Writing video trimmed-dataset/think.mp4\n",
      "\n"
     ]
    },
    {
     "name": "stderr",
     "output_type": "stream",
     "text": [
      "                                                             \r"
     ]
    },
    {
     "name": "stdout",
     "output_type": "stream",
     "text": [
      "Moviepy - Done !\n",
      "Moviepy - video ready trimmed-dataset/think.mp4\n",
      "_HOx2QkkTsg\n",
      "Moviepy - Building video trimmed-dataset/teacher.mp4.\n",
      "MoviePy - Writing audio in teacherTEMP_MPY_wvf_snd.mp3\n"
     ]
    },
    {
     "name": "stderr",
     "output_type": "stream",
     "text": [
      "                                                       \r"
     ]
    },
    {
     "name": "stdout",
     "output_type": "stream",
     "text": [
      "MoviePy - Done.\n",
      "Moviepy - Writing video trimmed-dataset/teacher.mp4\n",
      "\n"
     ]
    },
    {
     "name": "stderr",
     "output_type": "stream",
     "text": [
      "                                                   \r"
     ]
    },
    {
     "name": "stdout",
     "output_type": "stream",
     "text": [
      "Moviepy - Done !\n",
      "Moviepy - video ready trimmed-dataset/teacher.mp4\n",
      "Moviepy - Building video trimmed-dataset/teacher.mp4.\n",
      "MoviePy - Writing audio in teacherTEMP_MPY_wvf_snd.mp3\n"
     ]
    },
    {
     "name": "stderr",
     "output_type": "stream",
     "text": [
      "                                                       \r"
     ]
    },
    {
     "name": "stdout",
     "output_type": "stream",
     "text": [
      "MoviePy - Done.\n",
      "Moviepy - Writing video trimmed-dataset/teacher.mp4\n",
      "\n"
     ]
    },
    {
     "name": "stderr",
     "output_type": "stream",
     "text": [
      "                                                   \r"
     ]
    },
    {
     "name": "stdout",
     "output_type": "stream",
     "text": [
      "Moviepy - Done !\n",
      "Moviepy - video ready trimmed-dataset/teacher.mp4\n"
     ]
    }
   ],
   "source": [
    "\n",
    "\n",
    "\n",
    "# Get a list of all mp4 files in the folder\n",
    "files = os.listdir(folder_path + dataset_path)\n",
    "\n",
    "videonames = []\n",
    "availableVideos = []\n",
    "# trimmed_folder_path = 'D:/University/Y3/AITT/ActionDetectionforSignLanguage/trimmed-dataset'\n",
    "file_extension = 'mp4'\n",
    "\n",
    "async def getDatasetNames():\n",
    "# Print the list of dataset files\n",
    "    for file in files:\n",
    "        videonames.append(os.path.splitext(file)[0])\n",
    "\n",
    "# Get a list of all mp4 files in trimmed_dataset\n",
    "trimmedFiles = os.listdir(folder_path + trimmed_dataset_path)\n",
    "        \n",
    "trimmedVideoNames = []\n",
    "\n",
    "async def getTrimmedDatasetNames():\n",
    "    # Print the list of files\n",
    "    for file in trimmedFiles:\n",
    "        trimmedVideoNames.append(os.path.splitext(file)[0])\n",
    "        \n",
    "def trimVid(name, segments):\n",
    "    print(name)\n",
    "    getTrimmedDatasetNames()\n",
    "    for i in segments:\n",
    "        outputName = i[0]\n",
    "        startTime = i[1]\n",
    "        endTime = i[2]\n",
    "        video = VideoFileClip(dataset_path + name +\".mp4\").subclip(startTime, endTime)\n",
    "        # check if file exists in trimmed-dataset\n",
    "        if any([outputName in trimmedVideoNames]):\n",
    "            print('file exists')\n",
    "            print('I should be merging ' + outputName)\n",
    "            video_2 = VideoFileClip(trimmed_dataset_path + outputName +\".mp4\")\n",
    "            finalvideo = concatenate_videoclips([video, video_2])\n",
    "            finalvideo.write_videofile(trimmed_dataset_path + outputName + \".mp4\", fps=25)\n",
    "        else:\n",
    "            video.write_videofile(trimmed_dataset_path + outputName + \".mp4\", fps=25)\n",
    "\n",
    "async def vidController():\n",
    "    await getDatasetNames()\n",
    "    \n",
    "\n",
    "asyncio.run(vidController())\n",
    "\n",
    "# Multithreaded\n",
    "def worker(q):\n",
    "    while True:\n",
    "        item = q.get()\n",
    "        if item is None:\n",
    "            break\n",
    "        # Your code to process the item here\n",
    "        q.task_done()\n",
    "\n",
    "q = Queue()\n",
    "threads = []\n",
    "for i in range(num_worker_threads):\n",
    "    t = Thread(target=worker, args=(q,))\n",
    "    t.start()\n",
    "    threads.append(t)\n",
    "\n",
    "# Your code to add items to the queue here\n",
    "for name in videonames:\n",
    "    q.put(trimVid(name, fileLookup[name]))\n",
    "    q.task_done()\n",
    "\n",
    "# Block until all tasks are done\n",
    "q.join()\n",
    "\n",
    "# Stop workers\n",
    "for i in range(num_worker_threads):\n",
    "    q.put(None)\n",
    "for t in threads:\n",
    "    t.join()\n",
    "\n"
   ]
  },
  {
   "attachments": {},
   "cell_type": "markdown",
   "metadata": {},
   "source": []
  }
 ],
 "metadata": {
  "kernelspec": {
   "display_name": "base",
   "language": "python",
   "name": "python3"
  },
  "language_info": {
   "codemirror_mode": {
    "name": "ipython",
    "version": 3
   },
   "file_extension": ".py",
   "mimetype": "text/x-python",
   "name": "python",
   "nbconvert_exporter": "python",
   "pygments_lexer": "ipython3",
   "version": "3.10.9"
  },
  "orig_nbformat": 4
 },
 "nbformat": 4,
 "nbformat_minor": 2
}
