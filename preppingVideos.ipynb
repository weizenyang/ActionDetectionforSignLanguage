{
 "cells": [
  {
   "cell_type": "code",
   "execution_count": null,
   "metadata": {},
   "outputs": [],
   "source": [
    "folder_path = 'D:/University/Y3/AITT/ActionDetectionforSignLanguage/'\n",
    "file_extension = 'mp4'\n",
    "\n",
    "# output paths\n",
    "dataset_path = '/dataset/'\n",
    "trimmed_dataset_path = '/trimmed-dataset/'\n",
    "\n",
    "files = os.listdir(folder_path + dataset_path)"
   ]
  }
 ],
 "metadata": {
  "language_info": {
   "name": "python"
  },
  "orig_nbformat": 4
 },
 "nbformat": 4,
 "nbformat_minor": 2
}
